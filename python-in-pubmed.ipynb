{
 "metadata": {
  "name": ""
 },
 "nbformat": 3,
 "nbformat_minor": 0,
 "worksheets": [
  {
   "cells": [
    {
     "cell_type": "markdown",
     "metadata": {},
     "source": [
      "# Repofish\n",
      "The idea behind repofish is that a code repository is a rich source of information to understand how methods are used. In fact, I think that we can treat a repo with code (from one or more languages) equivalently to the way that we (researchers) treat and study pubmed articles: \n",
      "\n",
      "- Text: the \"text\" is the code across files (and perhaps there is another level of treating the different files as different documents, but for now we can treat the entire repo as a combined text input). What is harder to map in this metaphor is the \"context\" of a code document. The \"context\" of a function is probably best described based on other functions that are close to it, so to start what we can do is simply look at co-occurrence. \n",
      "- Words: without any filtering, the \"words\" would encompass every written word (variables, function and class names, etc) in absence of operators. We obviously want to do better than this, because each language is going to have the equivalent of stopwords. This means that each language (based on the script extension) will need parsing to determine stopwords, and remove them. \n",
      "- Meta-data: We likely can obtain meta data about what the repo is intended for based on parsing README.md.\n",
      "\n",
      "To start, I have written functions to parse python import statements from Github repos cited in Pubmed Central papers. I am interested in how these functions differ between different journals, and keywords. "
     ]
    },
    {
     "cell_type": "code",
     "collapsed": false,
     "input": [
      "import matplotlib.pylab as plt\n",
      "%matplotlib inline\n",
      "import pandas\n",
      "import numpy\n",
      "import pickle\n",
      "import json\n",
      "import re\n",
      "\n",
      "# Read in data files\n",
      "functions = pandas.read_csv(\"data/pmc_functions.tsv\",sep=\"\\t\",index_col=0)\n",
      "journals = json.load(open(\"data/journal_lookup.json\",\"r\"))\n",
      "keywords = json.load(open(\"data/keyword_lookup.json\",\"r\"))\n",
      "nodes = pickle.load(open(\"data/packages.nodes.pkl\",\"r\"))\n",
      "links = pickle.load(open(\"data/packages.links.pkl\",\"r\"))"
     ],
     "language": "python",
     "metadata": {},
     "outputs": [],
     "prompt_number": 18
    },
    {
     "cell_type": "code",
     "collapsed": false,
     "input": [
      "# Let's take a look at our data\n",
      "functions"
     ],
     "language": "python",
     "metadata": {},
     "outputs": [
      {
       "html": [
        "<div style=\"max-width:1500px;overflow:auto;\">\n",
        "<table border=\"1\" class=\"dataframe\">\n",
        "  <thead>\n",
        "    <tr style=\"text-align: right;\">\n",
        "      <th></th>\n",
        "      <th>doi</th>\n",
        "      <th>filename</th>\n",
        "      <th>function_name</th>\n",
        "      <th>import_as</th>\n",
        "      <th>module_name</th>\n",
        "      <th>repo_name</th>\n",
        "      <th>user_name</th>\n",
        "    </tr>\n",
        "  </thead>\n",
        "  <tbody>\n",
        "    <tr>\n",
        "      <th>smart_sample_apps_manage.py_0</th>\n",
        "      <td>23876796</td>\n",
        "      <td>manage.py</td>\n",
        "      <td>execute_manager</td>\n",
        "      <td>execute_manager</td>\n",
        "      <td>django.core.management</td>\n",
        "      <td>smart_sample_apps</td>\n",
        "      <td>chb</td>\n",
        "    </tr>\n",
        "    <tr>\n",
        "      <th>smart_sample_apps_manage.py_1</th>\n",
        "      <td>23876796</td>\n",
        "      <td>manage.py</td>\n",
        "      <td>settings</td>\n",
        "      <td>settings</td>\n",
        "      <td>settings</td>\n",
        "      <td>smart_sample_apps</td>\n",
        "      <td>chb</td>\n",
        "    </tr>\n",
        "    <tr>\n",
        "      <th>smart_sample_apps_manage.py_2</th>\n",
        "      <td>23876796</td>\n",
        "      <td>manage.py</td>\n",
        "      <td>sys</td>\n",
        "      <td>sys</td>\n",
        "      <td>sys</td>\n",
        "      <td>smart_sample_apps</td>\n",
        "      <td>chb</td>\n",
        "    </tr>\n",
        "    <tr>\n",
        "      <th>smart_sample_apps_urls.py_0</th>\n",
        "      <td>23876796</td>\n",
        "      <td>urls.py</td>\n",
        "      <td>HttpResponse</td>\n",
        "      <td>HttpResponse</td>\n",
        "      <td>django.http</td>\n",
        "      <td>smart_sample_apps</td>\n",
        "      <td>chb</td>\n",
        "    </tr>\n",
        "    <tr>\n",
        "      <th>smart_sample_apps_urls.py_1</th>\n",
        "      <td>23876796</td>\n",
        "      <td>urls.py</td>\n",
        "      <td>*</td>\n",
        "      <td>*</td>\n",
        "      <td>django.conf.urls.defaults</td>\n",
        "      <td>smart_sample_apps</td>\n",
        "      <td>chb</td>\n",
        "    </tr>\n",
        "    <tr>\n",
        "      <th>smart_sample_apps_urls.py_2</th>\n",
        "      <td>23876796</td>\n",
        "      <td>urls.py</td>\n",
        "      <td>settings</td>\n",
        "      <td>settings</td>\n",
        "      <td>django.conf</td>\n",
        "      <td>smart_sample_apps</td>\n",
        "      <td>chb</td>\n",
        "    </tr>\n",
        "    <tr>\n",
        "      <th>smart_sample_apps_exception.py_0</th>\n",
        "      <td>23876796</td>\n",
        "      <td>exception.py</td>\n",
        "      <td>sys</td>\n",
        "      <td>sys</td>\n",
        "      <td>sys</td>\n",
        "      <td>smart_sample_apps</td>\n",
        "      <td>chb</td>\n",
        "    </tr>\n",
        "    <tr>\n",
        "      <th>smart_sample_apps_exception.py_1</th>\n",
        "      <td>23876796</td>\n",
        "      <td>exception.py</td>\n",
        "      <td>traceback</td>\n",
        "      <td>traceback</td>\n",
        "      <td>traceback</td>\n",
        "      <td>smart_sample_apps</td>\n",
        "      <td>chb</td>\n",
        "    </tr>\n",
        "    <tr>\n",
        "      <th>smart_sample_apps_reminder.py_0</th>\n",
        "      <td>23876796</td>\n",
        "      <td>reminder.py</td>\n",
        "      <td>sys</td>\n",
        "      <td>sys</td>\n",
        "      <td>sys</td>\n",
        "      <td>smart_sample_apps</td>\n",
        "      <td>chb</td>\n",
        "    </tr>\n",
        "    <tr>\n",
        "      <th>smart_sample_apps_reminder.py_1</th>\n",
        "      <td>23876796</td>\n",
        "      <td>reminder.py</td>\n",
        "      <td>os</td>\n",
        "      <td>os</td>\n",
        "      <td>os</td>\n",
        "      <td>smart_sample_apps</td>\n",
        "      <td>chb</td>\n",
        "    </tr>\n",
        "    <tr>\n",
        "      <th>smart_sample_apps_reminder.py_2</th>\n",
        "      <td>23876796</td>\n",
        "      <td>reminder.py</td>\n",
        "      <td>web</td>\n",
        "      <td>web</td>\n",
        "      <td>web</td>\n",
        "      <td>smart_sample_apps</td>\n",
        "      <td>chb</td>\n",
        "    </tr>\n",
        "    <tr>\n",
        "      <th>smart_sample_apps_reminder.py_3</th>\n",
        "      <td>23876796</td>\n",
        "      <td>reminder.py</td>\n",
        "      <td>urllib</td>\n",
        "      <td>urllib</td>\n",
        "      <td>urllib</td>\n",
        "      <td>smart_sample_apps</td>\n",
        "      <td>chb</td>\n",
        "    </tr>\n",
        "    <tr>\n",
        "      <th>smart_sample_apps_reminder.py_4</th>\n",
        "      <td>23876796</td>\n",
        "      <td>reminder.py</td>\n",
        "      <td>datetime</td>\n",
        "      <td>datetime</td>\n",
        "      <td>datetime</td>\n",
        "      <td>smart_sample_apps</td>\n",
        "      <td>chb</td>\n",
        "    </tr>\n",
        "    <tr>\n",
        "      <th>smart_sample_apps_reminder.py_5</th>\n",
        "      <td>23876796</td>\n",
        "      <td>reminder.py</td>\n",
        "      <td>smart_client</td>\n",
        "      <td>smart_client</td>\n",
        "      <td>smart_client</td>\n",
        "      <td>smart_sample_apps</td>\n",
        "      <td>chb</td>\n",
        "    </tr>\n",
        "    <tr>\n",
        "      <th>smart_sample_apps_reminder.py_6</th>\n",
        "      <td>23876796</td>\n",
        "      <td>reminder.py</td>\n",
        "      <td>oauth</td>\n",
        "      <td>oauth</td>\n",
        "      <td>smart_client</td>\n",
        "      <td>smart_sample_apps</td>\n",
        "      <td>chb</td>\n",
        "    </tr>\n",
        "    <tr>\n",
        "      <th>smart_sample_apps_reminder.py_7</th>\n",
        "      <td>23876796</td>\n",
        "      <td>reminder.py</td>\n",
        "      <td>SmartClient</td>\n",
        "      <td>SmartClient</td>\n",
        "      <td>smart_client.smart</td>\n",
        "      <td>smart_sample_apps</td>\n",
        "      <td>chb</td>\n",
        "    </tr>\n",
        "    <tr>\n",
        "      <th>smart_sample_apps_reminder.py_8</th>\n",
        "      <td>23876796</td>\n",
        "      <td>reminder.py</td>\n",
        "      <td>serialize_rdf</td>\n",
        "      <td>serialize_rdf</td>\n",
        "      <td>smart_client.common.rdf_tools.util</td>\n",
        "      <td>smart_sample_apps</td>\n",
        "      <td>chb</td>\n",
        "    </tr>\n",
        "    <tr>\n",
        "      <th>smart_sample_apps_query_builder.py_0</th>\n",
        "      <td>23876796</td>\n",
        "      <td>query_builder.py</td>\n",
        "      <td>copy</td>\n",
        "      <td>copy</td>\n",
        "      <td>copy</td>\n",
        "      <td>smart_sample_apps</td>\n",
        "      <td>chb</td>\n",
        "    </tr>\n",
        "    <tr>\n",
        "      <th>smart_sample_apps_query_builder.py_1</th>\n",
        "      <td>23876796</td>\n",
        "      <td>query_builder.py</td>\n",
        "      <td>APP_PATH</td>\n",
        "      <td>APP_PATH</td>\n",
        "      <td>settings</td>\n",
        "      <td>smart_sample_apps</td>\n",
        "      <td>chb</td>\n",
        "    </tr>\n",
        "    <tr>\n",
        "      <th>smart_sample_apps_query_builder.py_2</th>\n",
        "      <td>23876796</td>\n",
        "      <td>query_builder.py</td>\n",
        "      <td>DOC_BASE</td>\n",
        "      <td>DOC_BASE</td>\n",
        "      <td>settings</td>\n",
        "      <td>smart_sample_apps</td>\n",
        "      <td>chb</td>\n",
        "    </tr>\n",
        "    <tr>\n",
        "      <th>smart_sample_apps_query_builder.py_3</th>\n",
        "      <td>23876796</td>\n",
        "      <td>query_builder.py</td>\n",
        "      <td>ONTOLOGY_PATH</td>\n",
        "      <td>ONTOLOGY_PATH</td>\n",
        "      <td>settings</td>\n",
        "      <td>smart_sample_apps</td>\n",
        "      <td>chb</td>\n",
        "    </tr>\n",
        "    <tr>\n",
        "      <th>smart_sample_apps_query_builder.py_4</th>\n",
        "      <td>23876796</td>\n",
        "      <td>query_builder.py</td>\n",
        "      <td>rdf_ontology</td>\n",
        "      <td>rdf_ontology</td>\n",
        "      <td>smart_client.common.rdf_tools</td>\n",
        "      <td>smart_sample_apps</td>\n",
        "      <td>chb</td>\n",
        "    </tr>\n",
        "    <tr>\n",
        "      <th>smart_sample_apps_query_builder.py_5</th>\n",
        "      <td>23876796</td>\n",
        "      <td>query_builder.py</td>\n",
        "      <td>NS</td>\n",
        "      <td>NS</td>\n",
        "      <td>smart_client.common.rdf_tools.util</td>\n",
        "      <td>smart_sample_apps</td>\n",
        "      <td>chb</td>\n",
        "    </tr>\n",
        "    <tr>\n",
        "      <th>smart_sample_apps_query_builder.py_6</th>\n",
        "      <td>23876796</td>\n",
        "      <td>query_builder.py</td>\n",
        "      <td>anyuri</td>\n",
        "      <td>anyuri</td>\n",
        "      <td>smart_client.common.rdf_tools.util</td>\n",
        "      <td>smart_sample_apps</td>\n",
        "      <td>chb</td>\n",
        "    </tr>\n",
        "    <tr>\n",
        "      <th>smart_sample_apps_query_builder.py_7</th>\n",
        "      <td>23876796</td>\n",
        "      <td>query_builder.py</td>\n",
        "      <td>rdflib</td>\n",
        "      <td>rdflib</td>\n",
        "      <td>rdflib</td>\n",
        "      <td>smart_sample_apps</td>\n",
        "      <td>chb</td>\n",
        "    </tr>\n",
        "    <tr>\n",
        "      <th>smart_sample_apps_query_builder.py_8</th>\n",
        "      <td>23876796</td>\n",
        "      <td>query_builder.py</td>\n",
        "      <td>Graph</td>\n",
        "      <td>Graph</td>\n",
        "      <td>rdflib</td>\n",
        "      <td>smart_sample_apps</td>\n",
        "      <td>chb</td>\n",
        "    </tr>\n",
        "    <tr>\n",
        "      <th>smart_sample_apps_query_builder.py_9</th>\n",
        "      <td>23876796</td>\n",
        "      <td>query_builder.py</td>\n",
        "      <td>NamespaceManager</td>\n",
        "      <td>NamespaceManager</td>\n",
        "      <td>rdflib.namespace</td>\n",
        "      <td>smart_sample_apps</td>\n",
        "      <td>chb</td>\n",
        "    </tr>\n",
        "    <tr>\n",
        "      <th>smart_sample_apps_tests.py_0</th>\n",
        "      <td>23876796</td>\n",
        "      <td>tests.py</td>\n",
        "      <td>os</td>\n",
        "      <td>os</td>\n",
        "      <td>os</td>\n",
        "      <td>smart_sample_apps</td>\n",
        "      <td>chb</td>\n",
        "    </tr>\n",
        "    <tr>\n",
        "      <th>smart_sample_apps_tests.py_1</th>\n",
        "      <td>23876796</td>\n",
        "      <td>tests.py</td>\n",
        "      <td>unittest</td>\n",
        "      <td>unittest</td>\n",
        "      <td>unittest</td>\n",
        "      <td>smart_sample_apps</td>\n",
        "      <td>chb</td>\n",
        "    </tr>\n",
        "    <tr>\n",
        "      <th>smart_sample_apps_tests.py_2</th>\n",
        "      <td>23876796</td>\n",
        "      <td>tests.py</td>\n",
        "      <td>string</td>\n",
        "      <td>string</td>\n",
        "      <td>string</td>\n",
        "      <td>smart_sample_apps</td>\n",
        "      <td>chb</td>\n",
        "    </tr>\n",
        "    <tr>\n",
        "      <th>...</th>\n",
        "      <td>...</td>\n",
        "      <td>...</td>\n",
        "      <td>...</td>\n",
        "      <td>...</td>\n",
        "      <td>...</td>\n",
        "      <td>...</td>\n",
        "      <td>...</td>\n",
        "    </tr>\n",
        "    <tr>\n",
        "      <th>CloudForest_sklrf.py_3</th>\n",
        "      <td>26679347</td>\n",
        "      <td>sklrf.py</td>\n",
        "      <td>time</td>\n",
        "      <td>time</td>\n",
        "      <td>time</td>\n",
        "      <td>CloudForest</td>\n",
        "      <td>IlyaLab</td>\n",
        "    </tr>\n",
        "    <tr>\n",
        "      <th>CloudForest_sklrf.py_4</th>\n",
        "      <td>26679347</td>\n",
        "      <td>sklrf.py</td>\n",
        "      <td>numpy</td>\n",
        "      <td>np</td>\n",
        "      <td>numpy</td>\n",
        "      <td>CloudForest</td>\n",
        "      <td>IlyaLab</td>\n",
        "    </tr>\n",
        "    <tr>\n",
        "      <th>CloudForest_sklrf.py_5</th>\n",
        "      <td>26679347</td>\n",
        "      <td>sklrf.py</td>\n",
        "      <td>tree</td>\n",
        "      <td>tree</td>\n",
        "      <td>tree</td>\n",
        "      <td>CloudForest</td>\n",
        "      <td>IlyaLab</td>\n",
        "    </tr>\n",
        "    <tr>\n",
        "      <th>microED.git_ts2_batch.py_0</th>\n",
        "      <td>24252878</td>\n",
        "      <td>ts2_batch.py</td>\n",
        "      <td>numpy</td>\n",
        "      <td>numpy</td>\n",
        "      <td>numpy</td>\n",
        "      <td>microED.git</td>\n",
        "      <td>gonenlab</td>\n",
        "    </tr>\n",
        "    <tr>\n",
        "      <th>microED.git_ts2_batch.py_1</th>\n",
        "      <td>24252878</td>\n",
        "      <td>ts2_batch.py</td>\n",
        "      <td>math</td>\n",
        "      <td>math</td>\n",
        "      <td>math</td>\n",
        "      <td>microED.git</td>\n",
        "      <td>gonenlab</td>\n",
        "    </tr>\n",
        "    <tr>\n",
        "      <th>microED.git_ts2_batch.py_2</th>\n",
        "      <td>24252878</td>\n",
        "      <td>ts2_batch.py</td>\n",
        "      <td>os</td>\n",
        "      <td>os</td>\n",
        "      <td>os</td>\n",
        "      <td>microED.git</td>\n",
        "      <td>gonenlab</td>\n",
        "    </tr>\n",
        "    <tr>\n",
        "      <th>microED.git_ts2_batch.py_3</th>\n",
        "      <td>24252878</td>\n",
        "      <td>ts2_batch.py</td>\n",
        "      <td>json</td>\n",
        "      <td>json</td>\n",
        "      <td>json</td>\n",
        "      <td>microED.git</td>\n",
        "      <td>gonenlab</td>\n",
        "    </tr>\n",
        "    <tr>\n",
        "      <th>microED.git_showmillers.py_0</th>\n",
        "      <td>24252878</td>\n",
        "      <td>showmillers.py</td>\n",
        "      <td>os</td>\n",
        "      <td>os</td>\n",
        "      <td>os</td>\n",
        "      <td>microED.git</td>\n",
        "      <td>gonenlab</td>\n",
        "    </tr>\n",
        "    <tr>\n",
        "      <th>microED.git_fs2_mod.py_0</th>\n",
        "      <td>24252878</td>\n",
        "      <td>fs2_mod.py</td>\n",
        "      <td>json</td>\n",
        "      <td>json</td>\n",
        "      <td>json</td>\n",
        "      <td>microED.git</td>\n",
        "      <td>gonenlab</td>\n",
        "    </tr>\n",
        "    <tr>\n",
        "      <th>microED.git_fs2_mod.py_1</th>\n",
        "      <td>24252878</td>\n",
        "      <td>fs2_mod.py</td>\n",
        "      <td>os</td>\n",
        "      <td>os</td>\n",
        "      <td>os</td>\n",
        "      <td>microED.git</td>\n",
        "      <td>gonenlab</td>\n",
        "    </tr>\n",
        "    <tr>\n",
        "      <th>microED.git_fs2_mod.py_2</th>\n",
        "      <td>24252878</td>\n",
        "      <td>fs2_mod.py</td>\n",
        "      <td>sys</td>\n",
        "      <td>sys</td>\n",
        "      <td>sys</td>\n",
        "      <td>microED.git</td>\n",
        "      <td>gonenlab</td>\n",
        "    </tr>\n",
        "    <tr>\n",
        "      <th>microED.git_fs2_mod.py_3</th>\n",
        "      <td>24252878</td>\n",
        "      <td>fs2_mod.py</td>\n",
        "      <td>math</td>\n",
        "      <td>math</td>\n",
        "      <td>math</td>\n",
        "      <td>microED.git</td>\n",
        "      <td>gonenlab</td>\n",
        "    </tr>\n",
        "    <tr>\n",
        "      <th>microED.git_fs2_mod.py_4</th>\n",
        "      <td>24252878</td>\n",
        "      <td>fs2_mod.py</td>\n",
        "      <td>numpy</td>\n",
        "      <td>numpy</td>\n",
        "      <td>numpy</td>\n",
        "      <td>microED.git</td>\n",
        "      <td>gonenlab</td>\n",
        "    </tr>\n",
        "    <tr>\n",
        "      <th>microED.git_findparallel.py_0</th>\n",
        "      <td>24252878</td>\n",
        "      <td>findparallel.py</td>\n",
        "      <td>json</td>\n",
        "      <td>json</td>\n",
        "      <td>json</td>\n",
        "      <td>microED.git</td>\n",
        "      <td>gonenlab</td>\n",
        "    </tr>\n",
        "    <tr>\n",
        "      <th>microED.git_findparallel.py_1</th>\n",
        "      <td>24252878</td>\n",
        "      <td>findparallel.py</td>\n",
        "      <td>os</td>\n",
        "      <td>os</td>\n",
        "      <td>os</td>\n",
        "      <td>microED.git</td>\n",
        "      <td>gonenlab</td>\n",
        "    </tr>\n",
        "    <tr>\n",
        "      <th>microED.git_findparallel.py_2</th>\n",
        "      <td>24252878</td>\n",
        "      <td>findparallel.py</td>\n",
        "      <td>sys</td>\n",
        "      <td>sys</td>\n",
        "      <td>sys</td>\n",
        "      <td>microED.git</td>\n",
        "      <td>gonenlab</td>\n",
        "    </tr>\n",
        "    <tr>\n",
        "      <th>microED.git_findparallel.py_3</th>\n",
        "      <td>24252878</td>\n",
        "      <td>findparallel.py</td>\n",
        "      <td>math</td>\n",
        "      <td>math</td>\n",
        "      <td>math</td>\n",
        "      <td>microED.git</td>\n",
        "      <td>gonenlab</td>\n",
        "    </tr>\n",
        "    <tr>\n",
        "      <th>microED.git_findparallel.py_4</th>\n",
        "      <td>24252878</td>\n",
        "      <td>findparallel.py</td>\n",
        "      <td>numpy</td>\n",
        "      <td>numpy</td>\n",
        "      <td>numpy</td>\n",
        "      <td>microED.git</td>\n",
        "      <td>gonenlab</td>\n",
        "    </tr>\n",
        "    <tr>\n",
        "      <th>microED.git_findcell.py_0</th>\n",
        "      <td>24252878</td>\n",
        "      <td>findcell.py</td>\n",
        "      <td>json</td>\n",
        "      <td>json</td>\n",
        "      <td>json</td>\n",
        "      <td>microED.git</td>\n",
        "      <td>gonenlab</td>\n",
        "    </tr>\n",
        "    <tr>\n",
        "      <th>microED.git_findcell.py_1</th>\n",
        "      <td>24252878</td>\n",
        "      <td>findcell.py</td>\n",
        "      <td>os</td>\n",
        "      <td>os</td>\n",
        "      <td>os</td>\n",
        "      <td>microED.git</td>\n",
        "      <td>gonenlab</td>\n",
        "    </tr>\n",
        "    <tr>\n",
        "      <th>microED.git_findcell.py_2</th>\n",
        "      <td>24252878</td>\n",
        "      <td>findcell.py</td>\n",
        "      <td>sys</td>\n",
        "      <td>sys</td>\n",
        "      <td>sys</td>\n",
        "      <td>microED.git</td>\n",
        "      <td>gonenlab</td>\n",
        "    </tr>\n",
        "    <tr>\n",
        "      <th>microED.git_findcell.py_3</th>\n",
        "      <td>24252878</td>\n",
        "      <td>findcell.py</td>\n",
        "      <td>math</td>\n",
        "      <td>math</td>\n",
        "      <td>math</td>\n",
        "      <td>microED.git</td>\n",
        "      <td>gonenlab</td>\n",
        "    </tr>\n",
        "    <tr>\n",
        "      <th>microED.git_findcell.py_4</th>\n",
        "      <td>24252878</td>\n",
        "      <td>findcell.py</td>\n",
        "      <td>numpy</td>\n",
        "      <td>numpy</td>\n",
        "      <td>numpy</td>\n",
        "      <td>microED.git</td>\n",
        "      <td>gonenlab</td>\n",
        "    </tr>\n",
        "    <tr>\n",
        "      <th>microED.git_batchintegrate.py_0</th>\n",
        "      <td>24252878</td>\n",
        "      <td>batchintegrate.py</td>\n",
        "      <td>Image</td>\n",
        "      <td>Image</td>\n",
        "      <td>PIL</td>\n",
        "      <td>microED.git</td>\n",
        "      <td>gonenlab</td>\n",
        "    </tr>\n",
        "    <tr>\n",
        "      <th>microED.git_batchintegrate.py_1</th>\n",
        "      <td>24252878</td>\n",
        "      <td>batchintegrate.py</td>\n",
        "      <td>os</td>\n",
        "      <td>os</td>\n",
        "      <td>os</td>\n",
        "      <td>microED.git</td>\n",
        "      <td>gonenlab</td>\n",
        "    </tr>\n",
        "    <tr>\n",
        "      <th>microED.git_batchintegrate.py_2</th>\n",
        "      <td>24252878</td>\n",
        "      <td>batchintegrate.py</td>\n",
        "      <td>csv</td>\n",
        "      <td>csv</td>\n",
        "      <td>csv</td>\n",
        "      <td>microED.git</td>\n",
        "      <td>gonenlab</td>\n",
        "    </tr>\n",
        "    <tr>\n",
        "      <th>microED.git_batchintegrate.py_3</th>\n",
        "      <td>24252878</td>\n",
        "      <td>batchintegrate.py</td>\n",
        "      <td>math</td>\n",
        "      <td>math</td>\n",
        "      <td>math</td>\n",
        "      <td>microED.git</td>\n",
        "      <td>gonenlab</td>\n",
        "    </tr>\n",
        "    <tr>\n",
        "      <th>microED.git_batchintegrate.py_4</th>\n",
        "      <td>24252878</td>\n",
        "      <td>batchintegrate.py</td>\n",
        "      <td>sys</td>\n",
        "      <td>sys</td>\n",
        "      <td>sys</td>\n",
        "      <td>microED.git</td>\n",
        "      <td>gonenlab</td>\n",
        "    </tr>\n",
        "    <tr>\n",
        "      <th>microED.git_batchintegrate.py_5</th>\n",
        "      <td>24252878</td>\n",
        "      <td>batchintegrate.py</td>\n",
        "      <td>numpy</td>\n",
        "      <td>numpy</td>\n",
        "      <td>numpy</td>\n",
        "      <td>microED.git</td>\n",
        "      <td>gonenlab</td>\n",
        "    </tr>\n",
        "    <tr>\n",
        "      <th>microED.git_batchintegrate.py_6</th>\n",
        "      <td>24252878</td>\n",
        "      <td>batchintegrate.py</td>\n",
        "      <td>json</td>\n",
        "      <td>json</td>\n",
        "      <td>json</td>\n",
        "      <td>microED.git</td>\n",
        "      <td>gonenlab</td>\n",
        "    </tr>\n",
        "  </tbody>\n",
        "</table>\n",
        "<p>99104 rows \u00d7 7 columns</p>\n",
        "</div>"
       ],
       "metadata": {},
       "output_type": "pyout",
       "prompt_number": 5,
       "text": [
        "                                           doi           filename  \\\n",
        "smart_sample_apps_manage.py_0         23876796          manage.py   \n",
        "smart_sample_apps_manage.py_1         23876796          manage.py   \n",
        "smart_sample_apps_manage.py_2         23876796          manage.py   \n",
        "smart_sample_apps_urls.py_0           23876796            urls.py   \n",
        "smart_sample_apps_urls.py_1           23876796            urls.py   \n",
        "smart_sample_apps_urls.py_2           23876796            urls.py   \n",
        "smart_sample_apps_exception.py_0      23876796       exception.py   \n",
        "smart_sample_apps_exception.py_1      23876796       exception.py   \n",
        "smart_sample_apps_reminder.py_0       23876796        reminder.py   \n",
        "smart_sample_apps_reminder.py_1       23876796        reminder.py   \n",
        "smart_sample_apps_reminder.py_2       23876796        reminder.py   \n",
        "smart_sample_apps_reminder.py_3       23876796        reminder.py   \n",
        "smart_sample_apps_reminder.py_4       23876796        reminder.py   \n",
        "smart_sample_apps_reminder.py_5       23876796        reminder.py   \n",
        "smart_sample_apps_reminder.py_6       23876796        reminder.py   \n",
        "smart_sample_apps_reminder.py_7       23876796        reminder.py   \n",
        "smart_sample_apps_reminder.py_8       23876796        reminder.py   \n",
        "smart_sample_apps_query_builder.py_0  23876796   query_builder.py   \n",
        "smart_sample_apps_query_builder.py_1  23876796   query_builder.py   \n",
        "smart_sample_apps_query_builder.py_2  23876796   query_builder.py   \n",
        "smart_sample_apps_query_builder.py_3  23876796   query_builder.py   \n",
        "smart_sample_apps_query_builder.py_4  23876796   query_builder.py   \n",
        "smart_sample_apps_query_builder.py_5  23876796   query_builder.py   \n",
        "smart_sample_apps_query_builder.py_6  23876796   query_builder.py   \n",
        "smart_sample_apps_query_builder.py_7  23876796   query_builder.py   \n",
        "smart_sample_apps_query_builder.py_8  23876796   query_builder.py   \n",
        "smart_sample_apps_query_builder.py_9  23876796   query_builder.py   \n",
        "smart_sample_apps_tests.py_0          23876796           tests.py   \n",
        "smart_sample_apps_tests.py_1          23876796           tests.py   \n",
        "smart_sample_apps_tests.py_2          23876796           tests.py   \n",
        "...                                        ...                ...   \n",
        "CloudForest_sklrf.py_3                26679347           sklrf.py   \n",
        "CloudForest_sklrf.py_4                26679347           sklrf.py   \n",
        "CloudForest_sklrf.py_5                26679347           sklrf.py   \n",
        "microED.git_ts2_batch.py_0            24252878       ts2_batch.py   \n",
        "microED.git_ts2_batch.py_1            24252878       ts2_batch.py   \n",
        "microED.git_ts2_batch.py_2            24252878       ts2_batch.py   \n",
        "microED.git_ts2_batch.py_3            24252878       ts2_batch.py   \n",
        "microED.git_showmillers.py_0          24252878     showmillers.py   \n",
        "microED.git_fs2_mod.py_0              24252878         fs2_mod.py   \n",
        "microED.git_fs2_mod.py_1              24252878         fs2_mod.py   \n",
        "microED.git_fs2_mod.py_2              24252878         fs2_mod.py   \n",
        "microED.git_fs2_mod.py_3              24252878         fs2_mod.py   \n",
        "microED.git_fs2_mod.py_4              24252878         fs2_mod.py   \n",
        "microED.git_findparallel.py_0         24252878    findparallel.py   \n",
        "microED.git_findparallel.py_1         24252878    findparallel.py   \n",
        "microED.git_findparallel.py_2         24252878    findparallel.py   \n",
        "microED.git_findparallel.py_3         24252878    findparallel.py   \n",
        "microED.git_findparallel.py_4         24252878    findparallel.py   \n",
        "microED.git_findcell.py_0             24252878        findcell.py   \n",
        "microED.git_findcell.py_1             24252878        findcell.py   \n",
        "microED.git_findcell.py_2             24252878        findcell.py   \n",
        "microED.git_findcell.py_3             24252878        findcell.py   \n",
        "microED.git_findcell.py_4             24252878        findcell.py   \n",
        "microED.git_batchintegrate.py_0       24252878  batchintegrate.py   \n",
        "microED.git_batchintegrate.py_1       24252878  batchintegrate.py   \n",
        "microED.git_batchintegrate.py_2       24252878  batchintegrate.py   \n",
        "microED.git_batchintegrate.py_3       24252878  batchintegrate.py   \n",
        "microED.git_batchintegrate.py_4       24252878  batchintegrate.py   \n",
        "microED.git_batchintegrate.py_5       24252878  batchintegrate.py   \n",
        "microED.git_batchintegrate.py_6       24252878  batchintegrate.py   \n",
        "\n",
        "                                         function_name         import_as  \\\n",
        "smart_sample_apps_manage.py_0          execute_manager   execute_manager   \n",
        "smart_sample_apps_manage.py_1                 settings          settings   \n",
        "smart_sample_apps_manage.py_2                      sys               sys   \n",
        "smart_sample_apps_urls.py_0               HttpResponse      HttpResponse   \n",
        "smart_sample_apps_urls.py_1                          *                 *   \n",
        "smart_sample_apps_urls.py_2                   settings          settings   \n",
        "smart_sample_apps_exception.py_0                   sys               sys   \n",
        "smart_sample_apps_exception.py_1             traceback         traceback   \n",
        "smart_sample_apps_reminder.py_0                    sys               sys   \n",
        "smart_sample_apps_reminder.py_1                     os                os   \n",
        "smart_sample_apps_reminder.py_2                    web               web   \n",
        "smart_sample_apps_reminder.py_3                 urllib            urllib   \n",
        "smart_sample_apps_reminder.py_4               datetime          datetime   \n",
        "smart_sample_apps_reminder.py_5           smart_client      smart_client   \n",
        "smart_sample_apps_reminder.py_6                  oauth             oauth   \n",
        "smart_sample_apps_reminder.py_7            SmartClient       SmartClient   \n",
        "smart_sample_apps_reminder.py_8          serialize_rdf     serialize_rdf   \n",
        "smart_sample_apps_query_builder.py_0              copy              copy   \n",
        "smart_sample_apps_query_builder.py_1          APP_PATH          APP_PATH   \n",
        "smart_sample_apps_query_builder.py_2          DOC_BASE          DOC_BASE   \n",
        "smart_sample_apps_query_builder.py_3     ONTOLOGY_PATH     ONTOLOGY_PATH   \n",
        "smart_sample_apps_query_builder.py_4      rdf_ontology      rdf_ontology   \n",
        "smart_sample_apps_query_builder.py_5                NS                NS   \n",
        "smart_sample_apps_query_builder.py_6            anyuri            anyuri   \n",
        "smart_sample_apps_query_builder.py_7            rdflib            rdflib   \n",
        "smart_sample_apps_query_builder.py_8             Graph             Graph   \n",
        "smart_sample_apps_query_builder.py_9  NamespaceManager  NamespaceManager   \n",
        "smart_sample_apps_tests.py_0                        os                os   \n",
        "smart_sample_apps_tests.py_1                  unittest          unittest   \n",
        "smart_sample_apps_tests.py_2                    string            string   \n",
        "...                                                ...               ...   \n",
        "CloudForest_sklrf.py_3                            time              time   \n",
        "CloudForest_sklrf.py_4                           numpy                np   \n",
        "CloudForest_sklrf.py_5                            tree              tree   \n",
        "microED.git_ts2_batch.py_0                       numpy             numpy   \n",
        "microED.git_ts2_batch.py_1                        math              math   \n",
        "microED.git_ts2_batch.py_2                          os                os   \n",
        "microED.git_ts2_batch.py_3                        json              json   \n",
        "microED.git_showmillers.py_0                        os                os   \n",
        "microED.git_fs2_mod.py_0                          json              json   \n",
        "microED.git_fs2_mod.py_1                            os                os   \n",
        "microED.git_fs2_mod.py_2                           sys               sys   \n",
        "microED.git_fs2_mod.py_3                          math              math   \n",
        "microED.git_fs2_mod.py_4                         numpy             numpy   \n",
        "microED.git_findparallel.py_0                     json              json   \n",
        "microED.git_findparallel.py_1                       os                os   \n",
        "microED.git_findparallel.py_2                      sys               sys   \n",
        "microED.git_findparallel.py_3                     math              math   \n",
        "microED.git_findparallel.py_4                    numpy             numpy   \n",
        "microED.git_findcell.py_0                         json              json   \n",
        "microED.git_findcell.py_1                           os                os   \n",
        "microED.git_findcell.py_2                          sys               sys   \n",
        "microED.git_findcell.py_3                         math              math   \n",
        "microED.git_findcell.py_4                        numpy             numpy   \n",
        "microED.git_batchintegrate.py_0                  Image             Image   \n",
        "microED.git_batchintegrate.py_1                     os                os   \n",
        "microED.git_batchintegrate.py_2                    csv               csv   \n",
        "microED.git_batchintegrate.py_3                   math              math   \n",
        "microED.git_batchintegrate.py_4                    sys               sys   \n",
        "microED.git_batchintegrate.py_5                  numpy             numpy   \n",
        "microED.git_batchintegrate.py_6                   json              json   \n",
        "\n",
        "                                                             module_name  \\\n",
        "smart_sample_apps_manage.py_0                     django.core.management   \n",
        "smart_sample_apps_manage.py_1                                   settings   \n",
        "smart_sample_apps_manage.py_2                                        sys   \n",
        "smart_sample_apps_urls.py_0                                  django.http   \n",
        "smart_sample_apps_urls.py_1                    django.conf.urls.defaults   \n",
        "smart_sample_apps_urls.py_2                                  django.conf   \n",
        "smart_sample_apps_exception.py_0                                     sys   \n",
        "smart_sample_apps_exception.py_1                               traceback   \n",
        "smart_sample_apps_reminder.py_0                                      sys   \n",
        "smart_sample_apps_reminder.py_1                                       os   \n",
        "smart_sample_apps_reminder.py_2                                      web   \n",
        "smart_sample_apps_reminder.py_3                                   urllib   \n",
        "smart_sample_apps_reminder.py_4                                 datetime   \n",
        "smart_sample_apps_reminder.py_5                             smart_client   \n",
        "smart_sample_apps_reminder.py_6                             smart_client   \n",
        "smart_sample_apps_reminder.py_7                       smart_client.smart   \n",
        "smart_sample_apps_reminder.py_8       smart_client.common.rdf_tools.util   \n",
        "smart_sample_apps_query_builder.py_0                                copy   \n",
        "smart_sample_apps_query_builder.py_1                            settings   \n",
        "smart_sample_apps_query_builder.py_2                            settings   \n",
        "smart_sample_apps_query_builder.py_3                            settings   \n",
        "smart_sample_apps_query_builder.py_4       smart_client.common.rdf_tools   \n",
        "smart_sample_apps_query_builder.py_5  smart_client.common.rdf_tools.util   \n",
        "smart_sample_apps_query_builder.py_6  smart_client.common.rdf_tools.util   \n",
        "smart_sample_apps_query_builder.py_7                              rdflib   \n",
        "smart_sample_apps_query_builder.py_8                              rdflib   \n",
        "smart_sample_apps_query_builder.py_9                    rdflib.namespace   \n",
        "smart_sample_apps_tests.py_0                                          os   \n",
        "smart_sample_apps_tests.py_1                                    unittest   \n",
        "smart_sample_apps_tests.py_2                                      string   \n",
        "...                                                                  ...   \n",
        "CloudForest_sklrf.py_3                                              time   \n",
        "CloudForest_sklrf.py_4                                             numpy   \n",
        "CloudForest_sklrf.py_5                                              tree   \n",
        "microED.git_ts2_batch.py_0                                         numpy   \n",
        "microED.git_ts2_batch.py_1                                          math   \n",
        "microED.git_ts2_batch.py_2                                            os   \n",
        "microED.git_ts2_batch.py_3                                          json   \n",
        "microED.git_showmillers.py_0                                          os   \n",
        "microED.git_fs2_mod.py_0                                            json   \n",
        "microED.git_fs2_mod.py_1                                              os   \n",
        "microED.git_fs2_mod.py_2                                             sys   \n",
        "microED.git_fs2_mod.py_3                                            math   \n",
        "microED.git_fs2_mod.py_4                                           numpy   \n",
        "microED.git_findparallel.py_0                                       json   \n",
        "microED.git_findparallel.py_1                                         os   \n",
        "microED.git_findparallel.py_2                                        sys   \n",
        "microED.git_findparallel.py_3                                       math   \n",
        "microED.git_findparallel.py_4                                      numpy   \n",
        "microED.git_findcell.py_0                                           json   \n",
        "microED.git_findcell.py_1                                             os   \n",
        "microED.git_findcell.py_2                                            sys   \n",
        "microED.git_findcell.py_3                                           math   \n",
        "microED.git_findcell.py_4                                          numpy   \n",
        "microED.git_batchintegrate.py_0                                      PIL   \n",
        "microED.git_batchintegrate.py_1                                       os   \n",
        "microED.git_batchintegrate.py_2                                      csv   \n",
        "microED.git_batchintegrate.py_3                                     math   \n",
        "microED.git_batchintegrate.py_4                                      sys   \n",
        "microED.git_batchintegrate.py_5                                    numpy   \n",
        "microED.git_batchintegrate.py_6                                     json   \n",
        "\n",
        "                                              repo_name user_name  \n",
        "smart_sample_apps_manage.py_0         smart_sample_apps       chb  \n",
        "smart_sample_apps_manage.py_1         smart_sample_apps       chb  \n",
        "smart_sample_apps_manage.py_2         smart_sample_apps       chb  \n",
        "smart_sample_apps_urls.py_0           smart_sample_apps       chb  \n",
        "smart_sample_apps_urls.py_1           smart_sample_apps       chb  \n",
        "smart_sample_apps_urls.py_2           smart_sample_apps       chb  \n",
        "smart_sample_apps_exception.py_0      smart_sample_apps       chb  \n",
        "smart_sample_apps_exception.py_1      smart_sample_apps       chb  \n",
        "smart_sample_apps_reminder.py_0       smart_sample_apps       chb  \n",
        "smart_sample_apps_reminder.py_1       smart_sample_apps       chb  \n",
        "smart_sample_apps_reminder.py_2       smart_sample_apps       chb  \n",
        "smart_sample_apps_reminder.py_3       smart_sample_apps       chb  \n",
        "smart_sample_apps_reminder.py_4       smart_sample_apps       chb  \n",
        "smart_sample_apps_reminder.py_5       smart_sample_apps       chb  \n",
        "smart_sample_apps_reminder.py_6       smart_sample_apps       chb  \n",
        "smart_sample_apps_reminder.py_7       smart_sample_apps       chb  \n",
        "smart_sample_apps_reminder.py_8       smart_sample_apps       chb  \n",
        "smart_sample_apps_query_builder.py_0  smart_sample_apps       chb  \n",
        "smart_sample_apps_query_builder.py_1  smart_sample_apps       chb  \n",
        "smart_sample_apps_query_builder.py_2  smart_sample_apps       chb  \n",
        "smart_sample_apps_query_builder.py_3  smart_sample_apps       chb  \n",
        "smart_sample_apps_query_builder.py_4  smart_sample_apps       chb  \n",
        "smart_sample_apps_query_builder.py_5  smart_sample_apps       chb  \n",
        "smart_sample_apps_query_builder.py_6  smart_sample_apps       chb  \n",
        "smart_sample_apps_query_builder.py_7  smart_sample_apps       chb  \n",
        "smart_sample_apps_query_builder.py_8  smart_sample_apps       chb  \n",
        "smart_sample_apps_query_builder.py_9  smart_sample_apps       chb  \n",
        "smart_sample_apps_tests.py_0          smart_sample_apps       chb  \n",
        "smart_sample_apps_tests.py_1          smart_sample_apps       chb  \n",
        "smart_sample_apps_tests.py_2          smart_sample_apps       chb  \n",
        "...                                                 ...       ...  \n",
        "CloudForest_sklrf.py_3                      CloudForest   IlyaLab  \n",
        "CloudForest_sklrf.py_4                      CloudForest   IlyaLab  \n",
        "CloudForest_sklrf.py_5                      CloudForest   IlyaLab  \n",
        "microED.git_ts2_batch.py_0                  microED.git  gonenlab  \n",
        "microED.git_ts2_batch.py_1                  microED.git  gonenlab  \n",
        "microED.git_ts2_batch.py_2                  microED.git  gonenlab  \n",
        "microED.git_ts2_batch.py_3                  microED.git  gonenlab  \n",
        "microED.git_showmillers.py_0                microED.git  gonenlab  \n",
        "microED.git_fs2_mod.py_0                    microED.git  gonenlab  \n",
        "microED.git_fs2_mod.py_1                    microED.git  gonenlab  \n",
        "microED.git_fs2_mod.py_2                    microED.git  gonenlab  \n",
        "microED.git_fs2_mod.py_3                    microED.git  gonenlab  \n",
        "microED.git_fs2_mod.py_4                    microED.git  gonenlab  \n",
        "microED.git_findparallel.py_0               microED.git  gonenlab  \n",
        "microED.git_findparallel.py_1               microED.git  gonenlab  \n",
        "microED.git_findparallel.py_2               microED.git  gonenlab  \n",
        "microED.git_findparallel.py_3               microED.git  gonenlab  \n",
        "microED.git_findparallel.py_4               microED.git  gonenlab  \n",
        "microED.git_findcell.py_0                   microED.git  gonenlab  \n",
        "microED.git_findcell.py_1                   microED.git  gonenlab  \n",
        "microED.git_findcell.py_2                   microED.git  gonenlab  \n",
        "microED.git_findcell.py_3                   microED.git  gonenlab  \n",
        "microED.git_findcell.py_4                   microED.git  gonenlab  \n",
        "microED.git_batchintegrate.py_0             microED.git  gonenlab  \n",
        "microED.git_batchintegrate.py_1             microED.git  gonenlab  \n",
        "microED.git_batchintegrate.py_2             microED.git  gonenlab  \n",
        "microED.git_batchintegrate.py_3             microED.git  gonenlab  \n",
        "microED.git_batchintegrate.py_4             microED.git  gonenlab  \n",
        "microED.git_batchintegrate.py_5             microED.git  gonenlab  \n",
        "microED.git_batchintegrate.py_6             microED.git  gonenlab  \n",
        "\n",
        "[99104 rows x 7 columns]"
       ]
      }
     ],
     "prompt_number": 5
    },
    {
     "cell_type": "code",
     "collapsed": false,
     "input": [
      "\n",
      "# How many papers?\n",
      "print \"We have %s papers\" %len(functions.doi.unique())\n",
      "\n",
      "# How many repos?\n",
      "print \"We have %s repos\" %len(functions.repo_name.unique())\n",
      "\n",
      "# How many modules?\n",
      "print \"We have %s modules\" %len(functions.module_name.unique())\n",
      "\n",
      "# How many functions?\n",
      "print \"We have %s functions\" %len(functions.function_name.unique())\n",
      "\n",
      "# How many files?\n",
      "print \"We have %s files\" %len(functions.filename.unique())"
     ],
     "language": "python",
     "metadata": {},
     "outputs": [
      {
       "output_type": "stream",
       "stream": "stdout",
       "text": [
        "We have 684 papers\n",
        "We have 761 repos\n",
        "We have 8818 modules\n",
        "We have 13812 functions\n",
        "We have 9933 files\n"
       ]
      }
     ],
     "prompt_number": 68
    },
    {
     "cell_type": "code",
     "collapsed": false,
     "input": [
      "# An example node\n",
      "nodes['numpy']"
     ],
     "language": "python",
     "metadata": {},
     "outputs": [
      {
       "metadata": {},
       "output_type": "pyout",
       "prompt_number": 9,
       "text": [
        "{'author': 'numpy-discussion@scipy.org',\n",
        " 'docs': '',\n",
        " 'downloads': {'last_day': 35559, 'last_month': 698041, 'last_week': 223576},\n",
        " 'id': 43338,\n",
        " 'keywords': '',\n",
        " 'license': 'BSD',\n",
        " 'maintainer': '',\n",
        " 'name': 'numpy',\n",
        " 'package_url': 'http://pypi.python.org/pypi/numpy',\n",
        " 'release_url': 'http://pypi.python.org/pypi/numpy/1.11.0',\n",
        " 'summary': 'NumPy: array processing for numbers, strings, records, and objects.',\n",
        " 'url': 'http://www.numpy.org',\n",
        " 'version': '1.11.0'}"
       ]
      }
     ],
     "prompt_number": 9
    },
    {
     "cell_type": "code",
     "collapsed": false,
     "input": [
      "# The journals and keywords variables have a lookup for pubmed ids based on a keyword or journal\n",
      "print journals[\"PLoS Curr\"]\n",
      "print \"We have %s unique journals!\" %(len(journals.keys()))"
     ],
     "language": "python",
     "metadata": {},
     "outputs": [
      {
       "output_type": "stream",
       "stream": "stdout",
       "text": [
        "[u'24987574', u'25932347', u'26075140', u'25737806', u'26693078', u'25914859', u'25685616', u'25685627', u'25642370', u'24860690', u'25914858', u'26331095', u'25642358', u'24707447', u'25685630', u'26146589', u'24987572', u'23868168', u'25685622']\n",
        "We have 419 unique journals!\n"
       ]
      }
     ],
     "prompt_number": 28
    },
    {
     "cell_type": "code",
     "collapsed": false,
     "input": [
      "# Let's look at our space of journals\n",
      "journal_counts = pandas.DataFrame(columns=[\"count\"])\n",
      "for journal,pmids in journals.iteritems():\n",
      "    journal_counts.loc[journal,\"count\"] = len(pmids)\n",
      "    \n",
      "journal_counts.sort_values(by=[\"count\"],ascending=False)"
     ],
     "language": "python",
     "metadata": {},
     "outputs": [
      {
       "html": [
        "<div style=\"max-width:1500px;overflow:auto;\">\n",
        "<table border=\"1\" class=\"dataframe\">\n",
        "  <thead>\n",
        "    <tr style=\"text-align: right;\">\n",
        "      <th></th>\n",
        "      <th>count</th>\n",
        "    </tr>\n",
        "  </thead>\n",
        "  <tbody>\n",
        "    <tr>\n",
        "      <th>PLoS One</th>\n",
        "      <td>881</td>\n",
        "    </tr>\n",
        "    <tr>\n",
        "      <th>BMC Bioinformatics</th>\n",
        "      <td>285</td>\n",
        "    </tr>\n",
        "    <tr>\n",
        "      <th>BMC Genomics</th>\n",
        "      <td>233</td>\n",
        "    </tr>\n",
        "    <tr>\n",
        "      <th>PLoS Comput Biol</th>\n",
        "      <td>172</td>\n",
        "    </tr>\n",
        "    <tr>\n",
        "      <th>Genome Biol</th>\n",
        "      <td>139</td>\n",
        "    </tr>\n",
        "    <tr>\n",
        "      <th>Sci Rep</th>\n",
        "      <td>126</td>\n",
        "    </tr>\n",
        "    <tr>\n",
        "      <th>eLife</th>\n",
        "      <td>124</td>\n",
        "    </tr>\n",
        "    <tr>\n",
        "      <th>PeerJ</th>\n",
        "      <td>101</td>\n",
        "    </tr>\n",
        "    <tr>\n",
        "      <th>Nucleic Acids Res</th>\n",
        "      <td>87</td>\n",
        "    </tr>\n",
        "    <tr>\n",
        "      <th>F1000Res</th>\n",
        "      <td>79</td>\n",
        "    </tr>\n",
        "    <tr>\n",
        "      <th>Front Neuroinform</th>\n",
        "      <td>72</td>\n",
        "    </tr>\n",
        "    <tr>\n",
        "      <th>Nat Commun</th>\n",
        "      <td>71</td>\n",
        "    </tr>\n",
        "    <tr>\n",
        "      <th>PLoS Genet</th>\n",
        "      <td>70</td>\n",
        "    </tr>\n",
        "    <tr>\n",
        "      <th>Bioinformatics</th>\n",
        "      <td>66</td>\n",
        "    </tr>\n",
        "    <tr>\n",
        "      <th>Gigascience</th>\n",
        "      <td>57</td>\n",
        "    </tr>\n",
        "    <tr>\n",
        "      <th>J Cheminform</th>\n",
        "      <td>54</td>\n",
        "    </tr>\n",
        "    <tr>\n",
        "      <th>Stand Genomic Sci</th>\n",
        "      <td>45</td>\n",
        "    </tr>\n",
        "    <tr>\n",
        "      <th>Front Microbiol</th>\n",
        "      <td>42</td>\n",
        "    </tr>\n",
        "    <tr>\n",
        "      <th>Front Genet</th>\n",
        "      <td>40</td>\n",
        "    </tr>\n",
        "    <tr>\n",
        "      <th>Sensors (Basel)</th>\n",
        "      <td>37</td>\n",
        "    </tr>\n",
        "    <tr>\n",
        "      <th>mBio</th>\n",
        "      <td>36</td>\n",
        "    </tr>\n",
        "    <tr>\n",
        "      <th>J Biomed Semantics</th>\n",
        "      <td>33</td>\n",
        "    </tr>\n",
        "    <tr>\n",
        "      <th>Genome Med</th>\n",
        "      <td>32</td>\n",
        "    </tr>\n",
        "    <tr>\n",
        "      <th>Sci Data</th>\n",
        "      <td>31</td>\n",
        "    </tr>\n",
        "    <tr>\n",
        "      <th>BMC Evol Biol</th>\n",
        "      <td>31</td>\n",
        "    </tr>\n",
        "    <tr>\n",
        "      <th>Front Psychol</th>\n",
        "      <td>30</td>\n",
        "    </tr>\n",
        "    <tr>\n",
        "      <th>Front Neurosci</th>\n",
        "      <td>29</td>\n",
        "    </tr>\n",
        "    <tr>\n",
        "      <th>0410462</th>\n",
        "      <td>28</td>\n",
        "    </tr>\n",
        "    <tr>\n",
        "      <th>Genome Announc</th>\n",
        "      <td>28</td>\n",
        "    </tr>\n",
        "    <tr>\n",
        "      <th>BMC Res Notes</th>\n",
        "      <td>26</td>\n",
        "    </tr>\n",
        "    <tr>\n",
        "      <th>...</th>\n",
        "      <td>...</td>\n",
        "    </tr>\n",
        "    <tr>\n",
        "      <th>J Ther Ultrasound</th>\n",
        "      <td>1</td>\n",
        "    </tr>\n",
        "    <tr>\n",
        "      <th>Cell Res</th>\n",
        "      <td>1</td>\n",
        "    </tr>\n",
        "    <tr>\n",
        "      <th>Life (Basel)</th>\n",
        "      <td>1</td>\n",
        "    </tr>\n",
        "    <tr>\n",
        "      <th>BMC Geriatr</th>\n",
        "      <td>1</td>\n",
        "    </tr>\n",
        "    <tr>\n",
        "      <th>Pharmaceutics</th>\n",
        "      <td>1</td>\n",
        "    </tr>\n",
        "    <tr>\n",
        "      <th>Cell Tissue Res</th>\n",
        "      <td>1</td>\n",
        "    </tr>\n",
        "    <tr>\n",
        "      <th>J Med Chem</th>\n",
        "      <td>1</td>\n",
        "    </tr>\n",
        "    <tr>\n",
        "      <th>Rev Lat Am Enfermagem</th>\n",
        "      <td>1</td>\n",
        "    </tr>\n",
        "    <tr>\n",
        "      <th>Biomol Detect Quantif</th>\n",
        "      <td>1</td>\n",
        "    </tr>\n",
        "    <tr>\n",
        "      <th>IUCrJ</th>\n",
        "      <td>1</td>\n",
        "    </tr>\n",
        "    <tr>\n",
        "      <th>Hum Mutat</th>\n",
        "      <td>1</td>\n",
        "    </tr>\n",
        "    <tr>\n",
        "      <th>Genes Cells</th>\n",
        "      <td>1</td>\n",
        "    </tr>\n",
        "    <tr>\n",
        "      <th>Front Neuroinformatics</th>\n",
        "      <td>1</td>\n",
        "    </tr>\n",
        "    <tr>\n",
        "      <th>Mol Breed</th>\n",
        "      <td>1</td>\n",
        "    </tr>\n",
        "    <tr>\n",
        "      <th>Genet Epidemiol</th>\n",
        "      <td>1</td>\n",
        "    </tr>\n",
        "    <tr>\n",
        "      <th>Yale J Biol Med</th>\n",
        "      <td>1</td>\n",
        "    </tr>\n",
        "    <tr>\n",
        "      <th>Curr Genomics</th>\n",
        "      <td>1</td>\n",
        "    </tr>\n",
        "    <tr>\n",
        "      <th>Fam Cancer</th>\n",
        "      <td>1</td>\n",
        "    </tr>\n",
        "    <tr>\n",
        "      <th>Front Endocrinol (Lausanne)</th>\n",
        "      <td>1</td>\n",
        "    </tr>\n",
        "    <tr>\n",
        "      <th>Reprod Biol Endocrinol</th>\n",
        "      <td>1</td>\n",
        "    </tr>\n",
        "    <tr>\n",
        "      <th>Environ Monit Assess</th>\n",
        "      <td>1</td>\n",
        "    </tr>\n",
        "    <tr>\n",
        "      <th>J Neurosci Methods</th>\n",
        "      <td>1</td>\n",
        "    </tr>\n",
        "    <tr>\n",
        "      <th>BMC Struct Biol</th>\n",
        "      <td>1</td>\n",
        "    </tr>\n",
        "    <tr>\n",
        "      <th>Hum Mol Genet</th>\n",
        "      <td>1</td>\n",
        "    </tr>\n",
        "    <tr>\n",
        "      <th>Vasc Cell</th>\n",
        "      <td>1</td>\n",
        "    </tr>\n",
        "    <tr>\n",
        "      <th>Genet Sel Evol</th>\n",
        "      <td>1</td>\n",
        "    </tr>\n",
        "    <tr>\n",
        "      <th>Med Biol Eng Comput</th>\n",
        "      <td>1</td>\n",
        "    </tr>\n",
        "    <tr>\n",
        "      <th>J Med Case Rep</th>\n",
        "      <td>1</td>\n",
        "    </tr>\n",
        "    <tr>\n",
        "      <th>Zoological Lett</th>\n",
        "      <td>1</td>\n",
        "    </tr>\n",
        "    <tr>\n",
        "      <th>Environ Health Perspect</th>\n",
        "      <td>1</td>\n",
        "    </tr>\n",
        "  </tbody>\n",
        "</table>\n",
        "<p>419 rows \u00d7 1 columns</p>\n",
        "</div>"
       ],
       "metadata": {},
       "output_type": "pyout",
       "prompt_number": 33,
       "text": [
        "                            count\n",
        "PLoS One                      881\n",
        "BMC Bioinformatics            285\n",
        "BMC Genomics                  233\n",
        "PLoS Comput Biol              172\n",
        "Genome Biol                   139\n",
        "Sci Rep                       126\n",
        "eLife                         124\n",
        "PeerJ                         101\n",
        "Nucleic Acids Res              87\n",
        "F1000Res                       79\n",
        "Front Neuroinform              72\n",
        "Nat Commun                     71\n",
        "PLoS Genet                     70\n",
        "Bioinformatics                 66\n",
        "Gigascience                    57\n",
        "J Cheminform                   54\n",
        "Stand Genomic Sci              45\n",
        "Front Microbiol                42\n",
        "Front Genet                    40\n",
        "Sensors (Basel)                37\n",
        "mBio                           36\n",
        "J Biomed Semantics             33\n",
        "Genome Med                     32\n",
        "Sci Data                       31\n",
        "BMC Evol Biol                  31\n",
        "Front Psychol                  30\n",
        "Front Neurosci                 29\n",
        "0410462                        28\n",
        "Genome Announc                 28\n",
        "BMC Res Notes                  26\n",
        "...                           ...\n",
        "J Ther Ultrasound               1\n",
        "Cell Res                        1\n",
        "Life (Basel)                    1\n",
        "BMC Geriatr                     1\n",
        "Pharmaceutics                   1\n",
        "Cell Tissue Res                 1\n",
        "J Med Chem                      1\n",
        "Rev Lat Am Enfermagem           1\n",
        "Biomol Detect Quantif           1\n",
        "IUCrJ                           1\n",
        "Hum Mutat                       1\n",
        "Genes Cells                     1\n",
        "Front Neuroinformatics          1\n",
        "Mol Breed                       1\n",
        "Genet Epidemiol                 1\n",
        "Yale J Biol Med                 1\n",
        "Curr Genomics                   1\n",
        "Fam Cancer                      1\n",
        "Front Endocrinol (Lausanne)     1\n",
        "Reprod Biol Endocrinol          1\n",
        "Environ Monit Assess            1\n",
        "J Neurosci Methods              1\n",
        "BMC Struct Biol                 1\n",
        "Hum Mol Genet                   1\n",
        "Vasc Cell                       1\n",
        "Genet Sel Evol                  1\n",
        "Med Biol Eng Comput             1\n",
        "J Med Case Rep                  1\n",
        "Zoological Lett                 1\n",
        "Environ Health Perspect         1\n",
        "\n",
        "[419 rows x 1 columns]"
       ]
      }
     ],
     "prompt_number": 33
    },
    {
     "cell_type": "code",
     "collapsed": false,
     "input": [
      "# And top keywords\n",
      "keyword_counts = pandas.DataFrame(columns=[\"count\"])\n",
      "for keyword,pmids in keywords.iteritems():\n",
      "    keyword_counts.loc[keyword,\"count\"] = len(pmids)\n",
      "    \n",
      "keyword_counts.sort_values(by=[\"count\"],ascending=False)"
     ],
     "language": "python",
     "metadata": {},
     "outputs": [
      {
       "html": [
        "<div style=\"max-width:1500px;overflow:auto;\">\n",
        "<table border=\"1\" class=\"dataframe\">\n",
        "  <thead>\n",
        "    <tr style=\"text-align: right;\">\n",
        "      <th></th>\n",
        "      <th>count</th>\n",
        "    </tr>\n",
        "  </thead>\n",
        "  <tbody>\n",
        "    <tr>\n",
        "      <th>rna-seq</th>\n",
        "      <td>91</td>\n",
        "    </tr>\n",
        "    <tr>\n",
        "      <th>next-generation sequencing</th>\n",
        "      <td>69</td>\n",
        "    </tr>\n",
        "    <tr>\n",
        "      <th>bioinformatics</th>\n",
        "      <td>68</td>\n",
        "    </tr>\n",
        "    <tr>\n",
        "      <th>transcriptome</th>\n",
        "      <td>55</td>\n",
        "    </tr>\n",
        "    <tr>\n",
        "      <th>visualization</th>\n",
        "      <td>45</td>\n",
        "    </tr>\n",
        "    <tr>\n",
        "      <th>next generation sequencing</th>\n",
        "      <td>43</td>\n",
        "    </tr>\n",
        "    <tr>\n",
        "      <th>metagenomics</th>\n",
        "      <td>42</td>\n",
        "    </tr>\n",
        "    <tr>\n",
        "      <th>genomics</th>\n",
        "      <td>41</td>\n",
        "    </tr>\n",
        "    <tr>\n",
        "      <th>python</th>\n",
        "      <td>39</td>\n",
        "    </tr>\n",
        "    <tr>\n",
        "      <th>software</th>\n",
        "      <td>36</td>\n",
        "    </tr>\n",
        "    <tr>\n",
        "      <th>gene expression</th>\n",
        "      <td>35</td>\n",
        "    </tr>\n",
        "    <tr>\n",
        "      <th>machine learning</th>\n",
        "      <td>34</td>\n",
        "    </tr>\n",
        "    <tr>\n",
        "      <th>phylogenetics</th>\n",
        "      <td>31</td>\n",
        "    </tr>\n",
        "    <tr>\n",
        "      <th>assembly</th>\n",
        "      <td>28</td>\n",
        "    </tr>\n",
        "    <tr>\n",
        "      <th>comparative genomics</th>\n",
        "      <td>27</td>\n",
        "    </tr>\n",
        "    <tr>\n",
        "      <th>ontology</th>\n",
        "      <td>23</td>\n",
        "    </tr>\n",
        "    <tr>\n",
        "      <th>microbiome</th>\n",
        "      <td>23</td>\n",
        "    </tr>\n",
        "    <tr>\n",
        "      <th>semantic web</th>\n",
        "      <td>22</td>\n",
        "    </tr>\n",
        "    <tr>\n",
        "      <th>open source</th>\n",
        "      <td>22</td>\n",
        "    </tr>\n",
        "    <tr>\n",
        "      <th>transcriptomics</th>\n",
        "      <td>21</td>\n",
        "    </tr>\n",
        "    <tr>\n",
        "      <th>ngs</th>\n",
        "      <td>21</td>\n",
        "    </tr>\n",
        "    <tr>\n",
        "      <th>root-nodule bacteria</th>\n",
        "      <td>21</td>\n",
        "    </tr>\n",
        "    <tr>\n",
        "      <th>dna methylation</th>\n",
        "      <td>21</td>\n",
        "    </tr>\n",
        "    <tr>\n",
        "      <th>nitrogen fixation</th>\n",
        "      <td>21</td>\n",
        "    </tr>\n",
        "    <tr>\n",
        "      <th>high-throughput sequencing</th>\n",
        "      <td>20</td>\n",
        "    </tr>\n",
        "    <tr>\n",
        "      <th>data integration</th>\n",
        "      <td>20</td>\n",
        "    </tr>\n",
        "    <tr>\n",
        "      <th>database</th>\n",
        "      <td>20</td>\n",
        "    </tr>\n",
        "    <tr>\n",
        "      <th>simulation</th>\n",
        "      <td>19</td>\n",
        "    </tr>\n",
        "    <tr>\n",
        "      <th>genome</th>\n",
        "      <td>19</td>\n",
        "    </tr>\n",
        "    <tr>\n",
        "      <th>evolution</th>\n",
        "      <td>19</td>\n",
        "    </tr>\n",
        "    <tr>\n",
        "      <th>...</th>\n",
        "      <td>...</td>\n",
        "    </tr>\n",
        "    <tr>\n",
        "      <th>uniparental isodisomy</th>\n",
        "      <td>1</td>\n",
        "    </tr>\n",
        "    <tr>\n",
        "      <th>automated</th>\n",
        "      <td>1</td>\n",
        "    </tr>\n",
        "    <tr>\n",
        "      <th>polyketide synthase</th>\n",
        "      <td>1</td>\n",
        "    </tr>\n",
        "    <tr>\n",
        "      <th>dna sequencing analysis</th>\n",
        "      <td>1</td>\n",
        "    </tr>\n",
        "    <tr>\n",
        "      <th>neuromorphic cognition</th>\n",
        "      <td>1</td>\n",
        "    </tr>\n",
        "    <tr>\n",
        "      <th>general linear model</th>\n",
        "      <td>1</td>\n",
        "    </tr>\n",
        "    <tr>\n",
        "      <th>mouse model</th>\n",
        "      <td>1</td>\n",
        "    </tr>\n",
        "    <tr>\n",
        "      <th>neural mass</th>\n",
        "      <td>1</td>\n",
        "    </tr>\n",
        "    <tr>\n",
        "      <th>context-awareness</th>\n",
        "      <td>1</td>\n",
        "    </tr>\n",
        "    <tr>\n",
        "      <th>web science</th>\n",
        "      <td>1</td>\n",
        "    </tr>\n",
        "    <tr>\n",
        "      <th>mutation-drift equilibrium</th>\n",
        "      <td>1</td>\n",
        "    </tr>\n",
        "    <tr>\n",
        "      <th>infrastructure inspection</th>\n",
        "      <td>1</td>\n",
        "    </tr>\n",
        "    <tr>\n",
        "      <th>myc</th>\n",
        "      <td>1</td>\n",
        "    </tr>\n",
        "    <tr>\n",
        "      <th>high-risk behavior</th>\n",
        "      <td>1</td>\n",
        "    </tr>\n",
        "    <tr>\n",
        "      <th>nature\u2013health</th>\n",
        "      <td>1</td>\n",
        "    </tr>\n",
        "    <tr>\n",
        "      <th>candidate phyla radiation</th>\n",
        "      <td>1</td>\n",
        "    </tr>\n",
        "    <tr>\n",
        "      <th>response element</th>\n",
        "      <td>1</td>\n",
        "    </tr>\n",
        "    <tr>\n",
        "      <th>lung squamous cell carcinoma</th>\n",
        "      <td>1</td>\n",
        "    </tr>\n",
        "    <tr>\n",
        "      <th>Chlorella vulgaris</th>\n",
        "      <td>1</td>\n",
        "    </tr>\n",
        "    <tr>\n",
        "      <th>human intestinal microbiota</th>\n",
        "      <td>1</td>\n",
        "    </tr>\n",
        "    <tr>\n",
        "      <th>post-publication peer review</th>\n",
        "      <td>1</td>\n",
        "    </tr>\n",
        "    <tr>\n",
        "      <th>diffusion of innovation</th>\n",
        "      <td>1</td>\n",
        "    </tr>\n",
        "    <tr>\n",
        "      <th>health devices</th>\n",
        "      <td>1</td>\n",
        "    </tr>\n",
        "    <tr>\n",
        "      <th>necrosis</th>\n",
        "      <td>1</td>\n",
        "    </tr>\n",
        "    <tr>\n",
        "      <th>emery</th>\n",
        "      <td>1</td>\n",
        "    </tr>\n",
        "    <tr>\n",
        "      <th>open evaluation</th>\n",
        "      <td>1</td>\n",
        "    </tr>\n",
        "    <tr>\n",
        "      <th>paired-end mapping (pem)</th>\n",
        "      <td>1</td>\n",
        "    </tr>\n",
        "    <tr>\n",
        "      <th>gene discovery</th>\n",
        "      <td>1</td>\n",
        "    </tr>\n",
        "    <tr>\n",
        "      <th>visual impairment</th>\n",
        "      <td>1</td>\n",
        "    </tr>\n",
        "    <tr>\n",
        "      <th>text analysis</th>\n",
        "      <td>1</td>\n",
        "    </tr>\n",
        "  </tbody>\n",
        "</table>\n",
        "<p>7200 rows \u00d7 1 columns</p>\n",
        "</div>"
       ],
       "metadata": {},
       "output_type": "pyout",
       "prompt_number": 34,
       "text": [
        "                             count\n",
        "rna-seq                         91\n",
        "next-generation sequencing      69\n",
        "bioinformatics                  68\n",
        "transcriptome                   55\n",
        "visualization                   45\n",
        "next generation sequencing      43\n",
        "metagenomics                    42\n",
        "genomics                        41\n",
        "python                          39\n",
        "software                        36\n",
        "gene expression                 35\n",
        "machine learning                34\n",
        "phylogenetics                   31\n",
        "assembly                        28\n",
        "comparative genomics            27\n",
        "ontology                        23\n",
        "microbiome                      23\n",
        "semantic web                    22\n",
        "open source                     22\n",
        "transcriptomics                 21\n",
        "ngs                             21\n",
        "root-nodule bacteria            21\n",
        "dna methylation                 21\n",
        "nitrogen fixation               21\n",
        "high-throughput sequencing      20\n",
        "data integration                20\n",
        "database                        20\n",
        "simulation                      19\n",
        "genome                          19\n",
        "evolution                       19\n",
        "...                            ...\n",
        "uniparental isodisomy            1\n",
        "automated                        1\n",
        "polyketide synthase              1\n",
        "dna sequencing analysis          1\n",
        "neuromorphic cognition           1\n",
        "general linear model             1\n",
        "mouse model                      1\n",
        "neural mass                      1\n",
        "context-awareness                1\n",
        "web science                      1\n",
        "mutation-drift equilibrium       1\n",
        "infrastructure inspection        1\n",
        "myc                              1\n",
        "high-risk behavior               1\n",
        "nature\u2013health                    1\n",
        "candidate phyla radiation        1\n",
        "response element                 1\n",
        "lung squamous cell carcinoma     1\n",
        "Chlorella vulgaris               1\n",
        "human intestinal microbiota      1\n",
        "post-publication peer review     1\n",
        "diffusion of innovation          1\n",
        "health devices                   1\n",
        "necrosis                         1\n",
        "emery                            1\n",
        "open evaluation                  1\n",
        "paired-end mapping (pem)         1\n",
        "gene discovery                   1\n",
        "visual impairment                1\n",
        "text analysis                    1\n",
        "\n",
        "[7200 rows x 1 columns]"
       ]
      }
     ],
     "prompt_number": 34
    },
    {
     "cell_type": "code",
     "collapsed": false,
     "input": [
      "# Now I want to compare journals based on their functions.\n",
      "\n",
      "# Get unique modules for all functions, a little hacky but this works\n",
      "modules = [x for x in functions.module_name if not re.search(\"^-?[0-9]+$\",str(x))]\n",
      "modules = numpy.unique([x.split(\".\")[0] for x in modules if x and not isinstance(x,float)]).tolist()\n",
      "modules = [x for x in modules if not re.search('=|[|]|[\"]|[)]|[(]|[-]|[\\]|[/]|[}]|[{]|[%]|[<]|[>]|[+]',x)]\n",
      "modules = [x for x in modules if not re.search(\"'|[*]\",x)]\n",
      "modules = [x for x in modules if not re.search(\"^-?[0-9]+$\",x)] # handles numbers\n",
      "modules = [x for x in modules if len(x)>0] # handles empty strings\n",
      "\n",
      "# Some modules are imported in a list of commas, eg sys,time,urllib2\n",
      "def parse_modules(modules):\n",
      "    module_list = []\n",
      "    while len(modules) > 0:\n",
      "        module = modules.pop(0)\n",
      "        if re.search(\",\",module):\n",
      "            module_list = module_list + module.split(\",\")\n",
      "        else:\n",
      "            module_list.append(module.strip('\\n').strip('\\t'))\n",
      "    return module_list\n",
      "\n",
      "modules = parse_modules(modules)\n",
      "modules = numpy.unique(modules).tolist()\n",
      "len(modules)"
     ],
     "language": "python",
     "metadata": {},
     "outputs": [
      {
       "metadata": {},
       "output_type": "pyout",
       "prompt_number": 39,
       "text": [
        "3615"
       ]
      }
     ],
     "prompt_number": 39
    },
    {
     "cell_type": "code",
     "collapsed": false,
     "input": [
      "# Now let's create a data frame of journals by modules, and do a simple count based on our data\n",
      "df = pandas.DataFrame(0,index=journals.keys(),columns=modules)\n",
      "\n",
      "# A function to parse modules in the same way we obtained unique functions\n",
      "# We don't have to be perfect because we will use data frame index to filter\n",
      "def get_modules(funcs):\n",
      "    func_modules = [x for x in funcs.module_name if not re.search(\"^-?[0-9]+$\",str(x))]\n",
      "    func_modules = [x.split(\".\")[0] for x in func_modules if x and not isinstance(x,float)]\n",
      "    func_modules = [x for x in func_modules if not re.search('=|[|]|[\"]|[)]|[(]|[-]|[\\]|[/]|[}]|[{]',x)]\n",
      "    func_modules = parse_modules(func_modules)\n",
      "    return func_modules\n",
      "\n",
      "for journal,pmids in journals.iteritems():\n",
      "    \n",
      "    # convert from string to int\n",
      "    pmids = [int(x) for x in pmids]\n",
      "\n",
      "    print \"Journal %s has %s pmids\" %(journal,len(pmids))\n",
      "    \n",
      "    # Find functions and modules, count\n",
      "    funcs = functions[functions.doi.isin(pmids)]\n",
      "    func_df = pandas.DataFrame()\n",
      "    func_df[\"modules\"] = get_modules(funcs)\n",
      "    counts = func_df[\"modules\"].value_counts()\n",
      "\n",
      "    # We need to normalize the counts based on something. We have several options:\n",
      "    # number of script files, number of repos, number of papers\n",
      "    # I'm not sure which is best, but number of scripts seems to be a reasonable choice\n",
      "    number_scripts = len(funcs.filename.unique())\n",
      "    countsnorm = counts / float(number_scripts)\n",
      "    \n",
      "    # Get rid of functions that aren't included in our fully parsed module list\n",
      "    counts = counts[counts.index.isin(df.columns)]\n",
      "    # I think I changed my mind, I'll just start with raw counts\n",
      "    df.loc[journal,counts.index] = counts.values.tolist()\n",
      "    "
     ],
     "language": "python",
     "metadata": {},
     "outputs": [
      {
       "output_type": "stream",
       "stream": "stdout",
       "text": [
        "Journal J Immunol Methods has 1 pmids\n",
        "Journal JALA Charlottesv Va has 1 pmids\n",
        "Journal Brief Bioinform has 6 pmids\n",
        "Journal Parasitology has 1 pmids\n",
        "Journal Curr Biol has 4 pmids\n",
        "Journal FEBS Lett has 1 pmids\n",
        "Journal Influenza Other Respir Viruses has 1 pmids"
       ]
      },
      {
       "output_type": "stream",
       "stream": "stdout",
       "text": [
        "\n",
        "Journal Brief Funct Genomics has 1 pmids\n",
        "Journal F1000Res has 79 pmids\n",
        "Journal J Virol has 1 pmids"
       ]
      },
      {
       "output_type": "stream",
       "stream": "stdout",
       "text": [
        "\n",
        "Journal Front Mol Neurosci has 1 pmids\n",
        "Journal EBioMedicine has 3 pmids\n",
        "Journal Biomark Insights has 1 pmids\n",
        "Journal Source Code Biol Med has 19 pmids\n",
        "Journal Bull World Health Organ has 1 pmids"
       ]
      },
      {
       "output_type": "stream",
       "stream": "stdout",
       "text": [
        "\n",
        "Journal Osong Public Health Res Perspect has 1 pmids\n",
        "Journal Neuromolecular Med has 1 pmids\n",
        "Journal Chem Biol has 1 pmids\n",
        "Journal J Synchrotron Radiat has 2 pmids\n",
        "Journal Microb Cell Fact has 1 pmids"
       ]
      },
      {
       "output_type": "stream",
       "stream": "stdout",
       "text": [
        "\n",
        "Journal Front Aging Neurosci has 3 pmids\n",
        "Journal J Infect Dis has 1 pmids\n",
        "Journal 8704895 has 1 pmids\n",
        "Journal BMC Health Serv Res has 1 pmids"
       ]
      },
      {
       "output_type": "stream",
       "stream": "stdout",
       "text": [
        "\n",
        "Journal Int J Genomics has 3 pmids\n",
        "Journal Open Microbiol J has 1 pmids"
       ]
      },
      {
       "output_type": "stream",
       "stream": "stdout",
       "text": [
        "\n",
        "Journal Front Behav Neurosci has 7 pmids\n",
        "Journal Front Neurosci has 29 pmids\n",
        "Journal Comput Struct Biotechnol J has 5 pmids"
       ]
      },
      {
       "output_type": "stream",
       "stream": "stdout",
       "text": [
        "\n",
        "Journal Stud Mycol has 1 pmids\n",
        "Journal EURASIP J Bioinform Syst Biol has 1 pmids\n",
        "Journal Diabetologia has 1 pmids\n",
        "Journal Acc Chem Res has 1 pmids\n",
        "Journal BMC Genet has 10 pmids"
       ]
      },
      {
       "output_type": "stream",
       "stream": "stdout",
       "text": [
        "\n",
        "Journal BMC Proc has 3 pmids\n",
        "Journal Pathology has 1 pmids\n",
        "Journal Hepatol Int has 1 pmids\n",
        "Journal BMC Cancer has 5 pmids"
       ]
      },
      {
       "output_type": "stream",
       "stream": "stdout",
       "text": [
        "\n",
        "Journal Biomed Eng Online has 4 pmids\n",
        "Journal Silence has 1 pmids\n",
        "Journal Sci Data has 31 pmids\n",
        "Journal ISME J has 7 pmids"
       ]
      },
      {
       "output_type": "stream",
       "stream": "stdout",
       "text": [
        "\n",
        "Journal Mol Biol Evol has 2 pmids\n",
        "Journal Intelligence has 1 pmids\n",
        "Journal Front Neural Circuits has 10 pmids\n",
        "Journal J Neuroeng Rehabil has 1 pmids"
       ]
      },
      {
       "output_type": "stream",
       "stream": "stdout",
       "text": [
        "\n",
        "Journal Transl Psychiatry has 2 pmids\n",
        "Journal Comput Math Methods Med has 7 pmids\n",
        "Journal Iperception has 2 pmids"
       ]
      },
      {
       "output_type": "stream",
       "stream": "stdout",
       "text": [
        "\n",
        "Journal Biol Cybern has 1 pmids\n",
        "Journal Clin Epigenetics has 5 pmids\n",
        "Journal Neurobiol Aging has 2 pmids\n",
        "Journal Adv Bioinformatics has 2 pmids\n",
        "Journal Extremophiles has 1 pmids\n",
        "Journal Bioinformatics has 66 pmids"
       ]
      },
      {
       "output_type": "stream",
       "stream": "stdout",
       "text": [
        "\n",
        "Journal Mol Cell Proteomics has 2 pmids\n",
        "Journal Scientifica (Cairo) has 1 pmids\n",
        "Journal Genes Immun has 1 pmids"
       ]
      },
      {
       "output_type": "stream",
       "stream": "stdout",
       "text": [
        "\n",
        "Journal Neuroinformatics has 4 pmids\n",
        "Journal Int J Hyperthermia has 1 pmids\n",
        "Journal Struct Dyn has 1 pmids"
       ]
      },
      {
       "output_type": "stream",
       "stream": "stdout",
       "text": [
        "\n",
        "Journal Gut Microbes has 1 pmids\n",
        "Journal BMC Public Health has 4 pmids\n",
        "Journal J Biol Eng has 3 pmids\n",
        "Journal 101186374 has 1 pmids\n",
        "Journal Circ Cardiovasc Interv has 1 pmids\n",
        "Journal J Biomed Semantics has 33 pmids\n",
        "Journal J Cardiovasc Transl Res has 1 pmids"
       ]
      },
      {
       "output_type": "stream",
       "stream": "stdout",
       "text": [
        "\n",
        "Journal Front Pharmacol has 2 pmids\n",
        "Journal Adv Mater has 1 pmids\n",
        "Journal eLife has 124 pmids\n",
        "Journal Healthc Inform Res has 3 pmids"
       ]
      },
      {
       "output_type": "stream",
       "stream": "stdout",
       "text": [
        "\n",
        "Journal Infect Agent Cancer has 1 pmids\n",
        "Journal Front Mol Biosci has 1 pmids\n",
        "Journal J Comp Neurol has 1 pmids\n",
        "Journal Nat Commun has 71 pmids\n",
        "Journal EGEMS (Wash DC) has 2 pmids"
       ]
      },
      {
       "output_type": "stream",
       "stream": "stdout",
       "text": [
        "\n",
        "Journal Viruses has 5 pmids\n",
        "Journal Vaccine has 1 pmids\n",
        "Journal Microbiome has 24 pmids\n",
        "Journal Anim Cogn has 1 pmids\n",
        "Journal Environ Sci Technol has 1 pmids\n",
        "Journal Eur Phys J C Part Fields has 2 pmids"
       ]
      },
      {
       "output_type": "stream",
       "stream": "stdout",
       "text": [
        "\n",
        "Journal AoB Plants has 1 pmids\n",
        "Journal Front Comput Neurosci has 14 pmids\n",
        "Journal J Clin Epidemiol has 1 pmids"
       ]
      },
      {
       "output_type": "stream",
       "stream": "stdout",
       "text": [
        "\n",
        "Journal Transplantation has 1 pmids\n",
        "Journal Mol Plant Pathol has 1 pmids\n",
        "Journal Toxins (Basel) has 2 pmids\n",
        "Journal Pflugers Arch has 1 pmids\n",
        "Journal Int J Mol Sci has 9 pmids"
       ]
      },
      {
       "output_type": "stream",
       "stream": "stdout",
       "text": [
        "\n",
        "Journal 0410462 has 28 pmids\n",
        "Journal Neuron has 1 pmids"
       ]
      },
      {
       "output_type": "stream",
       "stream": "stdout",
       "text": [
        "\n",
        "Journal J Comput Aided Mol Des has 1 pmids\n",
        "Journal BMC Dermatol has 1 pmids\n",
        "Journal Mol Cell has 1 pmids\n",
        "Journal PLoS Curr has 19 pmids\n",
        "Journal Comput Intell Neurosci has 1 pmids\n",
        "Journal Front Neurol has 3 pmids"
       ]
      },
      {
       "output_type": "stream",
       "stream": "stdout",
       "text": [
        "\n",
        "Journal Biochim Biophys Acta has 1 pmids\n",
        "Journal Microbiologyopen has 2 pmids\n",
        "Journal BMC Clin Pathol has 1 pmids\n",
        "Journal AMIA Jt Summits Transl Sci Proc has 4 pmids\n",
        "Journal 9607835 has 1 pmids\n",
        "Journal Scand J Psychol has 1 pmids"
       ]
      },
      {
       "output_type": "stream",
       "stream": "stdout",
       "text": [
        "\n",
        "Journal Evid Based Complement Alternat Med has 2 pmids\n",
        "Journal BMC Genomics has 233 pmids\n",
        "Journal Brain Inform has 2 pmids"
       ]
      },
      {
       "output_type": "stream",
       "stream": "stdout",
       "text": [
        "\n",
        "Journal Evolution has 1 pmids\n",
        "Journal BMC Plant Biol has 20 pmids\n",
        "Journal Syst Biol has 15 pmids\n",
        "Journal Int J Comput Assist Radiol Surg has 1 pmids"
       ]
      },
      {
       "output_type": "stream",
       "stream": "stdout",
       "text": [
        "\n",
        "Journal Genome Biol has 139 pmids\n",
        "Journal Genet Res Int has 1 pmids\n",
        "Journal Front Hum Neurosci has 11 pmids"
       ]
      },
      {
       "output_type": "stream",
       "stream": "stdout",
       "text": [
        "\n",
        "Journal Front Neuroanat has 6 pmids\n",
        "Journal Neural Dev has 2 pmids\n",
        "Journal 101659495 has 1 pmids\n",
        "Journal R Soc Open Sci has 12 pmids\n",
        "Journal Genomics Proteomics Bioinformatics has 4 pmids"
       ]
      },
      {
       "output_type": "stream",
       "stream": "stdout",
       "text": [
        "\n",
        "Journal Front Cardiovasc Med has 1 pmids\n",
        "Journal Mol Syst Biol has 10 pmids\n",
        "Journal Commun Integr Biol has 1 pmids\n",
        "Journal Brain Behav has 2 pmids"
       ]
      },
      {
       "output_type": "stream",
       "stream": "stdout",
       "text": [
        "\n",
        "Journal Genomics has 1 pmids\n",
        "Journal 101653440 has 1 pmids\n",
        "Journal Eur J Neurosci has 1 pmids\n",
        "Journal J Parallel Distrib Comput has 1 pmids\n",
        "Journal Stand Genomic Sci has 45 pmids\n",
        "Journal Bull Math Biol has 1 pmids"
       ]
      },
      {
       "output_type": "stream",
       "stream": "stdout",
       "text": [
        "\n",
        "Journal BioData Min has 5 pmids\n",
        "Journal Immun Ageing has 1 pmids\n",
        "Journal Acta Biotheor has 1 pmids\n",
        "Journal Hortic Res has 3 pmids\n",
        "Journal Clin Kidney J has 1 pmids\n",
        "Journal Surg Neurol Int has 1 pmids\n",
        "Journal Arthritis Res Ther has 2 pmids"
       ]
      },
      {
       "output_type": "stream",
       "stream": "stdout",
       "text": [
        "\n",
        "Journal IMA Fungus has 1 pmids\n",
        "Journal Microb Ecol Health Dis has 1 pmids\n",
        "Journal Neuroimage Clin has 10 pmids\n",
        "Journal Orphanet J Rare Dis has 3 pmids"
       ]
      },
      {
       "output_type": "stream",
       "stream": "stdout",
       "text": [
        "\n",
        "Journal Cancer Inform has 10 pmids\n",
        "Journal Evol Appl has 1 pmids\n",
        "Journal J Neurosci has 1 pmids\n",
        "Journal Mar Drugs has 1 pmids\n",
        "Journal AIDS has 1 pmids\n",
        "Journal Big Data has 1 pmids"
       ]
      },
      {
       "output_type": "stream",
       "stream": "stdout",
       "text": [
        "\n",
        "Journal Online J Public Health Inform has 1 pmids\n",
        "Journal JMIR Med Inform has 5 pmids\n",
        "Journal J Mol Endocrinol has 1 pmids\n",
        "Journal J Psychopharmacol has 1 pmids\n",
        "Journal BMC Med has 5 pmids"
       ]
      },
      {
       "output_type": "stream",
       "stream": "stdout",
       "text": [
        "\n",
        "Journal Syst Rev has 3 pmids\n",
        "Journal Cell has 3 pmids\n",
        "Journal J Transl Med has 5 pmids\n",
        "Journal Metabolomics has 3 pmids"
       ]
      },
      {
       "output_type": "stream",
       "stream": "stdout",
       "text": [
        "\n",
        "Journal Persoonia has 1 pmids\n",
        "Journal BMC Med Genet has 2 pmids\n",
        "Journal Int J Biomed Imaging has 1 pmids\n",
        "Journal J Sci Food Agric has 1 pmids"
       ]
      },
      {
       "output_type": "stream",
       "stream": "stdout",
       "text": [
        "\n",
        "Journal Front Immunol has 6 pmids\n",
        "Journal JMIR Res Protoc has 2 pmids\n",
        "Journal Mov Ecol has 4 pmids\n",
        "Journal Environmetrics has 1 pmids\n",
        "Journal Emerg Infect Dis has 5 pmids"
       ]
      },
      {
       "output_type": "stream",
       "stream": "stdout",
       "text": [
        "\n",
        "Journal Curr Microbiol has 1 pmids\n",
        "Journal Nutrients has 1 pmids\n",
        "Journal Mob DNA has 4 pmids\n",
        "Journal Cytometry A has 1 pmids\n",
        "Journal Vet Med Int has 1 pmids\n",
        "Journal Cortex has 1 pmids"
       ]
      },
      {
       "output_type": "stream",
       "stream": "stdout",
       "text": [
        "\n",
        "Journal Philos Trans R Soc Lond B Biol Sci has 6 pmids\n",
        "Journal Retrovirology has 2 pmids\n",
        "Journal Theor Biol Med Model has 1 pmids\n",
        "Journal Parasit Vectors has 10 pmids\n",
        "Journal BMC Bioinformatics has 285 pmids"
       ]
      },
      {
       "output_type": "stream",
       "stream": "stdout",
       "text": [
        "\n",
        "Journal Thorac Cancer has 1 pmids"
       ]
      },
      {
       "output_type": "stream",
       "stream": "stdout",
       "text": [
        "\n",
        "Journal BMC Med Inform Decis Mak has 8 pmids\n",
        "Journal PLoS Negl Trop Dis has 19 pmids\n",
        "Journal Evol Bioinform Online has 9 pmids\n",
        "Journal BMJ Open has 4 pmids"
       ]
      },
      {
       "output_type": "stream",
       "stream": "stdout",
       "text": [
        "\n",
        "Journal Mol Cytogenet has 1 pmids\n",
        "Journal Mol Ecol has 3 pmids\n",
        "Journal J Gen Virol has 1 pmids\n",
        "Journal Development has 2 pmids"
       ]
      },
      {
       "output_type": "stream",
       "stream": "stdout",
       "text": [
        "\n",
        "Journal Mol Autism has 1 pmids\n",
        "Journal ACS Appl Mater Interfaces has 2 pmids\n",
        "Journal Ecol Evol has 21 pmids\n",
        "Journal Biol Psychiatry has 1 pmids\n",
        "Journal J Phys Chem B has 1 pmids"
       ]
      },
      {
       "output_type": "stream",
       "stream": "stdout",
       "text": [
        "\n",
        "Journal Front Psychol has 30 pmids\n",
        "Journal Biotechnol Biofuels has 6 pmids\n",
        "Journal Gigascience has 57 pmids\n",
        "Journal J Cell Sci has 2 pmids"
       ]
      },
      {
       "output_type": "stream",
       "stream": "stdout",
       "text": [
        "\n",
        "Journal J Ovarian Res has 1 pmids\n",
        "Journal J Pathol Inform has 5 pmids\n",
        "Journal Biodivers Data J has 13 pmids"
       ]
      },
      {
       "output_type": "stream",
       "stream": "stdout",
       "text": [
        "\n",
        "Journal Mol Genet Genomic Med has 1 pmids\n",
        "Journal J Virol Methods has 1 pmids\n",
        "Journal mBio has 36 pmids\n",
        "Journal Biol Lett has 1 pmids"
       ]
      },
      {
       "output_type": "stream",
       "stream": "stdout",
       "text": [
        "\n",
        "Journal Neuroimage has 3 pmids\n",
        "Journal Proc Biol Sci has 6 pmids\n",
        "Journal Oncol Rep has 1 pmids\n",
        "Journal Genome Biol Evol has 9 pmids\n",
        "Journal Open Biol has 1 pmids"
       ]
      },
      {
       "output_type": "stream",
       "stream": "stdout",
       "text": [
        "\n",
        "Journal J Neuroinflammation has 1 pmids\n",
        "Journal J Mol Biol has 1 pmids\n",
        "Journal Mol Ther Nucleic Acids has 2 pmids\n",
        "Journal Popul Health Metr has 1 pmids\n",
        "Journal Front Cell Neurosci has 2 pmids\n",
        "Journal J Hematop has 1 pmids\n",
        "Journal Bioinform Biol Insights has 8 pmids"
       ]
      },
      {
       "output_type": "stream",
       "stream": "stdout",
       "text": [
        "\n",
        "Journal Int J Proteomics has 1 pmids\n",
        "Journal EMBO Rep has 1 pmids\n",
        "Journal J Cardiovasc Magn Reson has 2 pmids\n",
        "Journal Genom Data has 13 pmids\n",
        "Journal ScientificWorldJournal has 11 pmids"
       ]
      },
      {
       "output_type": "stream",
       "stream": "stdout",
       "text": [
        "\n",
        "Journal 101215604 has 14 pmids\n",
        "Journal Diagnostics (Basel) has 1 pmids\n",
        "Journal J Vis Exp has 1 pmids\n",
        "Journal Behav Sci (Basel) has 1 pmids\n",
        "Journal New Phytol has 2 pmids\n",
        "Journal J Math Biol has 1 pmids"
       ]
      },
      {
       "output_type": "stream",
       "stream": "stdout",
       "text": [
        "\n",
        "Journal Methods has 3 pmids\n",
        "Journal Mol Brain has 2 pmids\n",
        "Journal Disabil Rehabil has 1 pmids\n",
        "Journal Proteomics has 7 pmids\n",
        "Journal Cell Commun Signal has 1 pmids\n",
        "Journal Philos Trans A Math Phys Eng Sci has 1 pmids\n",
        "Journal J Appl Crystallogr has 12 pmids"
       ]
      },
      {
       "output_type": "stream",
       "stream": "stdout",
       "text": [
        "\n",
        "Journal JMIR Mhealth Uhealth has 3 pmids\n",
        "Journal Genes Brain Behav has 1 pmids\n",
        "Journal Front Neuroinform has 72 pmids\n",
        "Journal Metabolites has 1 pmids"
       ]
      },
      {
       "output_type": "stream",
       "stream": "stdout",
       "text": [
        "\n",
        "Journal Life Sci Soc Policy has 1 pmids\n",
        "Journal CPT Pharmacometrics Syst Pharmacol has 4 pmids\n",
        "Journal 101528555 has 7 pmids\n",
        "Journal J Biomed Biotechnol has 1 pmids"
       ]
      },
      {
       "output_type": "stream",
       "stream": "stdout",
       "text": [
        "\n",
        "Journal Biotechnol Res Int has 2 pmids\n",
        "Journal Front Cell Infect Microbiol has 2 pmids\n",
        "Journal J Proteome Res has 4 pmids\n",
        "Journal Psychon Bull Rev has 2 pmids"
       ]
      },
      {
       "output_type": "stream",
       "stream": "stdout",
       "text": [
        "\n",
        "Journal Oncotarget has 8 pmids\n",
        "Journal Pathog Dis has 1 pmids\n",
        "Journal 9216904 has 15 pmids\n",
        "Journal Anal Chem has 2 pmids"
       ]
      },
      {
       "output_type": "stream",
       "stream": "stdout",
       "text": [
        "\n",
        "Journal Biol Open has 1 pmids\n",
        "Journal Drug Saf has 1 pmids\n",
        "Journal PLoS One has 881 pmids\n",
        "Journal Mamm Genome has 6 pmids"
       ]
      },
      {
       "output_type": "stream",
       "stream": "stdout",
       "text": [
        "\n",
        "Journal Gastroenterol Res Pract has 1 pmids\n",
        "Journal PhytoKeys has 3 pmids\n",
        "Journal Artif Intell has 1 pmids\n",
        "Journal Biomed Res Int has 23 pmids\n",
        "Journal Crit Rev Biochem Mol Biol has 1 pmids"
       ]
      },
      {
       "output_type": "stream",
       "stream": "stdout",
       "text": [
        "\n",
        "Journal eNeuro has 2 pmids\n",
        "Journal Genetics has 6 pmids\n",
        "Journal 101283273 has 1 pmids"
       ]
      },
      {
       "output_type": "stream",
       "stream": "stdout",
       "text": [
        "\n",
        "Journal J Med Genet has 1 pmids\n",
        "Journal 9502015 has 4 pmids\n",
        "Journal Genomics Inform has 2 pmids"
       ]
      },
      {
       "output_type": "stream",
       "stream": "stdout",
       "text": [
        "\n",
        "Journal BMC Med Genomics has 14 pmids\n",
        "Journal PLoS Biol has 21 pmids"
       ]
      },
      {
       "output_type": "stream",
       "stream": "stdout",
       "text": [
        "\n",
        "Journal 100955518 has 1 pmids\n",
        "Journal 101300215 has 1 pmids\n",
        "Journal Leukemia has 1 pmids\n",
        "Journal Gene Regul Syst Bio has 1 pmids"
       ]
      },
      {
       "output_type": "stream",
       "stream": "stdout",
       "text": [
        "\n",
        "Journal Data Brief has 6 pmids\n",
        "Journal J Softw (Malden) has 1 pmids\n",
        "Journal BMC Med Res Methodol has 2 pmids\n",
        "Journal Acta Neuropathol Commun has 1 pmids\n",
        "Journal Adv Appl Bioinform Chem has 1 pmids\n",
        "Journal Genes Cancer has 1 pmids\n",
        "Journal Sci Rep has 126 pmids"
       ]
      },
      {
       "output_type": "stream",
       "stream": "stdout",
       "text": [
        "\n",
        "Journal Aging Cell has 1 pmids\n",
        "Journal Int J Environ Res Public Health has 3 pmids"
       ]
      },
      {
       "output_type": "stream",
       "stream": "stdout",
       "text": [
        "\n",
        "Journal Interact J Med Res has 2 pmids\n",
        "Journal Biosystems has 1 pmids\n",
        "Journal Diagn Pathol has 1 pmids\n",
        "Journal Ecol Lett has 3 pmids"
       ]
      },
      {
       "output_type": "stream",
       "stream": "stdout",
       "text": [
        "\n",
        "Journal J Struct Biol has 1 pmids\n",
        "Journal 101235387 has 1 pmids\n",
        "Journal Ind Eng Chem Res has 1 pmids\n",
        "Journal Canine Genet Epidemiol has 1 pmids\n",
        "Journal Astrobiology has 1 pmids"
       ]
      },
      {
       "output_type": "stream",
       "stream": "stdout",
       "text": [
        "\n",
        "Journal J Exp Psychol Gen has 1 pmids\n",
        "Journal J Extracell Vesicles has 1 pmids\n",
        "Journal Physiol Rep has 2 pmids\n",
        "Journal Int J Health Geogr has 6 pmids"
       ]
      },
      {
       "output_type": "stream",
       "stream": "stdout",
       "text": [
        "\n",
        "Journal BMC Vet Res has 2 pmids\n",
        "Journal J Evol Biol has 1 pmids\n",
        "Journal Front Syst Neurosci has 8 pmids\n",
        "Journal Appl Microbiol Biotechnol has 1 pmids\n",
        "Journal Hum Brain Mapp has 1 pmids\n",
        "Journal Front Neuroeng has 2 pmids\n",
        "Journal Chemphyschem has 1 pmids"
       ]
      },
      {
       "output_type": "stream",
       "stream": "stdout",
       "text": [
        "\n",
        "Journal Cancers (Basel) has 1 pmids\n",
        "Journal Environ Health has 1 pmids\n",
        "Journal Genes (Basel) has 1 pmids\n",
        "Journal BMC Infect Dis has 2 pmids\n",
        "Journal Hepatology has 2 pmids\n",
        "Journal J Med Internet Res has 5 pmids\n",
        "Journal PLoS Genet has 70 pmids"
       ]
      },
      {
       "output_type": "stream",
       "stream": "stdout",
       "text": [
        "\n",
        "Journal Virus Res has 1 pmids\n",
        "Journal Virol J has 2 pmids\n",
        "Journal Sensors (Basel) has 37 pmids\n",
        "Journal J R Stat Soc Ser C Appl Stat has 1 pmids"
       ]
      },
      {
       "output_type": "stream",
       "stream": "stdout",
       "text": [
        "\n",
        "Journal EMBO J has 2 pmids\n",
        "Journal Biochem Med (Zagreb) has 1 pmids\n",
        "Journal Emerg Microbes Infect has 2 pmids\n",
        "Journal BMC Biol has 7 pmids\n",
        "Journal BMC Med Imaging has 2 pmids\n",
        "Journal Malar J has 5 pmids"
       ]
      },
      {
       "output_type": "stream",
       "stream": "stdout",
       "text": [
        "\n",
        "Journal Br J Cancer has 1 pmids\n",
        "Journal PLoS Pathog has 14 pmids\n",
        "Journal Front Public Health has 1 pmids"
       ]
      },
      {
       "output_type": "stream",
       "stream": "stdout",
       "text": [
        "\n",
        "Journal Int J Mass Spectrom has 1 pmids\n",
        "Journal Appl Plant Sci has 14 pmids\n",
        "Journal 101671497 has 1 pmids\n",
        "Journal 9604648 has 10 pmids"
       ]
      },
      {
       "output_type": "stream",
       "stream": "stdout",
       "text": [
        "\n",
        "Journal BMC Microbiol has 10 pmids\n",
        "Journal J Comput Chem has 2 pmids"
       ]
      },
      {
       "output_type": "stream",
       "stream": "stdout",
       "text": [
        "\n",
        "Journal J Obes has 1 pmids\n",
        "Journal BMC Res Notes has 26 pmids\n",
        "Journal Bioinformation has 4 pmids"
       ]
      },
      {
       "output_type": "stream",
       "stream": "stdout",
       "text": [
        "\n",
        "Journal Genome Med has 32 pmids\n",
        "Journal 100941354 has 1 pmids\n",
        "Journal Epigenetics Chromatin has 4 pmids"
       ]
      },
      {
       "output_type": "stream",
       "stream": "stdout",
       "text": [
        "\n",
        "Journal Zookeys has 10 pmids\n",
        "Journal Hum Genomics has 1 pmids\n",
        "Journal 101642258 has 2 pmids\n",
        "Journal Endocrinology has 1 pmids"
       ]
      },
      {
       "output_type": "stream",
       "stream": "stdout",
       "text": [
        "\n",
        "Journal EvoDevo has 1 pmids\n",
        "Journal 101613976 has 1 pmids\n",
        "Journal EJNMMI Res has 1 pmids"
       ]
      },
      {
       "output_type": "stream",
       "stream": "stdout",
       "text": [
        "\n",
        "Journal J Radiat Res has 1 pmids\n",
        "Journal BMC Syst Biol has 23 pmids\n",
        "Journal J Behav Exp Finance has 1 pmids\n",
        "Journal J Am Chem Soc has 1 pmids\n",
        "Journal Methods Ecol Evol has 2 pmids\n",
        "Journal Addict Sci Clin Pract has 1 pmids\n",
        "Journal Chem Cent J has 2 pmids"
       ]
      },
      {
       "output_type": "stream",
       "stream": "stdout",
       "text": [
        "\n",
        "Journal 100890575 has 1 pmids\n",
        "Journal J Microsc has 1 pmids\n",
        "Journal Health Qual Life Outcomes has 1 pmids\n",
        "Journal Bioessays has 1 pmids\n",
        "Journal Front Neurorobot has 1 pmids\n",
        "Journal PLoS Comput Biol has 172 pmids\n",
        "Journal Breast Cancer Res has 1 pmids"
       ]
      },
      {
       "output_type": "stream",
       "stream": "stdout",
       "text": [
        "\n",
        "Journal Front Integr Neurosci has 2 pmids\n",
        "Journal J Cheminform has 54 pmids\n",
        "Journal Front Oncol has 2 pmids\n",
        "Journal ACS Synth Biol has 1 pmids"
       ]
      },
      {
       "output_type": "stream",
       "stream": "stdout",
       "text": [
        "\n",
        "Journal Vet Res has 2 pmids\n",
        "Journal J Ther Ultrasound has 1 pmids\n",
        "Journal Investig Genet has 2 pmids\n",
        "Journal Cell Rep has 4 pmids\n",
        "Journal Cell Res has 1 pmids\n",
        "Journal Database (Oxford) has 10 pmids\n",
        "Journal Springerplus has 6 pmids"
       ]
      },
      {
       "output_type": "stream",
       "stream": "stdout",
       "text": [
        "\n",
        "Journal Biol Direct has 3 pmids\n",
        "Journal Life (Basel) has 1 pmids\n",
        "Journal BMC Geriatr has 1 pmids\n",
        "Journal Genome Announc has 28 pmids"
       ]
      },
      {
       "output_type": "stream",
       "stream": "stdout",
       "text": [
        "\n",
        "Journal Pharmaceutics has 1 pmids\n",
        "Journal Sci Adv has 5 pmids\n",
        "Journal Cell Tissue Res has 1 pmids"
       ]
      },
      {
       "output_type": "stream",
       "stream": "stdout",
       "text": [
        "\n",
        "Journal Proc Math Phys Eng Sci has 4 pmids\n",
        "Journal Mol Ecol Resour has 3 pmids\n",
        "Journal Front Microbiol has 42 pmids"
       ]
      },
      {
       "output_type": "stream",
       "stream": "stdout",
       "text": [
        "\n",
        "Journal Am J Trop Med Hyg has 2 pmids\n",
        "Journal J Med Chem has 1 pmids\n",
        "Journal Rev Lat Am Enfermagem has 1 pmids"
       ]
      },
      {
       "output_type": "stream",
       "stream": "stdout",
       "text": [
        "\n",
        "Journal J Am Med Inform Assoc has 7 pmids\n",
        "Journal Acta Crystallogr D Biol Crystallogr has 4 pmids\n",
        "Journal J Chem Theory Comput has 5 pmids\n",
        "Journal Biomol Detect Quantif has 1 pmids"
       ]
      },
      {
       "output_type": "stream",
       "stream": "stdout",
       "text": [
        "\n",
        "Journal IUCrJ has 1 pmids\n",
        "Journal J R Soc Interface has 11 pmids\n",
        "Journal Mol Vis has 2 pmids\n",
        "Journal Hum Mutat has 1 pmids\n",
        "Journal Anal Bioanal Chem has 3 pmids"
       ]
      },
      {
       "output_type": "stream",
       "stream": "stdout",
       "text": [
        "\n",
        "Journal Genes Cells has 1 pmids\n",
        "Journal Front Neuroinformatics has 1 pmids\n",
        "Journal Mol Breed has 1 pmids\n",
        "Journal Algorithms Mol Biol has 9 pmids\n",
        "Journal Genet Epidemiol has 1 pmids"
       ]
      },
      {
       "output_type": "stream",
       "stream": "stdout",
       "text": [
        "\n",
        "Journal BMC Evol Biol has 31 pmids\n",
        "Journal Front Bioeng Biotechnol has 14 pmids\n",
        "Journal BMC Neurosci has 4 pmids"
       ]
      },
      {
       "output_type": "stream",
       "stream": "stdout",
       "text": [
        "\n",
        "Journal Front Genet has 40 pmids\n",
        "Journal Yale J Biol Med has 1 pmids\n",
        "Journal BMC Biotechnol has 2 pmids\n",
        "Journal Stem Cell Reports has 3 pmids\n",
        "Journal Curr Genomics has 1 pmids"
       ]
      },
      {
       "output_type": "stream",
       "stream": "stdout",
       "text": [
        "\n",
        "Journal Fam Cancer has 1 pmids\n",
        "Journal J Chem Inf Model has 4 pmids\n",
        "Journal Front Endocrinol (Lausanne) has 1 pmids\n",
        "Journal Front Plant Sci has 25 pmids"
       ]
      },
      {
       "output_type": "stream",
       "stream": "stdout",
       "text": [
        "\n",
        "Journal PLoS Med has 7 pmids\n",
        "Journal Plant Methods has 8 pmids\n",
        "Journal Reprod Biol Endocrinol has 1 pmids"
       ]
      },
      {
       "output_type": "stream",
       "stream": "stdout",
       "text": [
        "\n",
        "Journal Front Physiol has 5 pmids\n",
        "Journal Environ Monit Assess has 1 pmids\n",
        "Journal BMC Ecol has 2 pmids\n",
        "Journal J Neurosci Methods has 1 pmids\n",
        "Journal BMC Struct Biol has 1 pmids\n",
        "Journal Hum Mol Genet has 1 pmids\n",
        "Journal ACS Nano has 2 pmids\n",
        "Journal Vasc Cell has 1 pmids"
       ]
      },
      {
       "output_type": "stream",
       "stream": "stdout",
       "text": [
        "\n",
        "Journal Genet Sel Evol has 1 pmids\n",
        "Journal Med Biol Eng Comput has 1 pmids\n",
        "Journal J Med Case Rep has 1 pmids\n",
        "Journal Zoological Lett has 1 pmids\n",
        "Journal 9809671 has 6 pmids\n",
        "Journal Nucleic Acids Res has 87 pmids\n",
        "Journal Environ Health Perspect has 1 pmids"
       ]
      },
      {
       "output_type": "stream",
       "stream": "stdout",
       "text": [
        "\n",
        "Journal PeerJ has 101 pmids\n"
       ]
      }
     ],
     "prompt_number": 40
    },
    {
     "cell_type": "code",
     "collapsed": false,
     "input": [
      "# This is going to be very sparse!\n",
      "print \"Data frame has %s journals and %s modules \" %(df.shape[0],df.shape[1])\n",
      "df"
     ],
     "language": "python",
     "metadata": {},
     "outputs": [
      {
       "output_type": "stream",
       "stream": "stdout",
       "text": [
        "Data frame has 419 journals and 3615 modules \n"
       ]
      },
      {
       "html": [
        "<div style=\"max-width:1500px;overflow:auto;\">\n",
        "<table border=\"1\" class=\"dataframe\">\n",
        "  <thead>\n",
        "    <tr style=\"text-align: right;\">\n",
        "      <th></th>\n",
        "      <th>AIMA</th>\n",
        "      <th>API</th>\n",
        "      <th>ARC</th>\n",
        "      <th>ASTRID</th>\n",
        "      <th>AbstractPlot</th>\n",
        "      <th>Ace</th>\n",
        "      <th>AdaHERF</th>\n",
        "      <th>AlignIO</th>\n",
        "      <th>AlignedReadObjPET</th>\n",
        "      <th>Alignment</th>\n",
        "      <th>...</th>\n",
        "      <th>your</th>\n",
        "      <th>z_score</th>\n",
        "      <th>zbar</th>\n",
        "      <th>zc</th>\n",
        "      <th>zinc</th>\n",
        "      <th>zipfile</th>\n",
        "      <th>zippingfilehandler</th>\n",
        "      <th>zlib</th>\n",
        "      <th>zmq</th>\n",
        "      <th>zope</th>\n",
        "    </tr>\n",
        "  </thead>\n",
        "  <tbody>\n",
        "    <tr>\n",
        "      <th>J Immunol Methods</th>\n",
        "      <td>0</td>\n",
        "      <td>0</td>\n",
        "      <td>0</td>\n",
        "      <td>0</td>\n",
        "      <td>0</td>\n",
        "      <td>0</td>\n",
        "      <td>0</td>\n",
        "      <td>0</td>\n",
        "      <td>0</td>\n",
        "      <td>0</td>\n",
        "      <td>...</td>\n",
        "      <td>0</td>\n",
        "      <td>0</td>\n",
        "      <td>0</td>\n",
        "      <td>0</td>\n",
        "      <td>0</td>\n",
        "      <td>0</td>\n",
        "      <td>0</td>\n",
        "      <td>0</td>\n",
        "      <td>0</td>\n",
        "      <td>0</td>\n",
        "    </tr>\n",
        "    <tr>\n",
        "      <th>JALA Charlottesv Va</th>\n",
        "      <td>0</td>\n",
        "      <td>0</td>\n",
        "      <td>0</td>\n",
        "      <td>0</td>\n",
        "      <td>0</td>\n",
        "      <td>0</td>\n",
        "      <td>0</td>\n",
        "      <td>0</td>\n",
        "      <td>0</td>\n",
        "      <td>0</td>\n",
        "      <td>...</td>\n",
        "      <td>0</td>\n",
        "      <td>0</td>\n",
        "      <td>0</td>\n",
        "      <td>0</td>\n",
        "      <td>0</td>\n",
        "      <td>0</td>\n",
        "      <td>0</td>\n",
        "      <td>0</td>\n",
        "      <td>0</td>\n",
        "      <td>0</td>\n",
        "    </tr>\n",
        "    <tr>\n",
        "      <th>Brief Bioinform</th>\n",
        "      <td>0</td>\n",
        "      <td>0</td>\n",
        "      <td>0</td>\n",
        "      <td>0</td>\n",
        "      <td>0</td>\n",
        "      <td>0</td>\n",
        "      <td>0</td>\n",
        "      <td>0</td>\n",
        "      <td>0</td>\n",
        "      <td>0</td>\n",
        "      <td>...</td>\n",
        "      <td>0</td>\n",
        "      <td>0</td>\n",
        "      <td>0</td>\n",
        "      <td>0</td>\n",
        "      <td>0</td>\n",
        "      <td>0</td>\n",
        "      <td>0</td>\n",
        "      <td>0</td>\n",
        "      <td>0</td>\n",
        "      <td>0</td>\n",
        "    </tr>\n",
        "    <tr>\n",
        "      <th>Parasitology</th>\n",
        "      <td>0</td>\n",
        "      <td>0</td>\n",
        "      <td>0</td>\n",
        "      <td>0</td>\n",
        "      <td>0</td>\n",
        "      <td>0</td>\n",
        "      <td>0</td>\n",
        "      <td>0</td>\n",
        "      <td>0</td>\n",
        "      <td>0</td>\n",
        "      <td>...</td>\n",
        "      <td>0</td>\n",
        "      <td>0</td>\n",
        "      <td>0</td>\n",
        "      <td>0</td>\n",
        "      <td>0</td>\n",
        "      <td>0</td>\n",
        "      <td>0</td>\n",
        "      <td>0</td>\n",
        "      <td>0</td>\n",
        "      <td>0</td>\n",
        "    </tr>\n",
        "    <tr>\n",
        "      <th>Curr Biol</th>\n",
        "      <td>0</td>\n",
        "      <td>0</td>\n",
        "      <td>0</td>\n",
        "      <td>0</td>\n",
        "      <td>0</td>\n",
        "      <td>0</td>\n",
        "      <td>0</td>\n",
        "      <td>0</td>\n",
        "      <td>0</td>\n",
        "      <td>0</td>\n",
        "      <td>...</td>\n",
        "      <td>0</td>\n",
        "      <td>0</td>\n",
        "      <td>0</td>\n",
        "      <td>0</td>\n",
        "      <td>0</td>\n",
        "      <td>0</td>\n",
        "      <td>0</td>\n",
        "      <td>0</td>\n",
        "      <td>0</td>\n",
        "      <td>0</td>\n",
        "    </tr>\n",
        "    <tr>\n",
        "      <th>FEBS Lett</th>\n",
        "      <td>0</td>\n",
        "      <td>0</td>\n",
        "      <td>0</td>\n",
        "      <td>0</td>\n",
        "      <td>0</td>\n",
        "      <td>0</td>\n",
        "      <td>0</td>\n",
        "      <td>0</td>\n",
        "      <td>0</td>\n",
        "      <td>0</td>\n",
        "      <td>...</td>\n",
        "      <td>0</td>\n",
        "      <td>0</td>\n",
        "      <td>0</td>\n",
        "      <td>0</td>\n",
        "      <td>0</td>\n",
        "      <td>0</td>\n",
        "      <td>0</td>\n",
        "      <td>0</td>\n",
        "      <td>0</td>\n",
        "      <td>0</td>\n",
        "    </tr>\n",
        "    <tr>\n",
        "      <th>Influenza Other Respir Viruses</th>\n",
        "      <td>0</td>\n",
        "      <td>0</td>\n",
        "      <td>0</td>\n",
        "      <td>0</td>\n",
        "      <td>0</td>\n",
        "      <td>0</td>\n",
        "      <td>0</td>\n",
        "      <td>0</td>\n",
        "      <td>0</td>\n",
        "      <td>0</td>\n",
        "      <td>...</td>\n",
        "      <td>0</td>\n",
        "      <td>0</td>\n",
        "      <td>0</td>\n",
        "      <td>0</td>\n",
        "      <td>0</td>\n",
        "      <td>0</td>\n",
        "      <td>0</td>\n",
        "      <td>0</td>\n",
        "      <td>0</td>\n",
        "      <td>0</td>\n",
        "    </tr>\n",
        "    <tr>\n",
        "      <th>Brief Funct Genomics</th>\n",
        "      <td>0</td>\n",
        "      <td>0</td>\n",
        "      <td>0</td>\n",
        "      <td>0</td>\n",
        "      <td>0</td>\n",
        "      <td>0</td>\n",
        "      <td>0</td>\n",
        "      <td>0</td>\n",
        "      <td>0</td>\n",
        "      <td>0</td>\n",
        "      <td>...</td>\n",
        "      <td>0</td>\n",
        "      <td>0</td>\n",
        "      <td>0</td>\n",
        "      <td>0</td>\n",
        "      <td>0</td>\n",
        "      <td>0</td>\n",
        "      <td>0</td>\n",
        "      <td>0</td>\n",
        "      <td>0</td>\n",
        "      <td>0</td>\n",
        "    </tr>\n",
        "    <tr>\n",
        "      <th>F1000Res</th>\n",
        "      <td>0</td>\n",
        "      <td>0</td>\n",
        "      <td>0</td>\n",
        "      <td>0</td>\n",
        "      <td>0</td>\n",
        "      <td>0</td>\n",
        "      <td>0</td>\n",
        "      <td>0</td>\n",
        "      <td>0</td>\n",
        "      <td>0</td>\n",
        "      <td>...</td>\n",
        "      <td>0</td>\n",
        "      <td>0</td>\n",
        "      <td>0</td>\n",
        "      <td>0</td>\n",
        "      <td>0</td>\n",
        "      <td>1</td>\n",
        "      <td>0</td>\n",
        "      <td>0</td>\n",
        "      <td>0</td>\n",
        "      <td>0</td>\n",
        "    </tr>\n",
        "    <tr>\n",
        "      <th>J Virol</th>\n",
        "      <td>0</td>\n",
        "      <td>0</td>\n",
        "      <td>0</td>\n",
        "      <td>0</td>\n",
        "      <td>0</td>\n",
        "      <td>0</td>\n",
        "      <td>0</td>\n",
        "      <td>0</td>\n",
        "      <td>0</td>\n",
        "      <td>0</td>\n",
        "      <td>...</td>\n",
        "      <td>0</td>\n",
        "      <td>0</td>\n",
        "      <td>0</td>\n",
        "      <td>0</td>\n",
        "      <td>0</td>\n",
        "      <td>0</td>\n",
        "      <td>0</td>\n",
        "      <td>0</td>\n",
        "      <td>0</td>\n",
        "      <td>0</td>\n",
        "    </tr>\n",
        "    <tr>\n",
        "      <th>Front Mol Neurosci</th>\n",
        "      <td>0</td>\n",
        "      <td>0</td>\n",
        "      <td>0</td>\n",
        "      <td>0</td>\n",
        "      <td>0</td>\n",
        "      <td>0</td>\n",
        "      <td>0</td>\n",
        "      <td>0</td>\n",
        "      <td>0</td>\n",
        "      <td>0</td>\n",
        "      <td>...</td>\n",
        "      <td>0</td>\n",
        "      <td>0</td>\n",
        "      <td>0</td>\n",
        "      <td>0</td>\n",
        "      <td>0</td>\n",
        "      <td>0</td>\n",
        "      <td>0</td>\n",
        "      <td>0</td>\n",
        "      <td>0</td>\n",
        "      <td>0</td>\n",
        "    </tr>\n",
        "    <tr>\n",
        "      <th>EBioMedicine</th>\n",
        "      <td>0</td>\n",
        "      <td>0</td>\n",
        "      <td>0</td>\n",
        "      <td>0</td>\n",
        "      <td>0</td>\n",
        "      <td>0</td>\n",
        "      <td>0</td>\n",
        "      <td>0</td>\n",
        "      <td>0</td>\n",
        "      <td>0</td>\n",
        "      <td>...</td>\n",
        "      <td>0</td>\n",
        "      <td>0</td>\n",
        "      <td>0</td>\n",
        "      <td>0</td>\n",
        "      <td>0</td>\n",
        "      <td>0</td>\n",
        "      <td>0</td>\n",
        "      <td>0</td>\n",
        "      <td>0</td>\n",
        "      <td>0</td>\n",
        "    </tr>\n",
        "    <tr>\n",
        "      <th>Biomark Insights</th>\n",
        "      <td>0</td>\n",
        "      <td>0</td>\n",
        "      <td>0</td>\n",
        "      <td>0</td>\n",
        "      <td>0</td>\n",
        "      <td>0</td>\n",
        "      <td>0</td>\n",
        "      <td>0</td>\n",
        "      <td>0</td>\n",
        "      <td>0</td>\n",
        "      <td>...</td>\n",
        "      <td>0</td>\n",
        "      <td>0</td>\n",
        "      <td>0</td>\n",
        "      <td>0</td>\n",
        "      <td>0</td>\n",
        "      <td>0</td>\n",
        "      <td>0</td>\n",
        "      <td>0</td>\n",
        "      <td>0</td>\n",
        "      <td>0</td>\n",
        "    </tr>\n",
        "    <tr>\n",
        "      <th>Source Code Biol Med</th>\n",
        "      <td>0</td>\n",
        "      <td>0</td>\n",
        "      <td>0</td>\n",
        "      <td>0</td>\n",
        "      <td>0</td>\n",
        "      <td>0</td>\n",
        "      <td>0</td>\n",
        "      <td>0</td>\n",
        "      <td>0</td>\n",
        "      <td>0</td>\n",
        "      <td>...</td>\n",
        "      <td>0</td>\n",
        "      <td>0</td>\n",
        "      <td>0</td>\n",
        "      <td>0</td>\n",
        "      <td>0</td>\n",
        "      <td>1</td>\n",
        "      <td>0</td>\n",
        "      <td>0</td>\n",
        "      <td>0</td>\n",
        "      <td>0</td>\n",
        "    </tr>\n",
        "    <tr>\n",
        "      <th>Bull World Health Organ</th>\n",
        "      <td>0</td>\n",
        "      <td>0</td>\n",
        "      <td>0</td>\n",
        "      <td>0</td>\n",
        "      <td>0</td>\n",
        "      <td>0</td>\n",
        "      <td>0</td>\n",
        "      <td>0</td>\n",
        "      <td>0</td>\n",
        "      <td>0</td>\n",
        "      <td>...</td>\n",
        "      <td>0</td>\n",
        "      <td>0</td>\n",
        "      <td>0</td>\n",
        "      <td>0</td>\n",
        "      <td>0</td>\n",
        "      <td>0</td>\n",
        "      <td>0</td>\n",
        "      <td>0</td>\n",
        "      <td>0</td>\n",
        "      <td>0</td>\n",
        "    </tr>\n",
        "    <tr>\n",
        "      <th>Osong Public Health Res Perspect</th>\n",
        "      <td>0</td>\n",
        "      <td>0</td>\n",
        "      <td>0</td>\n",
        "      <td>0</td>\n",
        "      <td>0</td>\n",
        "      <td>0</td>\n",
        "      <td>0</td>\n",
        "      <td>0</td>\n",
        "      <td>0</td>\n",
        "      <td>0</td>\n",
        "      <td>...</td>\n",
        "      <td>0</td>\n",
        "      <td>0</td>\n",
        "      <td>0</td>\n",
        "      <td>0</td>\n",
        "      <td>0</td>\n",
        "      <td>0</td>\n",
        "      <td>0</td>\n",
        "      <td>0</td>\n",
        "      <td>0</td>\n",
        "      <td>0</td>\n",
        "    </tr>\n",
        "    <tr>\n",
        "      <th>Neuromolecular Med</th>\n",
        "      <td>0</td>\n",
        "      <td>0</td>\n",
        "      <td>0</td>\n",
        "      <td>0</td>\n",
        "      <td>0</td>\n",
        "      <td>0</td>\n",
        "      <td>0</td>\n",
        "      <td>0</td>\n",
        "      <td>0</td>\n",
        "      <td>0</td>\n",
        "      <td>...</td>\n",
        "      <td>0</td>\n",
        "      <td>0</td>\n",
        "      <td>0</td>\n",
        "      <td>0</td>\n",
        "      <td>0</td>\n",
        "      <td>0</td>\n",
        "      <td>0</td>\n",
        "      <td>0</td>\n",
        "      <td>0</td>\n",
        "      <td>0</td>\n",
        "    </tr>\n",
        "    <tr>\n",
        "      <th>Chem Biol</th>\n",
        "      <td>0</td>\n",
        "      <td>0</td>\n",
        "      <td>0</td>\n",
        "      <td>0</td>\n",
        "      <td>0</td>\n",
        "      <td>0</td>\n",
        "      <td>0</td>\n",
        "      <td>0</td>\n",
        "      <td>0</td>\n",
        "      <td>0</td>\n",
        "      <td>...</td>\n",
        "      <td>0</td>\n",
        "      <td>0</td>\n",
        "      <td>0</td>\n",
        "      <td>0</td>\n",
        "      <td>0</td>\n",
        "      <td>0</td>\n",
        "      <td>0</td>\n",
        "      <td>0</td>\n",
        "      <td>0</td>\n",
        "      <td>0</td>\n",
        "    </tr>\n",
        "    <tr>\n",
        "      <th>J Synchrotron Radiat</th>\n",
        "      <td>0</td>\n",
        "      <td>0</td>\n",
        "      <td>0</td>\n",
        "      <td>0</td>\n",
        "      <td>0</td>\n",
        "      <td>0</td>\n",
        "      <td>0</td>\n",
        "      <td>0</td>\n",
        "      <td>0</td>\n",
        "      <td>0</td>\n",
        "      <td>...</td>\n",
        "      <td>0</td>\n",
        "      <td>0</td>\n",
        "      <td>0</td>\n",
        "      <td>0</td>\n",
        "      <td>0</td>\n",
        "      <td>0</td>\n",
        "      <td>0</td>\n",
        "      <td>0</td>\n",
        "      <td>0</td>\n",
        "      <td>0</td>\n",
        "    </tr>\n",
        "    <tr>\n",
        "      <th>Microb Cell Fact</th>\n",
        "      <td>0</td>\n",
        "      <td>0</td>\n",
        "      <td>0</td>\n",
        "      <td>0</td>\n",
        "      <td>0</td>\n",
        "      <td>0</td>\n",
        "      <td>0</td>\n",
        "      <td>0</td>\n",
        "      <td>0</td>\n",
        "      <td>0</td>\n",
        "      <td>...</td>\n",
        "      <td>0</td>\n",
        "      <td>0</td>\n",
        "      <td>0</td>\n",
        "      <td>0</td>\n",
        "      <td>0</td>\n",
        "      <td>0</td>\n",
        "      <td>0</td>\n",
        "      <td>0</td>\n",
        "      <td>0</td>\n",
        "      <td>0</td>\n",
        "    </tr>\n",
        "    <tr>\n",
        "      <th>Front Aging Neurosci</th>\n",
        "      <td>0</td>\n",
        "      <td>0</td>\n",
        "      <td>0</td>\n",
        "      <td>0</td>\n",
        "      <td>0</td>\n",
        "      <td>0</td>\n",
        "      <td>0</td>\n",
        "      <td>0</td>\n",
        "      <td>0</td>\n",
        "      <td>0</td>\n",
        "      <td>...</td>\n",
        "      <td>0</td>\n",
        "      <td>0</td>\n",
        "      <td>0</td>\n",
        "      <td>0</td>\n",
        "      <td>0</td>\n",
        "      <td>0</td>\n",
        "      <td>0</td>\n",
        "      <td>0</td>\n",
        "      <td>0</td>\n",
        "      <td>0</td>\n",
        "    </tr>\n",
        "    <tr>\n",
        "      <th>J Infect Dis</th>\n",
        "      <td>0</td>\n",
        "      <td>0</td>\n",
        "      <td>0</td>\n",
        "      <td>0</td>\n",
        "      <td>0</td>\n",
        "      <td>0</td>\n",
        "      <td>0</td>\n",
        "      <td>0</td>\n",
        "      <td>0</td>\n",
        "      <td>0</td>\n",
        "      <td>...</td>\n",
        "      <td>0</td>\n",
        "      <td>0</td>\n",
        "      <td>0</td>\n",
        "      <td>0</td>\n",
        "      <td>0</td>\n",
        "      <td>0</td>\n",
        "      <td>0</td>\n",
        "      <td>0</td>\n",
        "      <td>0</td>\n",
        "      <td>0</td>\n",
        "    </tr>\n",
        "    <tr>\n",
        "      <th>8704895</th>\n",
        "      <td>0</td>\n",
        "      <td>0</td>\n",
        "      <td>0</td>\n",
        "      <td>0</td>\n",
        "      <td>0</td>\n",
        "      <td>0</td>\n",
        "      <td>0</td>\n",
        "      <td>0</td>\n",
        "      <td>0</td>\n",
        "      <td>0</td>\n",
        "      <td>...</td>\n",
        "      <td>0</td>\n",
        "      <td>0</td>\n",
        "      <td>0</td>\n",
        "      <td>0</td>\n",
        "      <td>0</td>\n",
        "      <td>0</td>\n",
        "      <td>0</td>\n",
        "      <td>0</td>\n",
        "      <td>0</td>\n",
        "      <td>0</td>\n",
        "    </tr>\n",
        "    <tr>\n",
        "      <th>BMC Health Serv Res</th>\n",
        "      <td>0</td>\n",
        "      <td>0</td>\n",
        "      <td>0</td>\n",
        "      <td>0</td>\n",
        "      <td>0</td>\n",
        "      <td>0</td>\n",
        "      <td>0</td>\n",
        "      <td>0</td>\n",
        "      <td>0</td>\n",
        "      <td>0</td>\n",
        "      <td>...</td>\n",
        "      <td>0</td>\n",
        "      <td>0</td>\n",
        "      <td>0</td>\n",
        "      <td>0</td>\n",
        "      <td>0</td>\n",
        "      <td>0</td>\n",
        "      <td>0</td>\n",
        "      <td>0</td>\n",
        "      <td>0</td>\n",
        "      <td>0</td>\n",
        "    </tr>\n",
        "    <tr>\n",
        "      <th>Int J Genomics</th>\n",
        "      <td>0</td>\n",
        "      <td>0</td>\n",
        "      <td>0</td>\n",
        "      <td>0</td>\n",
        "      <td>0</td>\n",
        "      <td>0</td>\n",
        "      <td>0</td>\n",
        "      <td>0</td>\n",
        "      <td>0</td>\n",
        "      <td>0</td>\n",
        "      <td>...</td>\n",
        "      <td>0</td>\n",
        "      <td>0</td>\n",
        "      <td>0</td>\n",
        "      <td>0</td>\n",
        "      <td>0</td>\n",
        "      <td>0</td>\n",
        "      <td>0</td>\n",
        "      <td>0</td>\n",
        "      <td>0</td>\n",
        "      <td>0</td>\n",
        "    </tr>\n",
        "    <tr>\n",
        "      <th>Open Microbiol J</th>\n",
        "      <td>0</td>\n",
        "      <td>0</td>\n",
        "      <td>0</td>\n",
        "      <td>0</td>\n",
        "      <td>0</td>\n",
        "      <td>0</td>\n",
        "      <td>0</td>\n",
        "      <td>0</td>\n",
        "      <td>0</td>\n",
        "      <td>0</td>\n",
        "      <td>...</td>\n",
        "      <td>0</td>\n",
        "      <td>0</td>\n",
        "      <td>0</td>\n",
        "      <td>0</td>\n",
        "      <td>0</td>\n",
        "      <td>0</td>\n",
        "      <td>0</td>\n",
        "      <td>0</td>\n",
        "      <td>0</td>\n",
        "      <td>0</td>\n",
        "    </tr>\n",
        "    <tr>\n",
        "      <th>Front Behav Neurosci</th>\n",
        "      <td>0</td>\n",
        "      <td>0</td>\n",
        "      <td>0</td>\n",
        "      <td>0</td>\n",
        "      <td>0</td>\n",
        "      <td>0</td>\n",
        "      <td>0</td>\n",
        "      <td>0</td>\n",
        "      <td>0</td>\n",
        "      <td>0</td>\n",
        "      <td>...</td>\n",
        "      <td>0</td>\n",
        "      <td>0</td>\n",
        "      <td>0</td>\n",
        "      <td>0</td>\n",
        "      <td>0</td>\n",
        "      <td>1</td>\n",
        "      <td>0</td>\n",
        "      <td>0</td>\n",
        "      <td>0</td>\n",
        "      <td>0</td>\n",
        "    </tr>\n",
        "    <tr>\n",
        "      <th>Front Neurosci</th>\n",
        "      <td>0</td>\n",
        "      <td>0</td>\n",
        "      <td>0</td>\n",
        "      <td>0</td>\n",
        "      <td>0</td>\n",
        "      <td>0</td>\n",
        "      <td>0</td>\n",
        "      <td>0</td>\n",
        "      <td>0</td>\n",
        "      <td>0</td>\n",
        "      <td>...</td>\n",
        "      <td>0</td>\n",
        "      <td>0</td>\n",
        "      <td>0</td>\n",
        "      <td>0</td>\n",
        "      <td>0</td>\n",
        "      <td>0</td>\n",
        "      <td>0</td>\n",
        "      <td>0</td>\n",
        "      <td>0</td>\n",
        "      <td>0</td>\n",
        "    </tr>\n",
        "    <tr>\n",
        "      <th>Comput Struct Biotechnol J</th>\n",
        "      <td>0</td>\n",
        "      <td>0</td>\n",
        "      <td>0</td>\n",
        "      <td>0</td>\n",
        "      <td>0</td>\n",
        "      <td>0</td>\n",
        "      <td>0</td>\n",
        "      <td>0</td>\n",
        "      <td>0</td>\n",
        "      <td>0</td>\n",
        "      <td>...</td>\n",
        "      <td>0</td>\n",
        "      <td>0</td>\n",
        "      <td>0</td>\n",
        "      <td>0</td>\n",
        "      <td>0</td>\n",
        "      <td>0</td>\n",
        "      <td>0</td>\n",
        "      <td>0</td>\n",
        "      <td>0</td>\n",
        "      <td>0</td>\n",
        "    </tr>\n",
        "    <tr>\n",
        "      <th>Stud Mycol</th>\n",
        "      <td>0</td>\n",
        "      <td>0</td>\n",
        "      <td>0</td>\n",
        "      <td>0</td>\n",
        "      <td>0</td>\n",
        "      <td>0</td>\n",
        "      <td>0</td>\n",
        "      <td>0</td>\n",
        "      <td>0</td>\n",
        "      <td>0</td>\n",
        "      <td>...</td>\n",
        "      <td>0</td>\n",
        "      <td>0</td>\n",
        "      <td>0</td>\n",
        "      <td>0</td>\n",
        "      <td>0</td>\n",
        "      <td>0</td>\n",
        "      <td>0</td>\n",
        "      <td>0</td>\n",
        "      <td>0</td>\n",
        "      <td>0</td>\n",
        "    </tr>\n",
        "    <tr>\n",
        "      <th>...</th>\n",
        "      <td>...</td>\n",
        "      <td>...</td>\n",
        "      <td>...</td>\n",
        "      <td>...</td>\n",
        "      <td>...</td>\n",
        "      <td>...</td>\n",
        "      <td>...</td>\n",
        "      <td>...</td>\n",
        "      <td>...</td>\n",
        "      <td>...</td>\n",
        "      <td>...</td>\n",
        "      <td>...</td>\n",
        "      <td>...</td>\n",
        "      <td>...</td>\n",
        "      <td>...</td>\n",
        "      <td>...</td>\n",
        "      <td>...</td>\n",
        "      <td>...</td>\n",
        "      <td>...</td>\n",
        "      <td>...</td>\n",
        "      <td>...</td>\n",
        "    </tr>\n",
        "    <tr>\n",
        "      <th>Front Bioeng Biotechnol</th>\n",
        "      <td>0</td>\n",
        "      <td>0</td>\n",
        "      <td>0</td>\n",
        "      <td>0</td>\n",
        "      <td>0</td>\n",
        "      <td>0</td>\n",
        "      <td>0</td>\n",
        "      <td>0</td>\n",
        "      <td>0</td>\n",
        "      <td>0</td>\n",
        "      <td>...</td>\n",
        "      <td>0</td>\n",
        "      <td>0</td>\n",
        "      <td>0</td>\n",
        "      <td>0</td>\n",
        "      <td>0</td>\n",
        "      <td>0</td>\n",
        "      <td>0</td>\n",
        "      <td>0</td>\n",
        "      <td>0</td>\n",
        "      <td>6</td>\n",
        "    </tr>\n",
        "    <tr>\n",
        "      <th>BMC Neurosci</th>\n",
        "      <td>0</td>\n",
        "      <td>0</td>\n",
        "      <td>0</td>\n",
        "      <td>0</td>\n",
        "      <td>0</td>\n",
        "      <td>0</td>\n",
        "      <td>0</td>\n",
        "      <td>0</td>\n",
        "      <td>0</td>\n",
        "      <td>0</td>\n",
        "      <td>...</td>\n",
        "      <td>0</td>\n",
        "      <td>0</td>\n",
        "      <td>0</td>\n",
        "      <td>0</td>\n",
        "      <td>0</td>\n",
        "      <td>0</td>\n",
        "      <td>0</td>\n",
        "      <td>0</td>\n",
        "      <td>0</td>\n",
        "      <td>0</td>\n",
        "    </tr>\n",
        "    <tr>\n",
        "      <th>Front Genet</th>\n",
        "      <td>0</td>\n",
        "      <td>0</td>\n",
        "      <td>0</td>\n",
        "      <td>0</td>\n",
        "      <td>0</td>\n",
        "      <td>0</td>\n",
        "      <td>0</td>\n",
        "      <td>0</td>\n",
        "      <td>1</td>\n",
        "      <td>0</td>\n",
        "      <td>...</td>\n",
        "      <td>0</td>\n",
        "      <td>0</td>\n",
        "      <td>0</td>\n",
        "      <td>0</td>\n",
        "      <td>0</td>\n",
        "      <td>0</td>\n",
        "      <td>0</td>\n",
        "      <td>0</td>\n",
        "      <td>0</td>\n",
        "      <td>0</td>\n",
        "    </tr>\n",
        "    <tr>\n",
        "      <th>Yale J Biol Med</th>\n",
        "      <td>0</td>\n",
        "      <td>0</td>\n",
        "      <td>0</td>\n",
        "      <td>0</td>\n",
        "      <td>0</td>\n",
        "      <td>0</td>\n",
        "      <td>0</td>\n",
        "      <td>0</td>\n",
        "      <td>0</td>\n",
        "      <td>0</td>\n",
        "      <td>...</td>\n",
        "      <td>0</td>\n",
        "      <td>0</td>\n",
        "      <td>0</td>\n",
        "      <td>0</td>\n",
        "      <td>0</td>\n",
        "      <td>0</td>\n",
        "      <td>0</td>\n",
        "      <td>0</td>\n",
        "      <td>0</td>\n",
        "      <td>0</td>\n",
        "    </tr>\n",
        "    <tr>\n",
        "      <th>BMC Biotechnol</th>\n",
        "      <td>0</td>\n",
        "      <td>0</td>\n",
        "      <td>0</td>\n",
        "      <td>0</td>\n",
        "      <td>0</td>\n",
        "      <td>0</td>\n",
        "      <td>0</td>\n",
        "      <td>0</td>\n",
        "      <td>0</td>\n",
        "      <td>0</td>\n",
        "      <td>...</td>\n",
        "      <td>0</td>\n",
        "      <td>0</td>\n",
        "      <td>0</td>\n",
        "      <td>0</td>\n",
        "      <td>0</td>\n",
        "      <td>0</td>\n",
        "      <td>0</td>\n",
        "      <td>0</td>\n",
        "      <td>0</td>\n",
        "      <td>0</td>\n",
        "    </tr>\n",
        "    <tr>\n",
        "      <th>Stem Cell Reports</th>\n",
        "      <td>0</td>\n",
        "      <td>0</td>\n",
        "      <td>0</td>\n",
        "      <td>0</td>\n",
        "      <td>0</td>\n",
        "      <td>0</td>\n",
        "      <td>0</td>\n",
        "      <td>0</td>\n",
        "      <td>0</td>\n",
        "      <td>0</td>\n",
        "      <td>...</td>\n",
        "      <td>0</td>\n",
        "      <td>0</td>\n",
        "      <td>0</td>\n",
        "      <td>0</td>\n",
        "      <td>0</td>\n",
        "      <td>0</td>\n",
        "      <td>0</td>\n",
        "      <td>0</td>\n",
        "      <td>0</td>\n",
        "      <td>0</td>\n",
        "    </tr>\n",
        "    <tr>\n",
        "      <th>Curr Genomics</th>\n",
        "      <td>0</td>\n",
        "      <td>0</td>\n",
        "      <td>0</td>\n",
        "      <td>0</td>\n",
        "      <td>0</td>\n",
        "      <td>0</td>\n",
        "      <td>0</td>\n",
        "      <td>0</td>\n",
        "      <td>0</td>\n",
        "      <td>0</td>\n",
        "      <td>...</td>\n",
        "      <td>0</td>\n",
        "      <td>0</td>\n",
        "      <td>0</td>\n",
        "      <td>0</td>\n",
        "      <td>0</td>\n",
        "      <td>0</td>\n",
        "      <td>0</td>\n",
        "      <td>0</td>\n",
        "      <td>0</td>\n",
        "      <td>0</td>\n",
        "    </tr>\n",
        "    <tr>\n",
        "      <th>Fam Cancer</th>\n",
        "      <td>0</td>\n",
        "      <td>0</td>\n",
        "      <td>0</td>\n",
        "      <td>0</td>\n",
        "      <td>0</td>\n",
        "      <td>0</td>\n",
        "      <td>0</td>\n",
        "      <td>0</td>\n",
        "      <td>0</td>\n",
        "      <td>0</td>\n",
        "      <td>...</td>\n",
        "      <td>0</td>\n",
        "      <td>0</td>\n",
        "      <td>0</td>\n",
        "      <td>0</td>\n",
        "      <td>0</td>\n",
        "      <td>0</td>\n",
        "      <td>0</td>\n",
        "      <td>0</td>\n",
        "      <td>0</td>\n",
        "      <td>0</td>\n",
        "    </tr>\n",
        "    <tr>\n",
        "      <th>J Chem Inf Model</th>\n",
        "      <td>0</td>\n",
        "      <td>0</td>\n",
        "      <td>0</td>\n",
        "      <td>0</td>\n",
        "      <td>0</td>\n",
        "      <td>0</td>\n",
        "      <td>0</td>\n",
        "      <td>0</td>\n",
        "      <td>0</td>\n",
        "      <td>0</td>\n",
        "      <td>...</td>\n",
        "      <td>0</td>\n",
        "      <td>0</td>\n",
        "      <td>0</td>\n",
        "      <td>0</td>\n",
        "      <td>0</td>\n",
        "      <td>0</td>\n",
        "      <td>0</td>\n",
        "      <td>0</td>\n",
        "      <td>0</td>\n",
        "      <td>0</td>\n",
        "    </tr>\n",
        "    <tr>\n",
        "      <th>Front Endocrinol (Lausanne)</th>\n",
        "      <td>0</td>\n",
        "      <td>0</td>\n",
        "      <td>0</td>\n",
        "      <td>0</td>\n",
        "      <td>0</td>\n",
        "      <td>0</td>\n",
        "      <td>0</td>\n",
        "      <td>0</td>\n",
        "      <td>0</td>\n",
        "      <td>0</td>\n",
        "      <td>...</td>\n",
        "      <td>0</td>\n",
        "      <td>0</td>\n",
        "      <td>0</td>\n",
        "      <td>0</td>\n",
        "      <td>0</td>\n",
        "      <td>0</td>\n",
        "      <td>0</td>\n",
        "      <td>0</td>\n",
        "      <td>0</td>\n",
        "      <td>0</td>\n",
        "    </tr>\n",
        "    <tr>\n",
        "      <th>Front Plant Sci</th>\n",
        "      <td>0</td>\n",
        "      <td>0</td>\n",
        "      <td>0</td>\n",
        "      <td>0</td>\n",
        "      <td>0</td>\n",
        "      <td>0</td>\n",
        "      <td>0</td>\n",
        "      <td>0</td>\n",
        "      <td>0</td>\n",
        "      <td>0</td>\n",
        "      <td>...</td>\n",
        "      <td>0</td>\n",
        "      <td>0</td>\n",
        "      <td>0</td>\n",
        "      <td>0</td>\n",
        "      <td>0</td>\n",
        "      <td>0</td>\n",
        "      <td>0</td>\n",
        "      <td>0</td>\n",
        "      <td>0</td>\n",
        "      <td>0</td>\n",
        "    </tr>\n",
        "    <tr>\n",
        "      <th>PLoS Med</th>\n",
        "      <td>0</td>\n",
        "      <td>0</td>\n",
        "      <td>0</td>\n",
        "      <td>0</td>\n",
        "      <td>0</td>\n",
        "      <td>0</td>\n",
        "      <td>0</td>\n",
        "      <td>0</td>\n",
        "      <td>0</td>\n",
        "      <td>0</td>\n",
        "      <td>...</td>\n",
        "      <td>0</td>\n",
        "      <td>0</td>\n",
        "      <td>0</td>\n",
        "      <td>0</td>\n",
        "      <td>0</td>\n",
        "      <td>0</td>\n",
        "      <td>0</td>\n",
        "      <td>0</td>\n",
        "      <td>0</td>\n",
        "      <td>0</td>\n",
        "    </tr>\n",
        "    <tr>\n",
        "      <th>Plant Methods</th>\n",
        "      <td>0</td>\n",
        "      <td>0</td>\n",
        "      <td>0</td>\n",
        "      <td>0</td>\n",
        "      <td>0</td>\n",
        "      <td>0</td>\n",
        "      <td>0</td>\n",
        "      <td>0</td>\n",
        "      <td>0</td>\n",
        "      <td>0</td>\n",
        "      <td>...</td>\n",
        "      <td>0</td>\n",
        "      <td>0</td>\n",
        "      <td>0</td>\n",
        "      <td>0</td>\n",
        "      <td>0</td>\n",
        "      <td>0</td>\n",
        "      <td>0</td>\n",
        "      <td>0</td>\n",
        "      <td>0</td>\n",
        "      <td>0</td>\n",
        "    </tr>\n",
        "    <tr>\n",
        "      <th>Reprod Biol Endocrinol</th>\n",
        "      <td>0</td>\n",
        "      <td>0</td>\n",
        "      <td>0</td>\n",
        "      <td>0</td>\n",
        "      <td>0</td>\n",
        "      <td>0</td>\n",
        "      <td>0</td>\n",
        "      <td>0</td>\n",
        "      <td>0</td>\n",
        "      <td>0</td>\n",
        "      <td>...</td>\n",
        "      <td>0</td>\n",
        "      <td>0</td>\n",
        "      <td>0</td>\n",
        "      <td>0</td>\n",
        "      <td>0</td>\n",
        "      <td>0</td>\n",
        "      <td>0</td>\n",
        "      <td>0</td>\n",
        "      <td>0</td>\n",
        "      <td>0</td>\n",
        "    </tr>\n",
        "    <tr>\n",
        "      <th>Front Physiol</th>\n",
        "      <td>0</td>\n",
        "      <td>0</td>\n",
        "      <td>0</td>\n",
        "      <td>0</td>\n",
        "      <td>0</td>\n",
        "      <td>0</td>\n",
        "      <td>0</td>\n",
        "      <td>0</td>\n",
        "      <td>0</td>\n",
        "      <td>0</td>\n",
        "      <td>...</td>\n",
        "      <td>0</td>\n",
        "      <td>0</td>\n",
        "      <td>0</td>\n",
        "      <td>0</td>\n",
        "      <td>0</td>\n",
        "      <td>0</td>\n",
        "      <td>0</td>\n",
        "      <td>0</td>\n",
        "      <td>0</td>\n",
        "      <td>0</td>\n",
        "    </tr>\n",
        "    <tr>\n",
        "      <th>Environ Monit Assess</th>\n",
        "      <td>0</td>\n",
        "      <td>0</td>\n",
        "      <td>0</td>\n",
        "      <td>0</td>\n",
        "      <td>0</td>\n",
        "      <td>0</td>\n",
        "      <td>0</td>\n",
        "      <td>0</td>\n",
        "      <td>0</td>\n",
        "      <td>0</td>\n",
        "      <td>...</td>\n",
        "      <td>0</td>\n",
        "      <td>0</td>\n",
        "      <td>0</td>\n",
        "      <td>0</td>\n",
        "      <td>0</td>\n",
        "      <td>0</td>\n",
        "      <td>0</td>\n",
        "      <td>0</td>\n",
        "      <td>0</td>\n",
        "      <td>0</td>\n",
        "    </tr>\n",
        "    <tr>\n",
        "      <th>BMC Ecol</th>\n",
        "      <td>0</td>\n",
        "      <td>0</td>\n",
        "      <td>0</td>\n",
        "      <td>0</td>\n",
        "      <td>0</td>\n",
        "      <td>0</td>\n",
        "      <td>0</td>\n",
        "      <td>0</td>\n",
        "      <td>0</td>\n",
        "      <td>0</td>\n",
        "      <td>...</td>\n",
        "      <td>0</td>\n",
        "      <td>0</td>\n",
        "      <td>0</td>\n",
        "      <td>0</td>\n",
        "      <td>0</td>\n",
        "      <td>0</td>\n",
        "      <td>0</td>\n",
        "      <td>0</td>\n",
        "      <td>0</td>\n",
        "      <td>0</td>\n",
        "    </tr>\n",
        "    <tr>\n",
        "      <th>J Neurosci Methods</th>\n",
        "      <td>0</td>\n",
        "      <td>0</td>\n",
        "      <td>0</td>\n",
        "      <td>0</td>\n",
        "      <td>0</td>\n",
        "      <td>0</td>\n",
        "      <td>0</td>\n",
        "      <td>0</td>\n",
        "      <td>0</td>\n",
        "      <td>0</td>\n",
        "      <td>...</td>\n",
        "      <td>0</td>\n",
        "      <td>0</td>\n",
        "      <td>0</td>\n",
        "      <td>0</td>\n",
        "      <td>0</td>\n",
        "      <td>0</td>\n",
        "      <td>0</td>\n",
        "      <td>0</td>\n",
        "      <td>0</td>\n",
        "      <td>0</td>\n",
        "    </tr>\n",
        "    <tr>\n",
        "      <th>BMC Struct Biol</th>\n",
        "      <td>0</td>\n",
        "      <td>0</td>\n",
        "      <td>0</td>\n",
        "      <td>0</td>\n",
        "      <td>0</td>\n",
        "      <td>0</td>\n",
        "      <td>0</td>\n",
        "      <td>0</td>\n",
        "      <td>0</td>\n",
        "      <td>0</td>\n",
        "      <td>...</td>\n",
        "      <td>0</td>\n",
        "      <td>0</td>\n",
        "      <td>0</td>\n",
        "      <td>0</td>\n",
        "      <td>0</td>\n",
        "      <td>0</td>\n",
        "      <td>0</td>\n",
        "      <td>0</td>\n",
        "      <td>0</td>\n",
        "      <td>0</td>\n",
        "    </tr>\n",
        "    <tr>\n",
        "      <th>Hum Mol Genet</th>\n",
        "      <td>0</td>\n",
        "      <td>0</td>\n",
        "      <td>0</td>\n",
        "      <td>0</td>\n",
        "      <td>0</td>\n",
        "      <td>0</td>\n",
        "      <td>0</td>\n",
        "      <td>0</td>\n",
        "      <td>0</td>\n",
        "      <td>0</td>\n",
        "      <td>...</td>\n",
        "      <td>0</td>\n",
        "      <td>0</td>\n",
        "      <td>0</td>\n",
        "      <td>0</td>\n",
        "      <td>0</td>\n",
        "      <td>0</td>\n",
        "      <td>0</td>\n",
        "      <td>0</td>\n",
        "      <td>0</td>\n",
        "      <td>0</td>\n",
        "    </tr>\n",
        "    <tr>\n",
        "      <th>ACS Nano</th>\n",
        "      <td>0</td>\n",
        "      <td>0</td>\n",
        "      <td>0</td>\n",
        "      <td>0</td>\n",
        "      <td>0</td>\n",
        "      <td>0</td>\n",
        "      <td>0</td>\n",
        "      <td>0</td>\n",
        "      <td>0</td>\n",
        "      <td>0</td>\n",
        "      <td>...</td>\n",
        "      <td>0</td>\n",
        "      <td>0</td>\n",
        "      <td>0</td>\n",
        "      <td>0</td>\n",
        "      <td>0</td>\n",
        "      <td>0</td>\n",
        "      <td>0</td>\n",
        "      <td>0</td>\n",
        "      <td>0</td>\n",
        "      <td>0</td>\n",
        "    </tr>\n",
        "    <tr>\n",
        "      <th>Vasc Cell</th>\n",
        "      <td>0</td>\n",
        "      <td>0</td>\n",
        "      <td>0</td>\n",
        "      <td>0</td>\n",
        "      <td>0</td>\n",
        "      <td>0</td>\n",
        "      <td>0</td>\n",
        "      <td>0</td>\n",
        "      <td>0</td>\n",
        "      <td>0</td>\n",
        "      <td>...</td>\n",
        "      <td>0</td>\n",
        "      <td>0</td>\n",
        "      <td>0</td>\n",
        "      <td>0</td>\n",
        "      <td>0</td>\n",
        "      <td>0</td>\n",
        "      <td>0</td>\n",
        "      <td>0</td>\n",
        "      <td>0</td>\n",
        "      <td>0</td>\n",
        "    </tr>\n",
        "    <tr>\n",
        "      <th>Genet Sel Evol</th>\n",
        "      <td>0</td>\n",
        "      <td>0</td>\n",
        "      <td>0</td>\n",
        "      <td>0</td>\n",
        "      <td>0</td>\n",
        "      <td>0</td>\n",
        "      <td>0</td>\n",
        "      <td>0</td>\n",
        "      <td>0</td>\n",
        "      <td>0</td>\n",
        "      <td>...</td>\n",
        "      <td>0</td>\n",
        "      <td>0</td>\n",
        "      <td>0</td>\n",
        "      <td>0</td>\n",
        "      <td>0</td>\n",
        "      <td>0</td>\n",
        "      <td>0</td>\n",
        "      <td>0</td>\n",
        "      <td>0</td>\n",
        "      <td>0</td>\n",
        "    </tr>\n",
        "    <tr>\n",
        "      <th>Med Biol Eng Comput</th>\n",
        "      <td>0</td>\n",
        "      <td>0</td>\n",
        "      <td>0</td>\n",
        "      <td>0</td>\n",
        "      <td>0</td>\n",
        "      <td>0</td>\n",
        "      <td>0</td>\n",
        "      <td>0</td>\n",
        "      <td>0</td>\n",
        "      <td>0</td>\n",
        "      <td>...</td>\n",
        "      <td>0</td>\n",
        "      <td>0</td>\n",
        "      <td>0</td>\n",
        "      <td>0</td>\n",
        "      <td>0</td>\n",
        "      <td>0</td>\n",
        "      <td>0</td>\n",
        "      <td>0</td>\n",
        "      <td>0</td>\n",
        "      <td>0</td>\n",
        "    </tr>\n",
        "    <tr>\n",
        "      <th>J Med Case Rep</th>\n",
        "      <td>0</td>\n",
        "      <td>0</td>\n",
        "      <td>0</td>\n",
        "      <td>0</td>\n",
        "      <td>0</td>\n",
        "      <td>0</td>\n",
        "      <td>0</td>\n",
        "      <td>0</td>\n",
        "      <td>0</td>\n",
        "      <td>0</td>\n",
        "      <td>...</td>\n",
        "      <td>0</td>\n",
        "      <td>0</td>\n",
        "      <td>0</td>\n",
        "      <td>0</td>\n",
        "      <td>0</td>\n",
        "      <td>0</td>\n",
        "      <td>0</td>\n",
        "      <td>0</td>\n",
        "      <td>0</td>\n",
        "      <td>0</td>\n",
        "    </tr>\n",
        "    <tr>\n",
        "      <th>Zoological Lett</th>\n",
        "      <td>0</td>\n",
        "      <td>0</td>\n",
        "      <td>0</td>\n",
        "      <td>0</td>\n",
        "      <td>0</td>\n",
        "      <td>0</td>\n",
        "      <td>0</td>\n",
        "      <td>0</td>\n",
        "      <td>0</td>\n",
        "      <td>0</td>\n",
        "      <td>...</td>\n",
        "      <td>0</td>\n",
        "      <td>0</td>\n",
        "      <td>0</td>\n",
        "      <td>0</td>\n",
        "      <td>0</td>\n",
        "      <td>0</td>\n",
        "      <td>0</td>\n",
        "      <td>0</td>\n",
        "      <td>0</td>\n",
        "      <td>0</td>\n",
        "    </tr>\n",
        "    <tr>\n",
        "      <th>9809671</th>\n",
        "      <td>0</td>\n",
        "      <td>0</td>\n",
        "      <td>0</td>\n",
        "      <td>0</td>\n",
        "      <td>0</td>\n",
        "      <td>0</td>\n",
        "      <td>0</td>\n",
        "      <td>0</td>\n",
        "      <td>0</td>\n",
        "      <td>0</td>\n",
        "      <td>...</td>\n",
        "      <td>0</td>\n",
        "      <td>0</td>\n",
        "      <td>0</td>\n",
        "      <td>0</td>\n",
        "      <td>0</td>\n",
        "      <td>0</td>\n",
        "      <td>0</td>\n",
        "      <td>0</td>\n",
        "      <td>0</td>\n",
        "      <td>0</td>\n",
        "    </tr>\n",
        "    <tr>\n",
        "      <th>Nucleic Acids Res</th>\n",
        "      <td>0</td>\n",
        "      <td>0</td>\n",
        "      <td>0</td>\n",
        "      <td>0</td>\n",
        "      <td>0</td>\n",
        "      <td>0</td>\n",
        "      <td>0</td>\n",
        "      <td>0</td>\n",
        "      <td>0</td>\n",
        "      <td>0</td>\n",
        "      <td>...</td>\n",
        "      <td>0</td>\n",
        "      <td>0</td>\n",
        "      <td>0</td>\n",
        "      <td>0</td>\n",
        "      <td>0</td>\n",
        "      <td>0</td>\n",
        "      <td>0</td>\n",
        "      <td>0</td>\n",
        "      <td>0</td>\n",
        "      <td>0</td>\n",
        "    </tr>\n",
        "    <tr>\n",
        "      <th>Environ Health Perspect</th>\n",
        "      <td>0</td>\n",
        "      <td>0</td>\n",
        "      <td>0</td>\n",
        "      <td>0</td>\n",
        "      <td>0</td>\n",
        "      <td>0</td>\n",
        "      <td>0</td>\n",
        "      <td>0</td>\n",
        "      <td>0</td>\n",
        "      <td>0</td>\n",
        "      <td>...</td>\n",
        "      <td>0</td>\n",
        "      <td>0</td>\n",
        "      <td>0</td>\n",
        "      <td>0</td>\n",
        "      <td>0</td>\n",
        "      <td>0</td>\n",
        "      <td>0</td>\n",
        "      <td>0</td>\n",
        "      <td>0</td>\n",
        "      <td>0</td>\n",
        "    </tr>\n",
        "    <tr>\n",
        "      <th>PeerJ</th>\n",
        "      <td>0</td>\n",
        "      <td>0</td>\n",
        "      <td>0</td>\n",
        "      <td>0</td>\n",
        "      <td>12</td>\n",
        "      <td>0</td>\n",
        "      <td>0</td>\n",
        "      <td>0</td>\n",
        "      <td>0</td>\n",
        "      <td>0</td>\n",
        "      <td>...</td>\n",
        "      <td>0</td>\n",
        "      <td>0</td>\n",
        "      <td>0</td>\n",
        "      <td>0</td>\n",
        "      <td>0</td>\n",
        "      <td>1</td>\n",
        "      <td>0</td>\n",
        "      <td>0</td>\n",
        "      <td>0</td>\n",
        "      <td>0</td>\n",
        "    </tr>\n",
        "  </tbody>\n",
        "</table>\n",
        "<p>419 rows \u00d7 3615 columns</p>\n",
        "</div>"
       ],
       "metadata": {},
       "output_type": "pyout",
       "prompt_number": 43,
       "text": [
        "                                  AIMA  API  ARC  ASTRID  AbstractPlot  Ace  \\\n",
        "J Immunol Methods                    0    0    0       0             0    0   \n",
        "JALA Charlottesv Va                  0    0    0       0             0    0   \n",
        "Brief Bioinform                      0    0    0       0             0    0   \n",
        "Parasitology                         0    0    0       0             0    0   \n",
        "Curr Biol                            0    0    0       0             0    0   \n",
        "FEBS Lett                            0    0    0       0             0    0   \n",
        "Influenza Other Respir Viruses       0    0    0       0             0    0   \n",
        "Brief Funct Genomics                 0    0    0       0             0    0   \n",
        "F1000Res                             0    0    0       0             0    0   \n",
        "J Virol                              0    0    0       0             0    0   \n",
        "Front Mol Neurosci                   0    0    0       0             0    0   \n",
        "EBioMedicine                         0    0    0       0             0    0   \n",
        "Biomark Insights                     0    0    0       0             0    0   \n",
        "Source Code Biol Med                 0    0    0       0             0    0   \n",
        "Bull World Health Organ              0    0    0       0             0    0   \n",
        "Osong Public Health Res Perspect     0    0    0       0             0    0   \n",
        "Neuromolecular Med                   0    0    0       0             0    0   \n",
        "Chem Biol                            0    0    0       0             0    0   \n",
        "J Synchrotron Radiat                 0    0    0       0             0    0   \n",
        "Microb Cell Fact                     0    0    0       0             0    0   \n",
        "Front Aging Neurosci                 0    0    0       0             0    0   \n",
        "J Infect Dis                         0    0    0       0             0    0   \n",
        "8704895                              0    0    0       0             0    0   \n",
        "BMC Health Serv Res                  0    0    0       0             0    0   \n",
        "Int J Genomics                       0    0    0       0             0    0   \n",
        "Open Microbiol J                     0    0    0       0             0    0   \n",
        "Front Behav Neurosci                 0    0    0       0             0    0   \n",
        "Front Neurosci                       0    0    0       0             0    0   \n",
        "Comput Struct Biotechnol J           0    0    0       0             0    0   \n",
        "Stud Mycol                           0    0    0       0             0    0   \n",
        "...                                ...  ...  ...     ...           ...  ...   \n",
        "Front Bioeng Biotechnol              0    0    0       0             0    0   \n",
        "BMC Neurosci                         0    0    0       0             0    0   \n",
        "Front Genet                          0    0    0       0             0    0   \n",
        "Yale J Biol Med                      0    0    0       0             0    0   \n",
        "BMC Biotechnol                       0    0    0       0             0    0   \n",
        "Stem Cell Reports                    0    0    0       0             0    0   \n",
        "Curr Genomics                        0    0    0       0             0    0   \n",
        "Fam Cancer                           0    0    0       0             0    0   \n",
        "J Chem Inf Model                     0    0    0       0             0    0   \n",
        "Front Endocrinol (Lausanne)          0    0    0       0             0    0   \n",
        "Front Plant Sci                      0    0    0       0             0    0   \n",
        "PLoS Med                             0    0    0       0             0    0   \n",
        "Plant Methods                        0    0    0       0             0    0   \n",
        "Reprod Biol Endocrinol               0    0    0       0             0    0   \n",
        "Front Physiol                        0    0    0       0             0    0   \n",
        "Environ Monit Assess                 0    0    0       0             0    0   \n",
        "BMC Ecol                             0    0    0       0             0    0   \n",
        "J Neurosci Methods                   0    0    0       0             0    0   \n",
        "BMC Struct Biol                      0    0    0       0             0    0   \n",
        "Hum Mol Genet                        0    0    0       0             0    0   \n",
        "ACS Nano                             0    0    0       0             0    0   \n",
        "Vasc Cell                            0    0    0       0             0    0   \n",
        "Genet Sel Evol                       0    0    0       0             0    0   \n",
        "Med Biol Eng Comput                  0    0    0       0             0    0   \n",
        "J Med Case Rep                       0    0    0       0             0    0   \n",
        "Zoological Lett                      0    0    0       0             0    0   \n",
        "9809671                              0    0    0       0             0    0   \n",
        "Nucleic Acids Res                    0    0    0       0             0    0   \n",
        "Environ Health Perspect              0    0    0       0             0    0   \n",
        "PeerJ                                0    0    0       0            12    0   \n",
        "\n",
        "                                  AdaHERF  AlignIO  AlignedReadObjPET  \\\n",
        "J Immunol Methods                       0        0                  0   \n",
        "JALA Charlottesv Va                     0        0                  0   \n",
        "Brief Bioinform                         0        0                  0   \n",
        "Parasitology                            0        0                  0   \n",
        "Curr Biol                               0        0                  0   \n",
        "FEBS Lett                               0        0                  0   \n",
        "Influenza Other Respir Viruses          0        0                  0   \n",
        "Brief Funct Genomics                    0        0                  0   \n",
        "F1000Res                                0        0                  0   \n",
        "J Virol                                 0        0                  0   \n",
        "Front Mol Neurosci                      0        0                  0   \n",
        "EBioMedicine                            0        0                  0   \n",
        "Biomark Insights                        0        0                  0   \n",
        "Source Code Biol Med                    0        0                  0   \n",
        "Bull World Health Organ                 0        0                  0   \n",
        "Osong Public Health Res Perspect        0        0                  0   \n",
        "Neuromolecular Med                      0        0                  0   \n",
        "Chem Biol                               0        0                  0   \n",
        "J Synchrotron Radiat                    0        0                  0   \n",
        "Microb Cell Fact                        0        0                  0   \n",
        "Front Aging Neurosci                    0        0                  0   \n",
        "J Infect Dis                            0        0                  0   \n",
        "8704895                                 0        0                  0   \n",
        "BMC Health Serv Res                     0        0                  0   \n",
        "Int J Genomics                          0        0                  0   \n",
        "Open Microbiol J                        0        0                  0   \n",
        "Front Behav Neurosci                    0        0                  0   \n",
        "Front Neurosci                          0        0                  0   \n",
        "Comput Struct Biotechnol J              0        0                  0   \n",
        "Stud Mycol                              0        0                  0   \n",
        "...                                   ...      ...                ...   \n",
        "Front Bioeng Biotechnol                 0        0                  0   \n",
        "BMC Neurosci                            0        0                  0   \n",
        "Front Genet                             0        0                  1   \n",
        "Yale J Biol Med                         0        0                  0   \n",
        "BMC Biotechnol                          0        0                  0   \n",
        "Stem Cell Reports                       0        0                  0   \n",
        "Curr Genomics                           0        0                  0   \n",
        "Fam Cancer                              0        0                  0   \n",
        "J Chem Inf Model                        0        0                  0   \n",
        "Front Endocrinol (Lausanne)             0        0                  0   \n",
        "Front Plant Sci                         0        0                  0   \n",
        "PLoS Med                                0        0                  0   \n",
        "Plant Methods                           0        0                  0   \n",
        "Reprod Biol Endocrinol                  0        0                  0   \n",
        "Front Physiol                           0        0                  0   \n",
        "Environ Monit Assess                    0        0                  0   \n",
        "BMC Ecol                                0        0                  0   \n",
        "J Neurosci Methods                      0        0                  0   \n",
        "BMC Struct Biol                         0        0                  0   \n",
        "Hum Mol Genet                           0        0                  0   \n",
        "ACS Nano                                0        0                  0   \n",
        "Vasc Cell                               0        0                  0   \n",
        "Genet Sel Evol                          0        0                  0   \n",
        "Med Biol Eng Comput                     0        0                  0   \n",
        "J Med Case Rep                          0        0                  0   \n",
        "Zoological Lett                         0        0                  0   \n",
        "9809671                                 0        0                  0   \n",
        "Nucleic Acids Res                       0        0                  0   \n",
        "Environ Health Perspect                 0        0                  0   \n",
        "PeerJ                                   0        0                  0   \n",
        "\n",
        "                                  Alignment  ...   your  z_score  zbar  zc  \\\n",
        "J Immunol Methods                         0  ...      0        0     0   0   \n",
        "JALA Charlottesv Va                       0  ...      0        0     0   0   \n",
        "Brief Bioinform                           0  ...      0        0     0   0   \n",
        "Parasitology                              0  ...      0        0     0   0   \n",
        "Curr Biol                                 0  ...      0        0     0   0   \n",
        "FEBS Lett                                 0  ...      0        0     0   0   \n",
        "Influenza Other Respir Viruses            0  ...      0        0     0   0   \n",
        "Brief Funct Genomics                      0  ...      0        0     0   0   \n",
        "F1000Res                                  0  ...      0        0     0   0   \n",
        "J Virol                                   0  ...      0        0     0   0   \n",
        "Front Mol Neurosci                        0  ...      0        0     0   0   \n",
        "EBioMedicine                              0  ...      0        0     0   0   \n",
        "Biomark Insights                          0  ...      0        0     0   0   \n",
        "Source Code Biol Med                      0  ...      0        0     0   0   \n",
        "Bull World Health Organ                   0  ...      0        0     0   0   \n",
        "Osong Public Health Res Perspect          0  ...      0        0     0   0   \n",
        "Neuromolecular Med                        0  ...      0        0     0   0   \n",
        "Chem Biol                                 0  ...      0        0     0   0   \n",
        "J Synchrotron Radiat                      0  ...      0        0     0   0   \n",
        "Microb Cell Fact                          0  ...      0        0     0   0   \n",
        "Front Aging Neurosci                      0  ...      0        0     0   0   \n",
        "J Infect Dis                              0  ...      0        0     0   0   \n",
        "8704895                                   0  ...      0        0     0   0   \n",
        "BMC Health Serv Res                       0  ...      0        0     0   0   \n",
        "Int J Genomics                            0  ...      0        0     0   0   \n",
        "Open Microbiol J                          0  ...      0        0     0   0   \n",
        "Front Behav Neurosci                      0  ...      0        0     0   0   \n",
        "Front Neurosci                            0  ...      0        0     0   0   \n",
        "Comput Struct Biotechnol J                0  ...      0        0     0   0   \n",
        "Stud Mycol                                0  ...      0        0     0   0   \n",
        "...                                     ...  ...    ...      ...   ...  ..   \n",
        "Front Bioeng Biotechnol                   0  ...      0        0     0   0   \n",
        "BMC Neurosci                              0  ...      0        0     0   0   \n",
        "Front Genet                               0  ...      0        0     0   0   \n",
        "Yale J Biol Med                           0  ...      0        0     0   0   \n",
        "BMC Biotechnol                            0  ...      0        0     0   0   \n",
        "Stem Cell Reports                         0  ...      0        0     0   0   \n",
        "Curr Genomics                             0  ...      0        0     0   0   \n",
        "Fam Cancer                                0  ...      0        0     0   0   \n",
        "J Chem Inf Model                          0  ...      0        0     0   0   \n",
        "Front Endocrinol (Lausanne)               0  ...      0        0     0   0   \n",
        "Front Plant Sci                           0  ...      0        0     0   0   \n",
        "PLoS Med                                  0  ...      0        0     0   0   \n",
        "Plant Methods                             0  ...      0        0     0   0   \n",
        "Reprod Biol Endocrinol                    0  ...      0        0     0   0   \n",
        "Front Physiol                             0  ...      0        0     0   0   \n",
        "Environ Monit Assess                      0  ...      0        0     0   0   \n",
        "BMC Ecol                                  0  ...      0        0     0   0   \n",
        "J Neurosci Methods                        0  ...      0        0     0   0   \n",
        "BMC Struct Biol                           0  ...      0        0     0   0   \n",
        "Hum Mol Genet                             0  ...      0        0     0   0   \n",
        "ACS Nano                                  0  ...      0        0     0   0   \n",
        "Vasc Cell                                 0  ...      0        0     0   0   \n",
        "Genet Sel Evol                            0  ...      0        0     0   0   \n",
        "Med Biol Eng Comput                       0  ...      0        0     0   0   \n",
        "J Med Case Rep                            0  ...      0        0     0   0   \n",
        "Zoological Lett                           0  ...      0        0     0   0   \n",
        "9809671                                   0  ...      0        0     0   0   \n",
        "Nucleic Acids Res                         0  ...      0        0     0   0   \n",
        "Environ Health Perspect                   0  ...      0        0     0   0   \n",
        "PeerJ                                     0  ...      0        0     0   0   \n",
        "\n",
        "                                  zinc  zipfile  zippingfilehandler  zlib  \\\n",
        "J Immunol Methods                    0        0                   0     0   \n",
        "JALA Charlottesv Va                  0        0                   0     0   \n",
        "Brief Bioinform                      0        0                   0     0   \n",
        "Parasitology                         0        0                   0     0   \n",
        "Curr Biol                            0        0                   0     0   \n",
        "FEBS Lett                            0        0                   0     0   \n",
        "Influenza Other Respir Viruses       0        0                   0     0   \n",
        "Brief Funct Genomics                 0        0                   0     0   \n",
        "F1000Res                             0        1                   0     0   \n",
        "J Virol                              0        0                   0     0   \n",
        "Front Mol Neurosci                   0        0                   0     0   \n",
        "EBioMedicine                         0        0                   0     0   \n",
        "Biomark Insights                     0        0                   0     0   \n",
        "Source Code Biol Med                 0        1                   0     0   \n",
        "Bull World Health Organ              0        0                   0     0   \n",
        "Osong Public Health Res Perspect     0        0                   0     0   \n",
        "Neuromolecular Med                   0        0                   0     0   \n",
        "Chem Biol                            0        0                   0     0   \n",
        "J Synchrotron Radiat                 0        0                   0     0   \n",
        "Microb Cell Fact                     0        0                   0     0   \n",
        "Front Aging Neurosci                 0        0                   0     0   \n",
        "J Infect Dis                         0        0                   0     0   \n",
        "8704895                              0        0                   0     0   \n",
        "BMC Health Serv Res                  0        0                   0     0   \n",
        "Int J Genomics                       0        0                   0     0   \n",
        "Open Microbiol J                     0        0                   0     0   \n",
        "Front Behav Neurosci                 0        1                   0     0   \n",
        "Front Neurosci                       0        0                   0     0   \n",
        "Comput Struct Biotechnol J           0        0                   0     0   \n",
        "Stud Mycol                           0        0                   0     0   \n",
        "...                                ...      ...                 ...   ...   \n",
        "Front Bioeng Biotechnol              0        0                   0     0   \n",
        "BMC Neurosci                         0        0                   0     0   \n",
        "Front Genet                          0        0                   0     0   \n",
        "Yale J Biol Med                      0        0                   0     0   \n",
        "BMC Biotechnol                       0        0                   0     0   \n",
        "Stem Cell Reports                    0        0                   0     0   \n",
        "Curr Genomics                        0        0                   0     0   \n",
        "Fam Cancer                           0        0                   0     0   \n",
        "J Chem Inf Model                     0        0                   0     0   \n",
        "Front Endocrinol (Lausanne)          0        0                   0     0   \n",
        "Front Plant Sci                      0        0                   0     0   \n",
        "PLoS Med                             0        0                   0     0   \n",
        "Plant Methods                        0        0                   0     0   \n",
        "Reprod Biol Endocrinol               0        0                   0     0   \n",
        "Front Physiol                        0        0                   0     0   \n",
        "Environ Monit Assess                 0        0                   0     0   \n",
        "BMC Ecol                             0        0                   0     0   \n",
        "J Neurosci Methods                   0        0                   0     0   \n",
        "BMC Struct Biol                      0        0                   0     0   \n",
        "Hum Mol Genet                        0        0                   0     0   \n",
        "ACS Nano                             0        0                   0     0   \n",
        "Vasc Cell                            0        0                   0     0   \n",
        "Genet Sel Evol                       0        0                   0     0   \n",
        "Med Biol Eng Comput                  0        0                   0     0   \n",
        "J Med Case Rep                       0        0                   0     0   \n",
        "Zoological Lett                      0        0                   0     0   \n",
        "9809671                              0        0                   0     0   \n",
        "Nucleic Acids Res                    0        0                   0     0   \n",
        "Environ Health Perspect              0        0                   0     0   \n",
        "PeerJ                                0        1                   0     0   \n",
        "\n",
        "                                  zmq  zope  \n",
        "J Immunol Methods                   0     0  \n",
        "JALA Charlottesv Va                 0     0  \n",
        "Brief Bioinform                     0     0  \n",
        "Parasitology                        0     0  \n",
        "Curr Biol                           0     0  \n",
        "FEBS Lett                           0     0  \n",
        "Influenza Other Respir Viruses      0     0  \n",
        "Brief Funct Genomics                0     0  \n",
        "F1000Res                            0     0  \n",
        "J Virol                             0     0  \n",
        "Front Mol Neurosci                  0     0  \n",
        "EBioMedicine                        0     0  \n",
        "Biomark Insights                    0     0  \n",
        "Source Code Biol Med                0     0  \n",
        "Bull World Health Organ             0     0  \n",
        "Osong Public Health Res Perspect    0     0  \n",
        "Neuromolecular Med                  0     0  \n",
        "Chem Biol                           0     0  \n",
        "J Synchrotron Radiat                0     0  \n",
        "Microb Cell Fact                    0     0  \n",
        "Front Aging Neurosci                0     0  \n",
        "J Infect Dis                        0     0  \n",
        "8704895                             0     0  \n",
        "BMC Health Serv Res                 0     0  \n",
        "Int J Genomics                      0     0  \n",
        "Open Microbiol J                    0     0  \n",
        "Front Behav Neurosci                0     0  \n",
        "Front Neurosci                      0     0  \n",
        "Comput Struct Biotechnol J          0     0  \n",
        "Stud Mycol                          0     0  \n",
        "...                               ...   ...  \n",
        "Front Bioeng Biotechnol             0     6  \n",
        "BMC Neurosci                        0     0  \n",
        "Front Genet                         0     0  \n",
        "Yale J Biol Med                     0     0  \n",
        "BMC Biotechnol                      0     0  \n",
        "Stem Cell Reports                   0     0  \n",
        "Curr Genomics                       0     0  \n",
        "Fam Cancer                          0     0  \n",
        "J Chem Inf Model                    0     0  \n",
        "Front Endocrinol (Lausanne)         0     0  \n",
        "Front Plant Sci                     0     0  \n",
        "PLoS Med                            0     0  \n",
        "Plant Methods                       0     0  \n",
        "Reprod Biol Endocrinol              0     0  \n",
        "Front Physiol                       0     0  \n",
        "Environ Monit Assess                0     0  \n",
        "BMC Ecol                            0     0  \n",
        "J Neurosci Methods                  0     0  \n",
        "BMC Struct Biol                     0     0  \n",
        "Hum Mol Genet                       0     0  \n",
        "ACS Nano                            0     0  \n",
        "Vasc Cell                           0     0  \n",
        "Genet Sel Evol                      0     0  \n",
        "Med Biol Eng Comput                 0     0  \n",
        "J Med Case Rep                      0     0  \n",
        "Zoological Lett                     0     0  \n",
        "9809671                             0     0  \n",
        "Nucleic Acids Res                   0     0  \n",
        "Environ Health Perspect             0     0  \n",
        "PeerJ                               0     0  \n",
        "\n",
        "[419 rows x 3615 columns]"
       ]
      }
     ],
     "prompt_number": 43
    },
    {
     "cell_type": "code",
     "collapsed": false,
     "input": [
      "# Let's save to file, and generate a list of links to visualize relationships\n",
      "# df.to_csv(\"data/func_by_modules_df.tsv\",sep=\"\\t\")\n",
      "\n",
      "# This doesn't take counts into account, just nonzero. Ok to start\n",
      "def tanimoto(list1,list2):\n",
      "    set1 = list1[list1!=0]\n",
      "    set2 = list2[list2!=0]\n",
      "    intersect = len(set.intersection(set(set1.index),set(set1.index)))\n",
      "    denom = (len(set1) + len(set2) - intersect)\n",
      "    if denom != 0:\n",
      "        return intersect / (len(set1) + len(set2) - intersect)\n",
      "    return 0\n",
      "\n",
      "sim = pandas.DataFrame()\n",
      "\n",
      "for row1 in df.iterrows():\n",
      "    row1_id = row1[0].replace(\" \",\"_\")\n",
      "    print \"Parsing row %s\" %(row1_id)\n",
      "    for row2 in df.iterrows():\n",
      "        row2_id = row2[0].replace(\" \",\"_\")\n",
      "        score = tanimoto(row1[1],row2[1])\n",
      "        sim.loc[row1_id,row2_id] = score\n",
      "        sim.loc[row2_id,row1_id] = score"
     ],
     "language": "python",
     "metadata": {},
     "outputs": [
      {
       "output_type": "stream",
       "stream": "stdout",
       "text": [
        "Parsing row J_Immunol_Methods\n",
        "Parsing row JALA_Charlottesv_Va"
       ]
      },
      {
       "output_type": "stream",
       "stream": "stdout",
       "text": [
        "\n",
        "Parsing row Brief_Bioinform"
       ]
      },
      {
       "output_type": "stream",
       "stream": "stdout",
       "text": [
        "\n",
        "Parsing row Parasitology"
       ]
      },
      {
       "output_type": "stream",
       "stream": "stdout",
       "text": [
        "\n",
        "Parsing row Curr_Biol"
       ]
      },
      {
       "output_type": "stream",
       "stream": "stdout",
       "text": [
        "\n",
        "Parsing row FEBS_Lett"
       ]
      },
      {
       "output_type": "stream",
       "stream": "stdout",
       "text": [
        "\n",
        "Parsing row Influenza_Other_Respir_Viruses"
       ]
      },
      {
       "output_type": "stream",
       "stream": "stdout",
       "text": [
        "\n",
        "Parsing row Brief_Funct_Genomics"
       ]
      },
      {
       "output_type": "stream",
       "stream": "stdout",
       "text": [
        "\n",
        "Parsing row F1000Res"
       ]
      },
      {
       "output_type": "stream",
       "stream": "stdout",
       "text": [
        "\n",
        "Parsing row J_Virol"
       ]
      },
      {
       "output_type": "stream",
       "stream": "stdout",
       "text": [
        "\n",
        "Parsing row Front_Mol_Neurosci"
       ]
      },
      {
       "output_type": "stream",
       "stream": "stdout",
       "text": [
        "\n",
        "Parsing row EBioMedicine"
       ]
      },
      {
       "output_type": "stream",
       "stream": "stdout",
       "text": [
        "\n",
        "Parsing row Biomark_Insights"
       ]
      },
      {
       "output_type": "stream",
       "stream": "stdout",
       "text": [
        "\n",
        "Parsing row Source_Code_Biol_Med"
       ]
      },
      {
       "output_type": "stream",
       "stream": "stdout",
       "text": [
        "\n",
        "Parsing row Bull_World_Health_Organ"
       ]
      },
      {
       "output_type": "stream",
       "stream": "stdout",
       "text": [
        "\n",
        "Parsing row Osong_Public_Health_Res_Perspect"
       ]
      },
      {
       "output_type": "stream",
       "stream": "stdout",
       "text": [
        "\n",
        "Parsing row Neuromolecular_Med"
       ]
      },
      {
       "output_type": "stream",
       "stream": "stdout",
       "text": [
        "\n",
        "Parsing row Chem_Biol"
       ]
      },
      {
       "output_type": "stream",
       "stream": "stdout",
       "text": [
        "\n",
        "Parsing row J_Synchrotron_Radiat"
       ]
      },
      {
       "output_type": "stream",
       "stream": "stdout",
       "text": [
        "\n",
        "Parsing row Microb_Cell_Fact"
       ]
      },
      {
       "output_type": "stream",
       "stream": "stdout",
       "text": [
        "\n",
        "Parsing row Front_Aging_Neurosci"
       ]
      },
      {
       "output_type": "stream",
       "stream": "stdout",
       "text": [
        "\n",
        "Parsing row J_Infect_Dis"
       ]
      },
      {
       "output_type": "stream",
       "stream": "stdout",
       "text": [
        "\n",
        "Parsing row 8704895"
       ]
      },
      {
       "output_type": "stream",
       "stream": "stdout",
       "text": [
        "\n",
        "Parsing row BMC_Health_Serv_Res"
       ]
      },
      {
       "output_type": "stream",
       "stream": "stdout",
       "text": [
        "\n",
        "Parsing row Int_J_Genomics"
       ]
      },
      {
       "output_type": "stream",
       "stream": "stdout",
       "text": [
        "\n",
        "Parsing row Open_Microbiol_J"
       ]
      },
      {
       "output_type": "stream",
       "stream": "stdout",
       "text": [
        "\n",
        "Parsing row Front_Behav_Neurosci"
       ]
      },
      {
       "output_type": "stream",
       "stream": "stdout",
       "text": [
        "\n",
        "Parsing row Front_Neurosci"
       ]
      },
      {
       "output_type": "stream",
       "stream": "stdout",
       "text": [
        "\n",
        "Parsing row Comput_Struct_Biotechnol_J"
       ]
      },
      {
       "output_type": "stream",
       "stream": "stdout",
       "text": [
        "\n",
        "Parsing row Stud_Mycol"
       ]
      },
      {
       "output_type": "stream",
       "stream": "stdout",
       "text": [
        "\n",
        "Parsing row EURASIP_J_Bioinform_Syst_Biol"
       ]
      },
      {
       "output_type": "stream",
       "stream": "stdout",
       "text": [
        "\n",
        "Parsing row Diabetologia"
       ]
      },
      {
       "output_type": "stream",
       "stream": "stdout",
       "text": [
        "\n",
        "Parsing row Acc_Chem_Res"
       ]
      },
      {
       "output_type": "stream",
       "stream": "stdout",
       "text": [
        "\n",
        "Parsing row BMC_Genet"
       ]
      },
      {
       "output_type": "stream",
       "stream": "stdout",
       "text": [
        "\n",
        "Parsing row BMC_Proc"
       ]
      },
      {
       "output_type": "stream",
       "stream": "stdout",
       "text": [
        "\n",
        "Parsing row Pathology"
       ]
      },
      {
       "output_type": "stream",
       "stream": "stdout",
       "text": [
        "\n",
        "Parsing row Hepatol_Int"
       ]
      },
      {
       "output_type": "stream",
       "stream": "stdout",
       "text": [
        "\n",
        "Parsing row BMC_Cancer"
       ]
      },
      {
       "output_type": "stream",
       "stream": "stdout",
       "text": [
        "\n",
        "Parsing row Biomed_Eng_Online"
       ]
      },
      {
       "output_type": "stream",
       "stream": "stdout",
       "text": [
        "\n",
        "Parsing row Silence"
       ]
      },
      {
       "output_type": "stream",
       "stream": "stdout",
       "text": [
        "\n",
        "Parsing row Sci_Data"
       ]
      },
      {
       "output_type": "stream",
       "stream": "stdout",
       "text": [
        "\n",
        "Parsing row ISME_J"
       ]
      },
      {
       "output_type": "stream",
       "stream": "stdout",
       "text": [
        "\n",
        "Parsing row Mol_Biol_Evol"
       ]
      },
      {
       "output_type": "stream",
       "stream": "stdout",
       "text": [
        "\n",
        "Parsing row Intelligence"
       ]
      },
      {
       "output_type": "stream",
       "stream": "stdout",
       "text": [
        "\n",
        "Parsing row Front_Neural_Circuits"
       ]
      },
      {
       "output_type": "stream",
       "stream": "stdout",
       "text": [
        "\n",
        "Parsing row J_Neuroeng_Rehabil"
       ]
      },
      {
       "output_type": "stream",
       "stream": "stdout",
       "text": [
        "\n",
        "Parsing row Transl_Psychiatry"
       ]
      },
      {
       "output_type": "stream",
       "stream": "stdout",
       "text": [
        "\n",
        "Parsing row Comput_Math_Methods_Med"
       ]
      },
      {
       "output_type": "stream",
       "stream": "stdout",
       "text": [
        "\n",
        "Parsing row Iperception"
       ]
      },
      {
       "output_type": "stream",
       "stream": "stdout",
       "text": [
        "\n",
        "Parsing row Biol_Cybern"
       ]
      },
      {
       "output_type": "stream",
       "stream": "stdout",
       "text": [
        "\n",
        "Parsing row Clin_Epigenetics"
       ]
      },
      {
       "output_type": "stream",
       "stream": "stdout",
       "text": [
        "\n",
        "Parsing row Neurobiol_Aging"
       ]
      },
      {
       "output_type": "stream",
       "stream": "stdout",
       "text": [
        "\n",
        "Parsing row Adv_Bioinformatics"
       ]
      },
      {
       "output_type": "stream",
       "stream": "stdout",
       "text": [
        "\n",
        "Parsing row Extremophiles"
       ]
      },
      {
       "output_type": "stream",
       "stream": "stdout",
       "text": [
        "\n",
        "Parsing row Bioinformatics"
       ]
      },
      {
       "output_type": "stream",
       "stream": "stdout",
       "text": [
        "\n",
        "Parsing row Mol_Cell_Proteomics"
       ]
      },
      {
       "output_type": "stream",
       "stream": "stdout",
       "text": [
        "\n",
        "Parsing row Scientifica_(Cairo)"
       ]
      },
      {
       "output_type": "stream",
       "stream": "stdout",
       "text": [
        "\n",
        "Parsing row Genes_Immun"
       ]
      },
      {
       "output_type": "stream",
       "stream": "stdout",
       "text": [
        "\n",
        "Parsing row Neuroinformatics"
       ]
      },
      {
       "output_type": "stream",
       "stream": "stdout",
       "text": [
        "\n",
        "Parsing row Int_J_Hyperthermia"
       ]
      },
      {
       "output_type": "stream",
       "stream": "stdout",
       "text": [
        "\n",
        "Parsing row Struct_Dyn"
       ]
      },
      {
       "output_type": "stream",
       "stream": "stdout",
       "text": [
        "\n",
        "Parsing row Gut_Microbes"
       ]
      },
      {
       "output_type": "stream",
       "stream": "stdout",
       "text": [
        "\n",
        "Parsing row BMC_Public_Health"
       ]
      },
      {
       "output_type": "stream",
       "stream": "stdout",
       "text": [
        "\n",
        "Parsing row J_Biol_Eng"
       ]
      },
      {
       "output_type": "stream",
       "stream": "stdout",
       "text": [
        "\n",
        "Parsing row 101186374"
       ]
      },
      {
       "output_type": "stream",
       "stream": "stdout",
       "text": [
        "\n",
        "Parsing row Circ_Cardiovasc_Interv"
       ]
      },
      {
       "output_type": "stream",
       "stream": "stdout",
       "text": [
        "\n",
        "Parsing row J_Biomed_Semantics"
       ]
      },
      {
       "output_type": "stream",
       "stream": "stdout",
       "text": [
        "\n",
        "Parsing row J_Cardiovasc_Transl_Res"
       ]
      },
      {
       "output_type": "stream",
       "stream": "stdout",
       "text": [
        "\n",
        "Parsing row Front_Pharmacol"
       ]
      },
      {
       "output_type": "stream",
       "stream": "stdout",
       "text": [
        "\n",
        "Parsing row Adv_Mater"
       ]
      },
      {
       "output_type": "stream",
       "stream": "stdout",
       "text": [
        "\n",
        "Parsing row eLife"
       ]
      },
      {
       "output_type": "stream",
       "stream": "stdout",
       "text": [
        "\n",
        "Parsing row Healthc_Inform_Res"
       ]
      },
      {
       "output_type": "stream",
       "stream": "stdout",
       "text": [
        "\n",
        "Parsing row Infect_Agent_Cancer"
       ]
      },
      {
       "output_type": "stream",
       "stream": "stdout",
       "text": [
        "\n",
        "Parsing row Front_Mol_Biosci"
       ]
      },
      {
       "output_type": "stream",
       "stream": "stdout",
       "text": [
        "\n",
        "Parsing row J_Comp_Neurol"
       ]
      },
      {
       "output_type": "stream",
       "stream": "stdout",
       "text": [
        "\n",
        "Parsing row Nat_Commun"
       ]
      },
      {
       "output_type": "stream",
       "stream": "stdout",
       "text": [
        "\n",
        "Parsing row EGEMS_(Wash_DC)"
       ]
      },
      {
       "output_type": "stream",
       "stream": "stdout",
       "text": [
        "\n",
        "Parsing row Viruses"
       ]
      },
      {
       "output_type": "stream",
       "stream": "stdout",
       "text": [
        "\n",
        "Parsing row Vaccine"
       ]
      },
      {
       "output_type": "stream",
       "stream": "stdout",
       "text": [
        "\n",
        "Parsing row Microbiome"
       ]
      },
      {
       "output_type": "stream",
       "stream": "stdout",
       "text": [
        "\n",
        "Parsing row Anim_Cogn"
       ]
      },
      {
       "output_type": "stream",
       "stream": "stdout",
       "text": [
        "\n",
        "Parsing row Environ_Sci_Technol"
       ]
      },
      {
       "output_type": "stream",
       "stream": "stdout",
       "text": [
        "\n",
        "Parsing row Eur_Phys_J_C_Part_Fields"
       ]
      },
      {
       "output_type": "stream",
       "stream": "stdout",
       "text": [
        "\n",
        "Parsing row AoB_Plants"
       ]
      },
      {
       "output_type": "stream",
       "stream": "stdout",
       "text": [
        "\n",
        "Parsing row Front_Comput_Neurosci"
       ]
      },
      {
       "output_type": "stream",
       "stream": "stdout",
       "text": [
        "\n",
        "Parsing row J_Clin_Epidemiol"
       ]
      },
      {
       "output_type": "stream",
       "stream": "stdout",
       "text": [
        "\n",
        "Parsing row Transplantation"
       ]
      },
      {
       "output_type": "stream",
       "stream": "stdout",
       "text": [
        "\n",
        "Parsing row Mol_Plant_Pathol"
       ]
      },
      {
       "output_type": "stream",
       "stream": "stdout",
       "text": [
        "\n",
        "Parsing row Toxins_(Basel)"
       ]
      },
      {
       "output_type": "stream",
       "stream": "stdout",
       "text": [
        "\n",
        "Parsing row Pflugers_Arch"
       ]
      },
      {
       "output_type": "stream",
       "stream": "stdout",
       "text": [
        "\n",
        "Parsing row Int_J_Mol_Sci"
       ]
      },
      {
       "output_type": "stream",
       "stream": "stdout",
       "text": [
        "\n",
        "Parsing row 0410462"
       ]
      },
      {
       "output_type": "stream",
       "stream": "stdout",
       "text": [
        "\n",
        "Parsing row Neuron"
       ]
      },
      {
       "output_type": "stream",
       "stream": "stdout",
       "text": [
        "\n",
        "Parsing row J_Comput_Aided_Mol_Des"
       ]
      },
      {
       "output_type": "stream",
       "stream": "stdout",
       "text": [
        "\n",
        "Parsing row BMC_Dermatol"
       ]
      },
      {
       "output_type": "stream",
       "stream": "stdout",
       "text": [
        "\n",
        "Parsing row Mol_Cell"
       ]
      },
      {
       "output_type": "stream",
       "stream": "stdout",
       "text": [
        "\n",
        "Parsing row PLoS_Curr"
       ]
      },
      {
       "output_type": "stream",
       "stream": "stdout",
       "text": [
        "\n",
        "Parsing row Comput_Intell_Neurosci"
       ]
      },
      {
       "output_type": "stream",
       "stream": "stdout",
       "text": [
        "\n",
        "Parsing row Front_Neurol"
       ]
      },
      {
       "output_type": "stream",
       "stream": "stdout",
       "text": [
        "\n",
        "Parsing row Biochim_Biophys_Acta"
       ]
      },
      {
       "output_type": "stream",
       "stream": "stdout",
       "text": [
        "\n",
        "Parsing row Microbiologyopen"
       ]
      },
      {
       "output_type": "stream",
       "stream": "stdout",
       "text": [
        "\n",
        "Parsing row BMC_Clin_Pathol"
       ]
      },
      {
       "output_type": "stream",
       "stream": "stdout",
       "text": [
        "\n",
        "Parsing row AMIA_Jt_Summits_Transl_Sci_Proc"
       ]
      },
      {
       "output_type": "stream",
       "stream": "stdout",
       "text": [
        "\n",
        "Parsing row 9607835"
       ]
      },
      {
       "output_type": "stream",
       "stream": "stdout",
       "text": [
        "\n",
        "Parsing row Scand_J_Psychol"
       ]
      },
      {
       "output_type": "stream",
       "stream": "stdout",
       "text": [
        "\n",
        "Parsing row Evid_Based_Complement_Alternat_Med"
       ]
      },
      {
       "output_type": "stream",
       "stream": "stdout",
       "text": [
        "\n",
        "Parsing row BMC_Genomics"
       ]
      },
      {
       "output_type": "stream",
       "stream": "stdout",
       "text": [
        "\n",
        "Parsing row Brain_Inform"
       ]
      },
      {
       "output_type": "stream",
       "stream": "stdout",
       "text": [
        "\n",
        "Parsing row Evolution"
       ]
      },
      {
       "output_type": "stream",
       "stream": "stdout",
       "text": [
        "\n",
        "Parsing row BMC_Plant_Biol"
       ]
      },
      {
       "output_type": "stream",
       "stream": "stdout",
       "text": [
        "\n",
        "Parsing row Syst_Biol"
       ]
      },
      {
       "output_type": "stream",
       "stream": "stdout",
       "text": [
        "\n",
        "Parsing row Int_J_Comput_Assist_Radiol_Surg"
       ]
      },
      {
       "output_type": "stream",
       "stream": "stdout",
       "text": [
        "\n",
        "Parsing row Genome_Biol"
       ]
      },
      {
       "output_type": "stream",
       "stream": "stdout",
       "text": [
        "\n",
        "Parsing row Genet_Res_Int"
       ]
      },
      {
       "output_type": "stream",
       "stream": "stdout",
       "text": [
        "\n",
        "Parsing row Front_Hum_Neurosci"
       ]
      },
      {
       "output_type": "stream",
       "stream": "stdout",
       "text": [
        "\n",
        "Parsing row Front_Neuroanat"
       ]
      },
      {
       "output_type": "stream",
       "stream": "stdout",
       "text": [
        "\n",
        "Parsing row Neural_Dev"
       ]
      },
      {
       "output_type": "stream",
       "stream": "stdout",
       "text": [
        "\n",
        "Parsing row 101659495"
       ]
      },
      {
       "output_type": "stream",
       "stream": "stdout",
       "text": [
        "\n",
        "Parsing row R_Soc_Open_Sci"
       ]
      },
      {
       "output_type": "stream",
       "stream": "stdout",
       "text": [
        "\n",
        "Parsing row Genomics_Proteomics_Bioinformatics"
       ]
      },
      {
       "output_type": "stream",
       "stream": "stdout",
       "text": [
        "\n",
        "Parsing row Front_Cardiovasc_Med"
       ]
      },
      {
       "output_type": "stream",
       "stream": "stdout",
       "text": [
        "\n",
        "Parsing row Mol_Syst_Biol"
       ]
      },
      {
       "output_type": "stream",
       "stream": "stdout",
       "text": [
        "\n",
        "Parsing row Commun_Integr_Biol"
       ]
      },
      {
       "output_type": "stream",
       "stream": "stdout",
       "text": [
        "\n",
        "Parsing row Brain_Behav"
       ]
      },
      {
       "output_type": "stream",
       "stream": "stdout",
       "text": [
        "\n",
        "Parsing row Genomics"
       ]
      },
      {
       "output_type": "stream",
       "stream": "stdout",
       "text": [
        "\n",
        "Parsing row 101653440"
       ]
      },
      {
       "output_type": "stream",
       "stream": "stdout",
       "text": [
        "\n",
        "Parsing row Eur_J_Neurosci"
       ]
      },
      {
       "output_type": "stream",
       "stream": "stdout",
       "text": [
        "\n",
        "Parsing row J_Parallel_Distrib_Comput"
       ]
      },
      {
       "output_type": "stream",
       "stream": "stdout",
       "text": [
        "\n",
        "Parsing row Stand_Genomic_Sci"
       ]
      },
      {
       "output_type": "stream",
       "stream": "stdout",
       "text": [
        "\n",
        "Parsing row Bull_Math_Biol"
       ]
      },
      {
       "output_type": "stream",
       "stream": "stdout",
       "text": [
        "\n",
        "Parsing row BioData_Min"
       ]
      },
      {
       "output_type": "stream",
       "stream": "stdout",
       "text": [
        "\n",
        "Parsing row Immun_Ageing"
       ]
      },
      {
       "output_type": "stream",
       "stream": "stdout",
       "text": [
        "\n",
        "Parsing row Acta_Biotheor"
       ]
      },
      {
       "output_type": "stream",
       "stream": "stdout",
       "text": [
        "\n",
        "Parsing row Hortic_Res"
       ]
      },
      {
       "output_type": "stream",
       "stream": "stdout",
       "text": [
        "\n",
        "Parsing row Clin_Kidney_J"
       ]
      },
      {
       "output_type": "stream",
       "stream": "stdout",
       "text": [
        "\n",
        "Parsing row Surg_Neurol_Int"
       ]
      },
      {
       "output_type": "stream",
       "stream": "stdout",
       "text": [
        "\n",
        "Parsing row Arthritis_Res_Ther"
       ]
      },
      {
       "output_type": "stream",
       "stream": "stdout",
       "text": [
        "\n",
        "Parsing row IMA_Fungus"
       ]
      },
      {
       "output_type": "stream",
       "stream": "stdout",
       "text": [
        "\n",
        "Parsing row Microb_Ecol_Health_Dis"
       ]
      },
      {
       "output_type": "stream",
       "stream": "stdout",
       "text": [
        "\n",
        "Parsing row Neuroimage_Clin"
       ]
      },
      {
       "output_type": "stream",
       "stream": "stdout",
       "text": [
        "\n",
        "Parsing row Orphanet_J_Rare_Dis"
       ]
      },
      {
       "output_type": "stream",
       "stream": "stdout",
       "text": [
        "\n",
        "Parsing row Cancer_Inform"
       ]
      },
      {
       "output_type": "stream",
       "stream": "stdout",
       "text": [
        "\n",
        "Parsing row Evol_Appl"
       ]
      },
      {
       "output_type": "stream",
       "stream": "stdout",
       "text": [
        "\n",
        "Parsing row J_Neurosci"
       ]
      },
      {
       "output_type": "stream",
       "stream": "stdout",
       "text": [
        "\n",
        "Parsing row Mar_Drugs"
       ]
      },
      {
       "output_type": "stream",
       "stream": "stdout",
       "text": [
        "\n",
        "Parsing row AIDS"
       ]
      },
      {
       "output_type": "stream",
       "stream": "stdout",
       "text": [
        "\n",
        "Parsing row Big_Data"
       ]
      },
      {
       "output_type": "stream",
       "stream": "stdout",
       "text": [
        "\n",
        "Parsing row Online_J_Public_Health_Inform"
       ]
      },
      {
       "output_type": "stream",
       "stream": "stdout",
       "text": [
        "\n",
        "Parsing row JMIR_Med_Inform"
       ]
      },
      {
       "output_type": "stream",
       "stream": "stdout",
       "text": [
        "\n",
        "Parsing row J_Mol_Endocrinol"
       ]
      },
      {
       "output_type": "stream",
       "stream": "stdout",
       "text": [
        "\n",
        "Parsing row J_Psychopharmacol"
       ]
      },
      {
       "output_type": "stream",
       "stream": "stdout",
       "text": [
        "\n",
        "Parsing row BMC_Med"
       ]
      },
      {
       "output_type": "stream",
       "stream": "stdout",
       "text": [
        "\n",
        "Parsing row Syst_Rev"
       ]
      },
      {
       "output_type": "stream",
       "stream": "stdout",
       "text": [
        "\n",
        "Parsing row Cell"
       ]
      },
      {
       "output_type": "stream",
       "stream": "stdout",
       "text": [
        "\n",
        "Parsing row J_Transl_Med"
       ]
      },
      {
       "output_type": "stream",
       "stream": "stdout",
       "text": [
        "\n",
        "Parsing row Metabolomics"
       ]
      },
      {
       "output_type": "stream",
       "stream": "stdout",
       "text": [
        "\n",
        "Parsing row Persoonia"
       ]
      },
      {
       "output_type": "stream",
       "stream": "stdout",
       "text": [
        "\n",
        "Parsing row BMC_Med_Genet"
       ]
      },
      {
       "output_type": "stream",
       "stream": "stdout",
       "text": [
        "\n",
        "Parsing row Int_J_Biomed_Imaging"
       ]
      },
      {
       "output_type": "stream",
       "stream": "stdout",
       "text": [
        "\n",
        "Parsing row J_Sci_Food_Agric"
       ]
      },
      {
       "output_type": "stream",
       "stream": "stdout",
       "text": [
        "\n",
        "Parsing row Front_Immunol"
       ]
      },
      {
       "output_type": "stream",
       "stream": "stdout",
       "text": [
        "\n",
        "Parsing row JMIR_Res_Protoc"
       ]
      },
      {
       "output_type": "stream",
       "stream": "stdout",
       "text": [
        "\n",
        "Parsing row Mov_Ecol"
       ]
      },
      {
       "output_type": "stream",
       "stream": "stdout",
       "text": [
        "\n",
        "Parsing row Environmetrics"
       ]
      },
      {
       "output_type": "stream",
       "stream": "stdout",
       "text": [
        "\n",
        "Parsing row Emerg_Infect_Dis"
       ]
      },
      {
       "output_type": "stream",
       "stream": "stdout",
       "text": [
        "\n",
        "Parsing row Curr_Microbiol"
       ]
      },
      {
       "output_type": "stream",
       "stream": "stdout",
       "text": [
        "\n",
        "Parsing row Nutrients"
       ]
      },
      {
       "output_type": "stream",
       "stream": "stdout",
       "text": [
        "\n",
        "Parsing row Mob_DNA"
       ]
      },
      {
       "output_type": "stream",
       "stream": "stdout",
       "text": [
        "\n",
        "Parsing row Cytometry_A"
       ]
      },
      {
       "output_type": "stream",
       "stream": "stdout",
       "text": [
        "\n",
        "Parsing row Vet_Med_Int"
       ]
      },
      {
       "output_type": "stream",
       "stream": "stdout",
       "text": [
        "\n",
        "Parsing row Cortex"
       ]
      },
      {
       "output_type": "stream",
       "stream": "stdout",
       "text": [
        "\n",
        "Parsing row Philos_Trans_R_Soc_Lond_B_Biol_Sci"
       ]
      },
      {
       "output_type": "stream",
       "stream": "stdout",
       "text": [
        "\n",
        "Parsing row Retrovirology"
       ]
      },
      {
       "output_type": "stream",
       "stream": "stdout",
       "text": [
        "\n",
        "Parsing row Theor_Biol_Med_Model"
       ]
      },
      {
       "output_type": "stream",
       "stream": "stdout",
       "text": [
        "\n",
        "Parsing row Parasit_Vectors"
       ]
      },
      {
       "output_type": "stream",
       "stream": "stdout",
       "text": [
        "\n",
        "Parsing row BMC_Bioinformatics"
       ]
      },
      {
       "output_type": "stream",
       "stream": "stdout",
       "text": [
        "\n",
        "Parsing row Thorac_Cancer"
       ]
      },
      {
       "output_type": "stream",
       "stream": "stdout",
       "text": [
        "\n",
        "Parsing row BMC_Med_Inform_Decis_Mak"
       ]
      },
      {
       "output_type": "stream",
       "stream": "stdout",
       "text": [
        "\n",
        "Parsing row PLoS_Negl_Trop_Dis"
       ]
      },
      {
       "output_type": "stream",
       "stream": "stdout",
       "text": [
        "\n",
        "Parsing row Evol_Bioinform_Online"
       ]
      },
      {
       "output_type": "stream",
       "stream": "stdout",
       "text": [
        "\n",
        "Parsing row BMJ_Open"
       ]
      },
      {
       "output_type": "stream",
       "stream": "stdout",
       "text": [
        "\n",
        "Parsing row Mol_Cytogenet"
       ]
      },
      {
       "output_type": "stream",
       "stream": "stdout",
       "text": [
        "\n",
        "Parsing row Mol_Ecol"
       ]
      },
      {
       "output_type": "stream",
       "stream": "stdout",
       "text": [
        "\n",
        "Parsing row J_Gen_Virol"
       ]
      },
      {
       "output_type": "stream",
       "stream": "stdout",
       "text": [
        "\n",
        "Parsing row Development"
       ]
      },
      {
       "output_type": "stream",
       "stream": "stdout",
       "text": [
        "\n",
        "Parsing row Mol_Autism"
       ]
      },
      {
       "output_type": "stream",
       "stream": "stdout",
       "text": [
        "\n",
        "Parsing row ACS_Appl_Mater_Interfaces"
       ]
      },
      {
       "output_type": "stream",
       "stream": "stdout",
       "text": [
        "\n",
        "Parsing row Ecol_Evol"
       ]
      },
      {
       "output_type": "stream",
       "stream": "stdout",
       "text": [
        "\n",
        "Parsing row Biol_Psychiatry"
       ]
      },
      {
       "output_type": "stream",
       "stream": "stdout",
       "text": [
        "\n",
        "Parsing row J_Phys_Chem_B"
       ]
      },
      {
       "output_type": "stream",
       "stream": "stdout",
       "text": [
        "\n",
        "Parsing row Front_Psychol"
       ]
      },
      {
       "output_type": "stream",
       "stream": "stdout",
       "text": [
        "\n",
        "Parsing row Biotechnol_Biofuels"
       ]
      },
      {
       "output_type": "stream",
       "stream": "stdout",
       "text": [
        "\n",
        "Parsing row Gigascience"
       ]
      },
      {
       "output_type": "stream",
       "stream": "stdout",
       "text": [
        "\n",
        "Parsing row J_Cell_Sci"
       ]
      },
      {
       "output_type": "stream",
       "stream": "stdout",
       "text": [
        "\n",
        "Parsing row J_Ovarian_Res"
       ]
      },
      {
       "output_type": "stream",
       "stream": "stdout",
       "text": [
        "\n",
        "Parsing row J_Pathol_Inform"
       ]
      },
      {
       "output_type": "stream",
       "stream": "stdout",
       "text": [
        "\n",
        "Parsing row Biodivers_Data_J"
       ]
      },
      {
       "output_type": "stream",
       "stream": "stdout",
       "text": [
        "\n",
        "Parsing row Mol_Genet_Genomic_Med"
       ]
      },
      {
       "output_type": "stream",
       "stream": "stdout",
       "text": [
        "\n",
        "Parsing row J_Virol_Methods"
       ]
      },
      {
       "output_type": "stream",
       "stream": "stdout",
       "text": [
        "\n",
        "Parsing row mBio"
       ]
      },
      {
       "output_type": "stream",
       "stream": "stdout",
       "text": [
        "\n",
        "Parsing row Biol_Lett"
       ]
      },
      {
       "output_type": "stream",
       "stream": "stdout",
       "text": [
        "\n",
        "Parsing row Neuroimage"
       ]
      },
      {
       "output_type": "stream",
       "stream": "stdout",
       "text": [
        "\n",
        "Parsing row Proc_Biol_Sci"
       ]
      },
      {
       "output_type": "stream",
       "stream": "stdout",
       "text": [
        "\n",
        "Parsing row Oncol_Rep"
       ]
      },
      {
       "output_type": "stream",
       "stream": "stdout",
       "text": [
        "\n",
        "Parsing row Genome_Biol_Evol"
       ]
      },
      {
       "output_type": "stream",
       "stream": "stdout",
       "text": [
        "\n",
        "Parsing row Open_Biol"
       ]
      },
      {
       "output_type": "stream",
       "stream": "stdout",
       "text": [
        "\n",
        "Parsing row J_Neuroinflammation"
       ]
      },
      {
       "output_type": "stream",
       "stream": "stdout",
       "text": [
        "\n",
        "Parsing row J_Mol_Biol"
       ]
      },
      {
       "output_type": "stream",
       "stream": "stdout",
       "text": [
        "\n",
        "Parsing row Mol_Ther_Nucleic_Acids"
       ]
      },
      {
       "output_type": "stream",
       "stream": "stdout",
       "text": [
        "\n",
        "Parsing row Popul_Health_Metr"
       ]
      },
      {
       "output_type": "stream",
       "stream": "stdout",
       "text": [
        "\n",
        "Parsing row Front_Cell_Neurosci"
       ]
      },
      {
       "output_type": "stream",
       "stream": "stdout",
       "text": [
        "\n",
        "Parsing row J_Hematop"
       ]
      },
      {
       "output_type": "stream",
       "stream": "stdout",
       "text": [
        "\n",
        "Parsing row Bioinform_Biol_Insights"
       ]
      },
      {
       "output_type": "stream",
       "stream": "stdout",
       "text": [
        "\n",
        "Parsing row Int_J_Proteomics"
       ]
      },
      {
       "output_type": "stream",
       "stream": "stdout",
       "text": [
        "\n",
        "Parsing row EMBO_Rep"
       ]
      },
      {
       "output_type": "stream",
       "stream": "stdout",
       "text": [
        "\n",
        "Parsing row J_Cardiovasc_Magn_Reson"
       ]
      },
      {
       "output_type": "stream",
       "stream": "stdout",
       "text": [
        "\n",
        "Parsing row Genom_Data"
       ]
      },
      {
       "output_type": "stream",
       "stream": "stdout",
       "text": [
        "\n",
        "Parsing row ScientificWorldJournal"
       ]
      },
      {
       "output_type": "stream",
       "stream": "stdout",
       "text": [
        "\n",
        "Parsing row 101215604"
       ]
      },
      {
       "output_type": "stream",
       "stream": "stdout",
       "text": [
        "\n",
        "Parsing row Diagnostics_(Basel)"
       ]
      },
      {
       "output_type": "stream",
       "stream": "stdout",
       "text": [
        "\n",
        "Parsing row J_Vis_Exp"
       ]
      },
      {
       "output_type": "stream",
       "stream": "stdout",
       "text": [
        "\n",
        "Parsing row Behav_Sci_(Basel)"
       ]
      },
      {
       "output_type": "stream",
       "stream": "stdout",
       "text": [
        "\n",
        "Parsing row New_Phytol"
       ]
      },
      {
       "output_type": "stream",
       "stream": "stdout",
       "text": [
        "\n",
        "Parsing row J_Math_Biol"
       ]
      },
      {
       "output_type": "stream",
       "stream": "stdout",
       "text": [
        "\n",
        "Parsing row Methods"
       ]
      },
      {
       "output_type": "stream",
       "stream": "stdout",
       "text": [
        "\n",
        "Parsing row Mol_Brain"
       ]
      },
      {
       "output_type": "stream",
       "stream": "stdout",
       "text": [
        "\n",
        "Parsing row Disabil_Rehabil"
       ]
      },
      {
       "output_type": "stream",
       "stream": "stdout",
       "text": [
        "\n",
        "Parsing row Proteomics"
       ]
      },
      {
       "output_type": "stream",
       "stream": "stdout",
       "text": [
        "\n",
        "Parsing row Cell_Commun_Signal"
       ]
      },
      {
       "output_type": "stream",
       "stream": "stdout",
       "text": [
        "\n",
        "Parsing row Philos_Trans_A_Math_Phys_Eng_Sci"
       ]
      },
      {
       "output_type": "stream",
       "stream": "stdout",
       "text": [
        "\n",
        "Parsing row J_Appl_Crystallogr"
       ]
      },
      {
       "output_type": "stream",
       "stream": "stdout",
       "text": [
        "\n",
        "Parsing row JMIR_Mhealth_Uhealth"
       ]
      },
      {
       "output_type": "stream",
       "stream": "stdout",
       "text": [
        "\n",
        "Parsing row Genes_Brain_Behav"
       ]
      },
      {
       "output_type": "stream",
       "stream": "stdout",
       "text": [
        "\n",
        "Parsing row Front_Neuroinform"
       ]
      },
      {
       "output_type": "stream",
       "stream": "stdout",
       "text": [
        "\n",
        "Parsing row Metabolites"
       ]
      },
      {
       "output_type": "stream",
       "stream": "stdout",
       "text": [
        "\n",
        "Parsing row Life_Sci_Soc_Policy"
       ]
      },
      {
       "output_type": "stream",
       "stream": "stdout",
       "text": [
        "\n",
        "Parsing row CPT_Pharmacometrics_Syst_Pharmacol"
       ]
      },
      {
       "output_type": "stream",
       "stream": "stdout",
       "text": [
        "\n",
        "Parsing row 101528555"
       ]
      },
      {
       "output_type": "stream",
       "stream": "stdout",
       "text": [
        "\n",
        "Parsing row J_Biomed_Biotechnol"
       ]
      },
      {
       "output_type": "stream",
       "stream": "stdout",
       "text": [
        "\n",
        "Parsing row Biotechnol_Res_Int"
       ]
      },
      {
       "output_type": "stream",
       "stream": "stdout",
       "text": [
        "\n",
        "Parsing row Front_Cell_Infect_Microbiol"
       ]
      },
      {
       "output_type": "stream",
       "stream": "stdout",
       "text": [
        "\n",
        "Parsing row J_Proteome_Res"
       ]
      },
      {
       "output_type": "stream",
       "stream": "stdout",
       "text": [
        "\n",
        "Parsing row Psychon_Bull_Rev"
       ]
      },
      {
       "output_type": "stream",
       "stream": "stdout",
       "text": [
        "\n",
        "Parsing row Oncotarget"
       ]
      },
      {
       "output_type": "stream",
       "stream": "stdout",
       "text": [
        "\n",
        "Parsing row Pathog_Dis"
       ]
      },
      {
       "output_type": "stream",
       "stream": "stdout",
       "text": [
        "\n",
        "Parsing row 9216904"
       ]
      },
      {
       "output_type": "stream",
       "stream": "stdout",
       "text": [
        "\n",
        "Parsing row Anal_Chem"
       ]
      },
      {
       "output_type": "stream",
       "stream": "stdout",
       "text": [
        "\n",
        "Parsing row Biol_Open"
       ]
      },
      {
       "output_type": "stream",
       "stream": "stdout",
       "text": [
        "\n",
        "Parsing row Drug_Saf"
       ]
      },
      {
       "output_type": "stream",
       "stream": "stdout",
       "text": [
        "\n",
        "Parsing row PLoS_One"
       ]
      },
      {
       "output_type": "stream",
       "stream": "stdout",
       "text": [
        "\n",
        "Parsing row Mamm_Genome"
       ]
      },
      {
       "output_type": "stream",
       "stream": "stdout",
       "text": [
        "\n",
        "Parsing row Gastroenterol_Res_Pract"
       ]
      },
      {
       "output_type": "stream",
       "stream": "stdout",
       "text": [
        "\n",
        "Parsing row PhytoKeys"
       ]
      },
      {
       "output_type": "stream",
       "stream": "stdout",
       "text": [
        "\n",
        "Parsing row Artif_Intell"
       ]
      },
      {
       "output_type": "stream",
       "stream": "stdout",
       "text": [
        "\n",
        "Parsing row Biomed_Res_Int"
       ]
      },
      {
       "output_type": "stream",
       "stream": "stdout",
       "text": [
        "\n",
        "Parsing row Crit_Rev_Biochem_Mol_Biol"
       ]
      },
      {
       "output_type": "stream",
       "stream": "stdout",
       "text": [
        "\n",
        "Parsing row eNeuro"
       ]
      },
      {
       "output_type": "stream",
       "stream": "stdout",
       "text": [
        "\n",
        "Parsing row Genetics"
       ]
      },
      {
       "output_type": "stream",
       "stream": "stdout",
       "text": [
        "\n",
        "Parsing row 101283273"
       ]
      },
      {
       "output_type": "stream",
       "stream": "stdout",
       "text": [
        "\n",
        "Parsing row J_Med_Genet"
       ]
      },
      {
       "output_type": "stream",
       "stream": "stdout",
       "text": [
        "\n",
        "Parsing row 9502015"
       ]
      },
      {
       "output_type": "stream",
       "stream": "stdout",
       "text": [
        "\n",
        "Parsing row Genomics_Inform"
       ]
      },
      {
       "output_type": "stream",
       "stream": "stdout",
       "text": [
        "\n",
        "Parsing row BMC_Med_Genomics"
       ]
      },
      {
       "output_type": "stream",
       "stream": "stdout",
       "text": [
        "\n",
        "Parsing row PLoS_Biol"
       ]
      },
      {
       "output_type": "stream",
       "stream": "stdout",
       "text": [
        "\n",
        "Parsing row 100955518"
       ]
      },
      {
       "output_type": "stream",
       "stream": "stdout",
       "text": [
        "\n",
        "Parsing row 101300215"
       ]
      },
      {
       "output_type": "stream",
       "stream": "stdout",
       "text": [
        "\n",
        "Parsing row Leukemia"
       ]
      },
      {
       "output_type": "stream",
       "stream": "stdout",
       "text": [
        "\n",
        "Parsing row Gene_Regul_Syst_Bio"
       ]
      },
      {
       "output_type": "stream",
       "stream": "stdout",
       "text": [
        "\n",
        "Parsing row Data_Brief"
       ]
      },
      {
       "output_type": "stream",
       "stream": "stdout",
       "text": [
        "\n",
        "Parsing row J_Softw_(Malden)"
       ]
      },
      {
       "output_type": "stream",
       "stream": "stdout",
       "text": [
        "\n",
        "Parsing row BMC_Med_Res_Methodol"
       ]
      },
      {
       "output_type": "stream",
       "stream": "stdout",
       "text": [
        "\n",
        "Parsing row Acta_Neuropathol_Commun"
       ]
      },
      {
       "output_type": "stream",
       "stream": "stdout",
       "text": [
        "\n",
        "Parsing row Adv_Appl_Bioinform_Chem"
       ]
      },
      {
       "output_type": "stream",
       "stream": "stdout",
       "text": [
        "\n",
        "Parsing row Genes_Cancer"
       ]
      },
      {
       "output_type": "stream",
       "stream": "stdout",
       "text": [
        "\n",
        "Parsing row Sci_Rep"
       ]
      },
      {
       "output_type": "stream",
       "stream": "stdout",
       "text": [
        "\n",
        "Parsing row Aging_Cell"
       ]
      },
      {
       "output_type": "stream",
       "stream": "stdout",
       "text": [
        "\n",
        "Parsing row Int_J_Environ_Res_Public_Health"
       ]
      },
      {
       "output_type": "stream",
       "stream": "stdout",
       "text": [
        "\n",
        "Parsing row Interact_J_Med_Res"
       ]
      },
      {
       "output_type": "stream",
       "stream": "stdout",
       "text": [
        "\n",
        "Parsing row Biosystems"
       ]
      },
      {
       "output_type": "stream",
       "stream": "stdout",
       "text": [
        "\n",
        "Parsing row Diagn_Pathol"
       ]
      },
      {
       "output_type": "stream",
       "stream": "stdout",
       "text": [
        "\n",
        "Parsing row Ecol_Lett"
       ]
      },
      {
       "output_type": "stream",
       "stream": "stdout",
       "text": [
        "\n",
        "Parsing row J_Struct_Biol"
       ]
      },
      {
       "output_type": "stream",
       "stream": "stdout",
       "text": [
        "\n",
        "Parsing row 101235387"
       ]
      },
      {
       "output_type": "stream",
       "stream": "stdout",
       "text": [
        "\n",
        "Parsing row Ind_Eng_Chem_Res"
       ]
      },
      {
       "output_type": "stream",
       "stream": "stdout",
       "text": [
        "\n",
        "Parsing row Canine_Genet_Epidemiol"
       ]
      },
      {
       "output_type": "stream",
       "stream": "stdout",
       "text": [
        "\n",
        "Parsing row Astrobiology"
       ]
      },
      {
       "output_type": "stream",
       "stream": "stdout",
       "text": [
        "\n",
        "Parsing row J_Exp_Psychol_Gen"
       ]
      },
      {
       "output_type": "stream",
       "stream": "stdout",
       "text": [
        "\n",
        "Parsing row J_Extracell_Vesicles"
       ]
      },
      {
       "output_type": "stream",
       "stream": "stdout",
       "text": [
        "\n",
        "Parsing row Physiol_Rep"
       ]
      },
      {
       "output_type": "stream",
       "stream": "stdout",
       "text": [
        "\n",
        "Parsing row Int_J_Health_Geogr"
       ]
      },
      {
       "output_type": "stream",
       "stream": "stdout",
       "text": [
        "\n",
        "Parsing row BMC_Vet_Res"
       ]
      },
      {
       "output_type": "stream",
       "stream": "stdout",
       "text": [
        "\n",
        "Parsing row J_Evol_Biol"
       ]
      },
      {
       "output_type": "stream",
       "stream": "stdout",
       "text": [
        "\n",
        "Parsing row Front_Syst_Neurosci"
       ]
      },
      {
       "output_type": "stream",
       "stream": "stdout",
       "text": [
        "\n",
        "Parsing row Appl_Microbiol_Biotechnol"
       ]
      },
      {
       "output_type": "stream",
       "stream": "stdout",
       "text": [
        "\n",
        "Parsing row Hum_Brain_Mapp"
       ]
      },
      {
       "output_type": "stream",
       "stream": "stdout",
       "text": [
        "\n",
        "Parsing row Front_Neuroeng"
       ]
      },
      {
       "output_type": "stream",
       "stream": "stdout",
       "text": [
        "\n",
        "Parsing row Chemphyschem"
       ]
      },
      {
       "output_type": "stream",
       "stream": "stdout",
       "text": [
        "\n",
        "Parsing row Cancers_(Basel)"
       ]
      },
      {
       "output_type": "stream",
       "stream": "stdout",
       "text": [
        "\n",
        "Parsing row Environ_Health"
       ]
      },
      {
       "output_type": "stream",
       "stream": "stdout",
       "text": [
        "\n",
        "Parsing row Genes_(Basel)"
       ]
      },
      {
       "output_type": "stream",
       "stream": "stdout",
       "text": [
        "\n",
        "Parsing row BMC_Infect_Dis"
       ]
      },
      {
       "output_type": "stream",
       "stream": "stdout",
       "text": [
        "\n",
        "Parsing row Hepatology"
       ]
      },
      {
       "output_type": "stream",
       "stream": "stdout",
       "text": [
        "\n",
        "Parsing row J_Med_Internet_Res"
       ]
      },
      {
       "output_type": "stream",
       "stream": "stdout",
       "text": [
        "\n",
        "Parsing row PLoS_Genet"
       ]
      },
      {
       "output_type": "stream",
       "stream": "stdout",
       "text": [
        "\n",
        "Parsing row Virus_Res"
       ]
      },
      {
       "output_type": "stream",
       "stream": "stdout",
       "text": [
        "\n",
        "Parsing row Virol_J"
       ]
      },
      {
       "output_type": "stream",
       "stream": "stdout",
       "text": [
        "\n",
        "Parsing row Sensors_(Basel)"
       ]
      },
      {
       "output_type": "stream",
       "stream": "stdout",
       "text": [
        "\n",
        "Parsing row J_R_Stat_Soc_Ser_C_Appl_Stat"
       ]
      },
      {
       "output_type": "stream",
       "stream": "stdout",
       "text": [
        "\n",
        "Parsing row EMBO_J"
       ]
      },
      {
       "output_type": "stream",
       "stream": "stdout",
       "text": [
        "\n",
        "Parsing row Biochem_Med_(Zagreb)"
       ]
      },
      {
       "output_type": "stream",
       "stream": "stdout",
       "text": [
        "\n",
        "Parsing row Emerg_Microbes_Infect"
       ]
      },
      {
       "output_type": "stream",
       "stream": "stdout",
       "text": [
        "\n",
        "Parsing row BMC_Biol"
       ]
      },
      {
       "output_type": "stream",
       "stream": "stdout",
       "text": [
        "\n",
        "Parsing row BMC_Med_Imaging"
       ]
      },
      {
       "output_type": "stream",
       "stream": "stdout",
       "text": [
        "\n",
        "Parsing row Malar_J"
       ]
      },
      {
       "output_type": "stream",
       "stream": "stdout",
       "text": [
        "\n",
        "Parsing row Br_J_Cancer"
       ]
      },
      {
       "output_type": "stream",
       "stream": "stdout",
       "text": [
        "\n",
        "Parsing row PLoS_Pathog"
       ]
      },
      {
       "output_type": "stream",
       "stream": "stdout",
       "text": [
        "\n",
        "Parsing row Front_Public_Health"
       ]
      },
      {
       "output_type": "stream",
       "stream": "stdout",
       "text": [
        "\n",
        "Parsing row Int_J_Mass_Spectrom"
       ]
      },
      {
       "output_type": "stream",
       "stream": "stdout",
       "text": [
        "\n",
        "Parsing row Appl_Plant_Sci"
       ]
      },
      {
       "output_type": "stream",
       "stream": "stdout",
       "text": [
        "\n",
        "Parsing row 101671497"
       ]
      },
      {
       "output_type": "stream",
       "stream": "stdout",
       "text": [
        "\n",
        "Parsing row 9604648"
       ]
      },
      {
       "output_type": "stream",
       "stream": "stdout",
       "text": [
        "\n",
        "Parsing row BMC_Microbiol"
       ]
      },
      {
       "output_type": "stream",
       "stream": "stdout",
       "text": [
        "\n",
        "Parsing row J_Comput_Chem"
       ]
      },
      {
       "output_type": "stream",
       "stream": "stdout",
       "text": [
        "\n",
        "Parsing row J_Obes"
       ]
      },
      {
       "output_type": "stream",
       "stream": "stdout",
       "text": [
        "\n",
        "Parsing row BMC_Res_Notes"
       ]
      },
      {
       "output_type": "stream",
       "stream": "stdout",
       "text": [
        "\n",
        "Parsing row Bioinformation"
       ]
      },
      {
       "output_type": "stream",
       "stream": "stdout",
       "text": [
        "\n",
        "Parsing row Genome_Med"
       ]
      },
      {
       "output_type": "stream",
       "stream": "stdout",
       "text": [
        "\n",
        "Parsing row 100941354"
       ]
      },
      {
       "output_type": "stream",
       "stream": "stdout",
       "text": [
        "\n",
        "Parsing row Epigenetics_Chromatin"
       ]
      },
      {
       "output_type": "stream",
       "stream": "stdout",
       "text": [
        "\n",
        "Parsing row Zookeys"
       ]
      },
      {
       "output_type": "stream",
       "stream": "stdout",
       "text": [
        "\n",
        "Parsing row Hum_Genomics"
       ]
      },
      {
       "output_type": "stream",
       "stream": "stdout",
       "text": [
        "\n",
        "Parsing row 101642258"
       ]
      },
      {
       "output_type": "stream",
       "stream": "stdout",
       "text": [
        "\n",
        "Parsing row Endocrinology"
       ]
      },
      {
       "output_type": "stream",
       "stream": "stdout",
       "text": [
        "\n",
        "Parsing row EvoDevo"
       ]
      },
      {
       "output_type": "stream",
       "stream": "stdout",
       "text": [
        "\n",
        "Parsing row 101613976"
       ]
      },
      {
       "output_type": "stream",
       "stream": "stdout",
       "text": [
        "\n",
        "Parsing row EJNMMI_Res"
       ]
      },
      {
       "output_type": "stream",
       "stream": "stdout",
       "text": [
        "\n",
        "Parsing row J_Radiat_Res"
       ]
      },
      {
       "output_type": "stream",
       "stream": "stdout",
       "text": [
        "\n",
        "Parsing row BMC_Syst_Biol"
       ]
      },
      {
       "output_type": "stream",
       "stream": "stdout",
       "text": [
        "\n",
        "Parsing row J_Behav_Exp_Finance"
       ]
      },
      {
       "output_type": "stream",
       "stream": "stdout",
       "text": [
        "\n",
        "Parsing row J_Am_Chem_Soc"
       ]
      },
      {
       "output_type": "stream",
       "stream": "stdout",
       "text": [
        "\n",
        "Parsing row Methods_Ecol_Evol"
       ]
      },
      {
       "output_type": "stream",
       "stream": "stdout",
       "text": [
        "\n",
        "Parsing row Addict_Sci_Clin_Pract"
       ]
      },
      {
       "output_type": "stream",
       "stream": "stdout",
       "text": [
        "\n",
        "Parsing row Chem_Cent_J"
       ]
      },
      {
       "output_type": "stream",
       "stream": "stdout",
       "text": [
        "\n",
        "Parsing row 100890575"
       ]
      },
      {
       "output_type": "stream",
       "stream": "stdout",
       "text": [
        "\n",
        "Parsing row J_Microsc"
       ]
      },
      {
       "output_type": "stream",
       "stream": "stdout",
       "text": [
        "\n",
        "Parsing row Health_Qual_Life_Outcomes"
       ]
      },
      {
       "output_type": "stream",
       "stream": "stdout",
       "text": [
        "\n",
        "Parsing row Bioessays"
       ]
      },
      {
       "output_type": "stream",
       "stream": "stdout",
       "text": [
        "\n",
        "Parsing row Front_Neurorobot"
       ]
      },
      {
       "output_type": "stream",
       "stream": "stdout",
       "text": [
        "\n",
        "Parsing row PLoS_Comput_Biol"
       ]
      },
      {
       "output_type": "stream",
       "stream": "stdout",
       "text": [
        "\n",
        "Parsing row Breast_Cancer_Res"
       ]
      },
      {
       "output_type": "stream",
       "stream": "stdout",
       "text": [
        "\n",
        "Parsing row Front_Integr_Neurosci"
       ]
      },
      {
       "output_type": "stream",
       "stream": "stdout",
       "text": [
        "\n",
        "Parsing row J_Cheminform"
       ]
      },
      {
       "output_type": "stream",
       "stream": "stdout",
       "text": [
        "\n",
        "Parsing row Front_Oncol"
       ]
      },
      {
       "output_type": "stream",
       "stream": "stdout",
       "text": [
        "\n",
        "Parsing row ACS_Synth_Biol"
       ]
      },
      {
       "output_type": "stream",
       "stream": "stdout",
       "text": [
        "\n",
        "Parsing row Vet_Res"
       ]
      },
      {
       "output_type": "stream",
       "stream": "stdout",
       "text": [
        "\n",
        "Parsing row J_Ther_Ultrasound"
       ]
      },
      {
       "output_type": "stream",
       "stream": "stdout",
       "text": [
        "\n",
        "Parsing row Investig_Genet"
       ]
      },
      {
       "output_type": "stream",
       "stream": "stdout",
       "text": [
        "\n",
        "Parsing row Cell_Rep"
       ]
      },
      {
       "output_type": "stream",
       "stream": "stdout",
       "text": [
        "\n",
        "Parsing row Cell_Res"
       ]
      },
      {
       "output_type": "stream",
       "stream": "stdout",
       "text": [
        "\n",
        "Parsing row Database_(Oxford)"
       ]
      },
      {
       "output_type": "stream",
       "stream": "stdout",
       "text": [
        "\n",
        "Parsing row Springerplus"
       ]
      },
      {
       "output_type": "stream",
       "stream": "stdout",
       "text": [
        "\n",
        "Parsing row Biol_Direct"
       ]
      },
      {
       "output_type": "stream",
       "stream": "stdout",
       "text": [
        "\n",
        "Parsing row Life_(Basel)"
       ]
      },
      {
       "output_type": "stream",
       "stream": "stdout",
       "text": [
        "\n",
        "Parsing row BMC_Geriatr"
       ]
      },
      {
       "output_type": "stream",
       "stream": "stdout",
       "text": [
        "\n",
        "Parsing row Genome_Announc"
       ]
      },
      {
       "output_type": "stream",
       "stream": "stdout",
       "text": [
        "\n",
        "Parsing row Pharmaceutics"
       ]
      },
      {
       "output_type": "stream",
       "stream": "stdout",
       "text": [
        "\n",
        "Parsing row Sci_Adv"
       ]
      },
      {
       "output_type": "stream",
       "stream": "stdout",
       "text": [
        "\n",
        "Parsing row Cell_Tissue_Res"
       ]
      },
      {
       "output_type": "stream",
       "stream": "stdout",
       "text": [
        "\n",
        "Parsing row Proc_Math_Phys_Eng_Sci"
       ]
      },
      {
       "output_type": "stream",
       "stream": "stdout",
       "text": [
        "\n",
        "Parsing row Mol_Ecol_Resour"
       ]
      },
      {
       "output_type": "stream",
       "stream": "stdout",
       "text": [
        "\n",
        "Parsing row Front_Microbiol"
       ]
      },
      {
       "output_type": "stream",
       "stream": "stdout",
       "text": [
        "\n",
        "Parsing row Am_J_Trop_Med_Hyg"
       ]
      },
      {
       "output_type": "stream",
       "stream": "stdout",
       "text": [
        "\n",
        "Parsing row J_Med_Chem"
       ]
      },
      {
       "output_type": "stream",
       "stream": "stdout",
       "text": [
        "\n",
        "Parsing row Rev_Lat_Am_Enfermagem"
       ]
      },
      {
       "output_type": "stream",
       "stream": "stdout",
       "text": [
        "\n",
        "Parsing row J_Am_Med_Inform_Assoc"
       ]
      },
      {
       "output_type": "stream",
       "stream": "stdout",
       "text": [
        "\n",
        "Parsing row Acta_Crystallogr_D_Biol_Crystallogr"
       ]
      },
      {
       "output_type": "stream",
       "stream": "stdout",
       "text": [
        "\n",
        "Parsing row J_Chem_Theory_Comput"
       ]
      },
      {
       "output_type": "stream",
       "stream": "stdout",
       "text": [
        "\n",
        "Parsing row Biomol_Detect_Quantif"
       ]
      },
      {
       "output_type": "stream",
       "stream": "stdout",
       "text": [
        "\n",
        "Parsing row IUCrJ"
       ]
      },
      {
       "output_type": "stream",
       "stream": "stdout",
       "text": [
        "\n",
        "Parsing row J_R_Soc_Interface"
       ]
      },
      {
       "output_type": "stream",
       "stream": "stdout",
       "text": [
        "\n",
        "Parsing row Mol_Vis"
       ]
      },
      {
       "output_type": "stream",
       "stream": "stdout",
       "text": [
        "\n",
        "Parsing row Hum_Mutat"
       ]
      },
      {
       "output_type": "stream",
       "stream": "stdout",
       "text": [
        "\n",
        "Parsing row Anal_Bioanal_Chem"
       ]
      },
      {
       "output_type": "stream",
       "stream": "stdout",
       "text": [
        "\n",
        "Parsing row Genes_Cells"
       ]
      },
      {
       "output_type": "stream",
       "stream": "stdout",
       "text": [
        "\n",
        "Parsing row Front_Neuroinformatics"
       ]
      },
      {
       "output_type": "stream",
       "stream": "stdout",
       "text": [
        "\n",
        "Parsing row Mol_Breed"
       ]
      },
      {
       "output_type": "stream",
       "stream": "stdout",
       "text": [
        "\n",
        "Parsing row Algorithms_Mol_Biol"
       ]
      },
      {
       "output_type": "stream",
       "stream": "stdout",
       "text": [
        "\n",
        "Parsing row Genet_Epidemiol"
       ]
      },
      {
       "output_type": "stream",
       "stream": "stdout",
       "text": [
        "\n",
        "Parsing row BMC_Evol_Biol"
       ]
      },
      {
       "output_type": "stream",
       "stream": "stdout",
       "text": [
        "\n",
        "Parsing row Front_Bioeng_Biotechnol"
       ]
      },
      {
       "output_type": "stream",
       "stream": "stdout",
       "text": [
        "\n",
        "Parsing row BMC_Neurosci"
       ]
      },
      {
       "output_type": "stream",
       "stream": "stdout",
       "text": [
        "\n",
        "Parsing row Front_Genet"
       ]
      },
      {
       "output_type": "stream",
       "stream": "stdout",
       "text": [
        "\n",
        "Parsing row Yale_J_Biol_Med"
       ]
      },
      {
       "output_type": "stream",
       "stream": "stdout",
       "text": [
        "\n",
        "Parsing row BMC_Biotechnol"
       ]
      },
      {
       "output_type": "stream",
       "stream": "stdout",
       "text": [
        "\n",
        "Parsing row Stem_Cell_Reports"
       ]
      },
      {
       "output_type": "stream",
       "stream": "stdout",
       "text": [
        "\n",
        "Parsing row Curr_Genomics"
       ]
      },
      {
       "output_type": "stream",
       "stream": "stdout",
       "text": [
        "\n",
        "Parsing row Fam_Cancer"
       ]
      },
      {
       "output_type": "stream",
       "stream": "stdout",
       "text": [
        "\n",
        "Parsing row J_Chem_Inf_Model"
       ]
      },
      {
       "output_type": "stream",
       "stream": "stdout",
       "text": [
        "\n",
        "Parsing row Front_Endocrinol_(Lausanne)"
       ]
      },
      {
       "output_type": "stream",
       "stream": "stdout",
       "text": [
        "\n",
        "Parsing row Front_Plant_Sci"
       ]
      },
      {
       "output_type": "stream",
       "stream": "stdout",
       "text": [
        "\n",
        "Parsing row PLoS_Med"
       ]
      },
      {
       "output_type": "stream",
       "stream": "stdout",
       "text": [
        "\n",
        "Parsing row Plant_Methods"
       ]
      },
      {
       "output_type": "stream",
       "stream": "stdout",
       "text": [
        "\n",
        "Parsing row Reprod_Biol_Endocrinol"
       ]
      },
      {
       "output_type": "stream",
       "stream": "stdout",
       "text": [
        "\n",
        "Parsing row Front_Physiol"
       ]
      },
      {
       "output_type": "stream",
       "stream": "stdout",
       "text": [
        "\n",
        "Parsing row Environ_Monit_Assess"
       ]
      },
      {
       "output_type": "stream",
       "stream": "stdout",
       "text": [
        "\n",
        "Parsing row BMC_Ecol"
       ]
      },
      {
       "output_type": "stream",
       "stream": "stdout",
       "text": [
        "\n",
        "Parsing row J_Neurosci_Methods"
       ]
      },
      {
       "output_type": "stream",
       "stream": "stdout",
       "text": [
        "\n",
        "Parsing row BMC_Struct_Biol"
       ]
      },
      {
       "output_type": "stream",
       "stream": "stdout",
       "text": [
        "\n",
        "Parsing row Hum_Mol_Genet"
       ]
      },
      {
       "output_type": "stream",
       "stream": "stdout",
       "text": [
        "\n",
        "Parsing row ACS_Nano"
       ]
      },
      {
       "output_type": "stream",
       "stream": "stdout",
       "text": [
        "\n",
        "Parsing row Vasc_Cell"
       ]
      },
      {
       "output_type": "stream",
       "stream": "stdout",
       "text": [
        "\n",
        "Parsing row Genet_Sel_Evol"
       ]
      },
      {
       "output_type": "stream",
       "stream": "stdout",
       "text": [
        "\n",
        "Parsing row Med_Biol_Eng_Comput"
       ]
      },
      {
       "output_type": "stream",
       "stream": "stdout",
       "text": [
        "\n",
        "Parsing row J_Med_Case_Rep"
       ]
      },
      {
       "output_type": "stream",
       "stream": "stdout",
       "text": [
        "\n",
        "Parsing row Zoological_Lett"
       ]
      },
      {
       "output_type": "stream",
       "stream": "stdout",
       "text": [
        "\n",
        "Parsing row 9809671"
       ]
      },
      {
       "output_type": "stream",
       "stream": "stdout",
       "text": [
        "\n",
        "Parsing row Nucleic_Acids_Res"
       ]
      },
      {
       "output_type": "stream",
       "stream": "stdout",
       "text": [
        "\n",
        "Parsing row Environ_Health_Perspect"
       ]
      },
      {
       "output_type": "stream",
       "stream": "stdout",
       "text": [
        "\n",
        "Parsing row PeerJ"
       ]
      },
      {
       "output_type": "stream",
       "stream": "stdout",
       "text": [
        "\n"
       ]
      }
     ],
     "prompt_number": 46
    },
    {
     "cell_type": "code",
     "collapsed": false,
     "input": [
      "# Note - it looks like we have some mistakes in journal names (pubmed ids appear to have come through)\n",
      "# we will filter out names that are all numbers\n",
      "\n",
      "journal_filter = [x for x in sim.index.tolist() if not re.search(\"^-?[0-9]+$\",x)]\n",
      "print \"We found %s journals after the filter\" %(len(journal_filter))\n",
      "sim = sim.loc[sim.index.isin(journal_filter),sim.columns.isin(journal_filter)]\n",
      "\n",
      "sim.to_csv(\"data/journal_sims_wrt_modules.tsv\",sep=\"\\t\")"
     ],
     "language": "python",
     "metadata": {},
     "outputs": [
      {
       "output_type": "stream",
       "stream": "stdout",
       "text": [
        "We found 398 journals after the filter\n"
       ]
      }
     ],
     "prompt_number": 52
    },
    {
     "cell_type": "code",
     "collapsed": false,
     "input": [
      "# Now let's generate a simple matrix of source,target,value to make a nice clustering!\n",
      "\n",
      "funclinks = pandas.DataFrame(columns=[\"source\",\"target\",\"value\"])\n",
      "\n",
      "# Let's look at > 2.6 sd (sort of arbitrary)\n",
      "thresh = sim.mean().mean() + 2.6 * sim.std().std()\n",
      "\n",
      "seen = [] # Let's not add links twice\n",
      "for row in sim.iterrows():\n",
      "    journal = row[0]\n",
      "    others = row[1][row[1]!=0].index.tolist() # other journal names that are nonzero\n",
      "    for other in others:\n",
      "        link_id = \"_\".join(numpy.sort([journal,other]))\n",
      "        if link_id not in seen and journal != other:\n",
      "            score = row[1][other]\n",
      "            if score >= thresh:\n",
      "                funclinks.loc[link_id] = [journal,other,score]\n",
      "                seen.append(link_id)\n",
      "\n",
      "funclinks.to_csv(\"data/journal_links_wrt_modules.csv\")\n",
      "funclinks"
     ],
     "language": "python",
     "metadata": {},
     "outputs": [
      {
       "html": [
        "<div style=\"max-width:1500px;overflow:auto;\">\n",
        "<table border=\"1\" class=\"dataframe\">\n",
        "  <thead>\n",
        "    <tr style=\"text-align: right;\">\n",
        "      <th></th>\n",
        "      <th>source</th>\n",
        "      <th>target</th>\n",
        "      <th>value</th>\n",
        "    </tr>\n",
        "  </thead>\n",
        "  <tbody>\n",
        "    <tr>\n",
        "      <th>Front_Aging_Neurosci_Front_Neurosci</th>\n",
        "      <td>Front_Aging_Neurosci</td>\n",
        "      <td>Front_Neurosci</td>\n",
        "      <td>28</td>\n",
        "    </tr>\n",
        "    <tr>\n",
        "      <th>BMC_Genet_Front_Aging_Neurosci</th>\n",
        "      <td>Front_Aging_Neurosci</td>\n",
        "      <td>BMC_Genet</td>\n",
        "      <td>20</td>\n",
        "    </tr>\n",
        "    <tr>\n",
        "      <th>Front_Aging_Neurosci_Sci_Data</th>\n",
        "      <td>Front_Aging_Neurosci</td>\n",
        "      <td>Sci_Data</td>\n",
        "      <td>41</td>\n",
        "    </tr>\n",
        "    <tr>\n",
        "      <th>Front_Aging_Neurosci_Iperception</th>\n",
        "      <td>Front_Aging_Neurosci</td>\n",
        "      <td>Iperception</td>\n",
        "      <td>14</td>\n",
        "    </tr>\n",
        "    <tr>\n",
        "      <th>Bioinformatics_Front_Aging_Neurosci</th>\n",
        "      <td>Front_Aging_Neurosci</td>\n",
        "      <td>Bioinformatics</td>\n",
        "      <td>27</td>\n",
        "    </tr>\n",
        "    <tr>\n",
        "      <th>Front_Aging_Neurosci_J_Biomed_Semantics</th>\n",
        "      <td>Front_Aging_Neurosci</td>\n",
        "      <td>J_Biomed_Semantics</td>\n",
        "      <td>16</td>\n",
        "    </tr>\n",
        "    <tr>\n",
        "      <th>Front_Aging_Neurosci_eLife</th>\n",
        "      <td>Front_Aging_Neurosci</td>\n",
        "      <td>eLife</td>\n",
        "      <td>45</td>\n",
        "    </tr>\n",
        "    <tr>\n",
        "      <th>Front_Aging_Neurosci_Nat_Commun</th>\n",
        "      <td>Front_Aging_Neurosci</td>\n",
        "      <td>Nat_Commun</td>\n",
        "      <td>33</td>\n",
        "    </tr>\n",
        "    <tr>\n",
        "      <th>Front_Aging_Neurosci_Front_Comput_Neurosci</th>\n",
        "      <td>Front_Aging_Neurosci</td>\n",
        "      <td>Front_Comput_Neurosci</td>\n",
        "      <td>18</td>\n",
        "    </tr>\n",
        "    <tr>\n",
        "      <th>BMC_Genomics_Front_Aging_Neurosci</th>\n",
        "      <td>Front_Aging_Neurosci</td>\n",
        "      <td>BMC_Genomics</td>\n",
        "      <td>48</td>\n",
        "    </tr>\n",
        "    <tr>\n",
        "      <th>Front_Aging_Neurosci_Genome_Biol</th>\n",
        "      <td>Front_Aging_Neurosci</td>\n",
        "      <td>Genome_Biol</td>\n",
        "      <td>42</td>\n",
        "    </tr>\n",
        "    <tr>\n",
        "      <th>Front_Aging_Neurosci_Mol_Syst_Biol</th>\n",
        "      <td>Front_Aging_Neurosci</td>\n",
        "      <td>Mol_Syst_Biol</td>\n",
        "      <td>25</td>\n",
        "    </tr>\n",
        "    <tr>\n",
        "      <th>Front_Aging_Neurosci_Metabolomics</th>\n",
        "      <td>Front_Aging_Neurosci</td>\n",
        "      <td>Metabolomics</td>\n",
        "      <td>22</td>\n",
        "    </tr>\n",
        "    <tr>\n",
        "      <th>Front_Aging_Neurosci_Philos_Trans_R_Soc_Lond_B_Biol_Sci</th>\n",
        "      <td>Front_Aging_Neurosci</td>\n",
        "      <td>Philos_Trans_R_Soc_Lond_B_Biol_Sci</td>\n",
        "      <td>15</td>\n",
        "    </tr>\n",
        "    <tr>\n",
        "      <th>BMC_Bioinformatics_Front_Aging_Neurosci</th>\n",
        "      <td>Front_Aging_Neurosci</td>\n",
        "      <td>BMC_Bioinformatics</td>\n",
        "      <td>99</td>\n",
        "    </tr>\n",
        "    <tr>\n",
        "      <th>Front_Aging_Neurosci_Gigascience</th>\n",
        "      <td>Front_Aging_Neurosci</td>\n",
        "      <td>Gigascience</td>\n",
        "      <td>19</td>\n",
        "    </tr>\n",
        "    <tr>\n",
        "      <th>Front_Aging_Neurosci_J_Appl_Crystallogr</th>\n",
        "      <td>Front_Aging_Neurosci</td>\n",
        "      <td>J_Appl_Crystallogr</td>\n",
        "      <td>37</td>\n",
        "    </tr>\n",
        "    <tr>\n",
        "      <th>Front_Aging_Neurosci_Front_Neuroinform</th>\n",
        "      <td>Front_Aging_Neurosci</td>\n",
        "      <td>Front_Neuroinform</td>\n",
        "      <td>121</td>\n",
        "    </tr>\n",
        "    <tr>\n",
        "      <th>Front_Aging_Neurosci_PLoS_One</th>\n",
        "      <td>Front_Aging_Neurosci</td>\n",
        "      <td>PLoS_One</td>\n",
        "      <td>182</td>\n",
        "    </tr>\n",
        "    <tr>\n",
        "      <th>Biomed_Res_Int_Front_Aging_Neurosci</th>\n",
        "      <td>Front_Aging_Neurosci</td>\n",
        "      <td>Biomed_Res_Int</td>\n",
        "      <td>22</td>\n",
        "    </tr>\n",
        "    <tr>\n",
        "      <th>Front_Aging_Neurosci_Sci_Rep</th>\n",
        "      <td>Front_Aging_Neurosci</td>\n",
        "      <td>Sci_Rep</td>\n",
        "      <td>38</td>\n",
        "    </tr>\n",
        "    <tr>\n",
        "      <th>Front_Aging_Neurosci_Physiol_Rep</th>\n",
        "      <td>Front_Aging_Neurosci</td>\n",
        "      <td>Physiol_Rep</td>\n",
        "      <td>14</td>\n",
        "    </tr>\n",
        "    <tr>\n",
        "      <th>Front_Aging_Neurosci_PLoS_Genet</th>\n",
        "      <td>Front_Aging_Neurosci</td>\n",
        "      <td>PLoS_Genet</td>\n",
        "      <td>18</td>\n",
        "    </tr>\n",
        "    <tr>\n",
        "      <th>BMC_Microbiol_Front_Aging_Neurosci</th>\n",
        "      <td>Front_Aging_Neurosci</td>\n",
        "      <td>BMC_Microbiol</td>\n",
        "      <td>29</td>\n",
        "    </tr>\n",
        "    <tr>\n",
        "      <th>BMC_Res_Notes_Front_Aging_Neurosci</th>\n",
        "      <td>Front_Aging_Neurosci</td>\n",
        "      <td>BMC_Res_Notes</td>\n",
        "      <td>16</td>\n",
        "    </tr>\n",
        "    <tr>\n",
        "      <th>Front_Aging_Neurosci_Genome_Med</th>\n",
        "      <td>Front_Aging_Neurosci</td>\n",
        "      <td>Genome_Med</td>\n",
        "      <td>23</td>\n",
        "    </tr>\n",
        "    <tr>\n",
        "      <th>Front_Aging_Neurosci_PLoS_Comput_Biol</th>\n",
        "      <td>Front_Aging_Neurosci</td>\n",
        "      <td>PLoS_Comput_Biol</td>\n",
        "      <td>86</td>\n",
        "    </tr>\n",
        "    <tr>\n",
        "      <th>Front_Aging_Neurosci_J_Cheminform</th>\n",
        "      <td>Front_Aging_Neurosci</td>\n",
        "      <td>J_Cheminform</td>\n",
        "      <td>15</td>\n",
        "    </tr>\n",
        "    <tr>\n",
        "      <th>Front_Aging_Neurosci_Genome_Announc</th>\n",
        "      <td>Front_Aging_Neurosci</td>\n",
        "      <td>Genome_Announc</td>\n",
        "      <td>26</td>\n",
        "    </tr>\n",
        "    <tr>\n",
        "      <th>Front_Aging_Neurosci_Front_Microbiol</th>\n",
        "      <td>Front_Aging_Neurosci</td>\n",
        "      <td>Front_Microbiol</td>\n",
        "      <td>19</td>\n",
        "    </tr>\n",
        "    <tr>\n",
        "      <th>...</th>\n",
        "      <td>...</td>\n",
        "      <td>...</td>\n",
        "      <td>...</td>\n",
        "    </tr>\n",
        "    <tr>\n",
        "      <th>Appl_Plant_Sci_PLoS_Comput_Biol</th>\n",
        "      <td>Appl_Plant_Sci</td>\n",
        "      <td>PLoS_Comput_Biol</td>\n",
        "      <td>30</td>\n",
        "    </tr>\n",
        "    <tr>\n",
        "      <th>Epigenetics_Chromatin_PLoS_Comput_Biol</th>\n",
        "      <td>Epigenetics_Chromatin</td>\n",
        "      <td>PLoS_Comput_Biol</td>\n",
        "      <td>33</td>\n",
        "    </tr>\n",
        "    <tr>\n",
        "      <th>Health_Qual_Life_Outcomes_PLoS_Comput_Biol</th>\n",
        "      <td>Health_Qual_Life_Outcomes</td>\n",
        "      <td>PLoS_Comput_Biol</td>\n",
        "      <td>36</td>\n",
        "    </tr>\n",
        "    <tr>\n",
        "      <th>Database_(Oxford)_Genome_Announc</th>\n",
        "      <td>Database_(Oxford)</td>\n",
        "      <td>Genome_Announc</td>\n",
        "      <td>18</td>\n",
        "    </tr>\n",
        "    <tr>\n",
        "      <th>Database_(Oxford)_Front_Microbiol</th>\n",
        "      <td>Database_(Oxford)</td>\n",
        "      <td>Front_Microbiol</td>\n",
        "      <td>14</td>\n",
        "    </tr>\n",
        "    <tr>\n",
        "      <th>BMC_Evol_Biol_Database_(Oxford)</th>\n",
        "      <td>Database_(Oxford)</td>\n",
        "      <td>BMC_Evol_Biol</td>\n",
        "      <td>16</td>\n",
        "    </tr>\n",
        "    <tr>\n",
        "      <th>Database_(Oxford)_Front_Genet</th>\n",
        "      <td>Database_(Oxford)</td>\n",
        "      <td>Front_Genet</td>\n",
        "      <td>22</td>\n",
        "    </tr>\n",
        "    <tr>\n",
        "      <th>Database_(Oxford)_Nucleic_Acids_Res</th>\n",
        "      <td>Database_(Oxford)</td>\n",
        "      <td>Nucleic_Acids_Res</td>\n",
        "      <td>21</td>\n",
        "    </tr>\n",
        "    <tr>\n",
        "      <th>Database_(Oxford)_PeerJ</th>\n",
        "      <td>Database_(Oxford)</td>\n",
        "      <td>PeerJ</td>\n",
        "      <td>20</td>\n",
        "    </tr>\n",
        "    <tr>\n",
        "      <th>BMC_Evol_Biol_J_Chem_Theory_Comput</th>\n",
        "      <td>J_Chem_Theory_Comput</td>\n",
        "      <td>BMC_Evol_Biol</td>\n",
        "      <td>14</td>\n",
        "    </tr>\n",
        "    <tr>\n",
        "      <th>Front_Genet_J_Chem_Theory_Comput</th>\n",
        "      <td>J_Chem_Theory_Comput</td>\n",
        "      <td>Front_Genet</td>\n",
        "      <td>20</td>\n",
        "    </tr>\n",
        "    <tr>\n",
        "      <th>J_Chem_Theory_Comput_Nucleic_Acids_Res</th>\n",
        "      <td>J_Chem_Theory_Comput</td>\n",
        "      <td>Nucleic_Acids_Res</td>\n",
        "      <td>18</td>\n",
        "    </tr>\n",
        "    <tr>\n",
        "      <th>J_Chem_Theory_Comput_PeerJ</th>\n",
        "      <td>J_Chem_Theory_Comput</td>\n",
        "      <td>PeerJ</td>\n",
        "      <td>18</td>\n",
        "    </tr>\n",
        "    <tr>\n",
        "      <th>BMC_Evol_Biol_Hum_Mutat</th>\n",
        "      <td>Hum_Mutat</td>\n",
        "      <td>BMC_Evol_Biol</td>\n",
        "      <td>22</td>\n",
        "    </tr>\n",
        "    <tr>\n",
        "      <th>Front_Bioeng_Biotechnol_Hum_Mutat</th>\n",
        "      <td>Hum_Mutat</td>\n",
        "      <td>Front_Bioeng_Biotechnol</td>\n",
        "      <td>16</td>\n",
        "    </tr>\n",
        "    <tr>\n",
        "      <th>Front_Genet_Hum_Mutat</th>\n",
        "      <td>Hum_Mutat</td>\n",
        "      <td>Front_Genet</td>\n",
        "      <td>32</td>\n",
        "    </tr>\n",
        "    <tr>\n",
        "      <th>Hum_Mutat_Nucleic_Acids_Res</th>\n",
        "      <td>Hum_Mutat</td>\n",
        "      <td>Nucleic_Acids_Res</td>\n",
        "      <td>30</td>\n",
        "    </tr>\n",
        "    <tr>\n",
        "      <th>Hum_Mutat_PeerJ</th>\n",
        "      <td>Hum_Mutat</td>\n",
        "      <td>PeerJ</td>\n",
        "      <td>28</td>\n",
        "    </tr>\n",
        "    <tr>\n",
        "      <th>Anal_Bioanal_Chem_BMC_Evol_Biol</th>\n",
        "      <td>Anal_Bioanal_Chem</td>\n",
        "      <td>BMC_Evol_Biol</td>\n",
        "      <td>28</td>\n",
        "    </tr>\n",
        "    <tr>\n",
        "      <th>Anal_Bioanal_Chem_Front_Bioeng_Biotechnol</th>\n",
        "      <td>Anal_Bioanal_Chem</td>\n",
        "      <td>Front_Bioeng_Biotechnol</td>\n",
        "      <td>20</td>\n",
        "    </tr>\n",
        "    <tr>\n",
        "      <th>Anal_Bioanal_Chem_Front_Genet</th>\n",
        "      <td>Anal_Bioanal_Chem</td>\n",
        "      <td>Front_Genet</td>\n",
        "      <td>40</td>\n",
        "    </tr>\n",
        "    <tr>\n",
        "      <th>Anal_Bioanal_Chem_Nucleic_Acids_Res</th>\n",
        "      <td>Anal_Bioanal_Chem</td>\n",
        "      <td>Nucleic_Acids_Res</td>\n",
        "      <td>37</td>\n",
        "    </tr>\n",
        "    <tr>\n",
        "      <th>Anal_Bioanal_Chem_PeerJ</th>\n",
        "      <td>Anal_Bioanal_Chem</td>\n",
        "      <td>PeerJ</td>\n",
        "      <td>36</td>\n",
        "    </tr>\n",
        "    <tr>\n",
        "      <th>Curr_Genomics_Front_Plant_Sci</th>\n",
        "      <td>Curr_Genomics</td>\n",
        "      <td>Front_Plant_Sci</td>\n",
        "      <td>45</td>\n",
        "    </tr>\n",
        "    <tr>\n",
        "      <th>Curr_Genomics_Plant_Methods</th>\n",
        "      <td>Curr_Genomics</td>\n",
        "      <td>Plant_Methods</td>\n",
        "      <td>34</td>\n",
        "    </tr>\n",
        "    <tr>\n",
        "      <th>ACS_Nano_Curr_Genomics</th>\n",
        "      <td>Curr_Genomics</td>\n",
        "      <td>ACS_Nano</td>\n",
        "      <td>16</td>\n",
        "    </tr>\n",
        "    <tr>\n",
        "      <th>Curr_Genomics_Nucleic_Acids_Res</th>\n",
        "      <td>Curr_Genomics</td>\n",
        "      <td>Nucleic_Acids_Res</td>\n",
        "      <td>150</td>\n",
        "    </tr>\n",
        "    <tr>\n",
        "      <th>Curr_Genomics_PeerJ</th>\n",
        "      <td>Curr_Genomics</td>\n",
        "      <td>PeerJ</td>\n",
        "      <td>144</td>\n",
        "    </tr>\n",
        "    <tr>\n",
        "      <th>J_Chem_Inf_Model_Nucleic_Acids_Res</th>\n",
        "      <td>J_Chem_Inf_Model</td>\n",
        "      <td>Nucleic_Acids_Res</td>\n",
        "      <td>16</td>\n",
        "    </tr>\n",
        "    <tr>\n",
        "      <th>J_Chem_Inf_Model_PeerJ</th>\n",
        "      <td>J_Chem_Inf_Model</td>\n",
        "      <td>PeerJ</td>\n",
        "      <td>16</td>\n",
        "    </tr>\n",
        "  </tbody>\n",
        "</table>\n",
        "<p>640 rows \u00d7 3 columns</p>\n",
        "</div>"
       ],
       "metadata": {},
       "output_type": "pyout",
       "prompt_number": 66,
       "text": [
        "                                                                       source  \\\n",
        "Front_Aging_Neurosci_Front_Neurosci                      Front_Aging_Neurosci   \n",
        "BMC_Genet_Front_Aging_Neurosci                           Front_Aging_Neurosci   \n",
        "Front_Aging_Neurosci_Sci_Data                            Front_Aging_Neurosci   \n",
        "Front_Aging_Neurosci_Iperception                         Front_Aging_Neurosci   \n",
        "Bioinformatics_Front_Aging_Neurosci                      Front_Aging_Neurosci   \n",
        "Front_Aging_Neurosci_J_Biomed_Semantics                  Front_Aging_Neurosci   \n",
        "Front_Aging_Neurosci_eLife                               Front_Aging_Neurosci   \n",
        "Front_Aging_Neurosci_Nat_Commun                          Front_Aging_Neurosci   \n",
        "Front_Aging_Neurosci_Front_Comput_Neurosci               Front_Aging_Neurosci   \n",
        "BMC_Genomics_Front_Aging_Neurosci                        Front_Aging_Neurosci   \n",
        "Front_Aging_Neurosci_Genome_Biol                         Front_Aging_Neurosci   \n",
        "Front_Aging_Neurosci_Mol_Syst_Biol                       Front_Aging_Neurosci   \n",
        "Front_Aging_Neurosci_Metabolomics                        Front_Aging_Neurosci   \n",
        "Front_Aging_Neurosci_Philos_Trans_R_Soc_Lond_B_...       Front_Aging_Neurosci   \n",
        "BMC_Bioinformatics_Front_Aging_Neurosci                  Front_Aging_Neurosci   \n",
        "Front_Aging_Neurosci_Gigascience                         Front_Aging_Neurosci   \n",
        "Front_Aging_Neurosci_J_Appl_Crystallogr                  Front_Aging_Neurosci   \n",
        "Front_Aging_Neurosci_Front_Neuroinform                   Front_Aging_Neurosci   \n",
        "Front_Aging_Neurosci_PLoS_One                            Front_Aging_Neurosci   \n",
        "Biomed_Res_Int_Front_Aging_Neurosci                      Front_Aging_Neurosci   \n",
        "Front_Aging_Neurosci_Sci_Rep                             Front_Aging_Neurosci   \n",
        "Front_Aging_Neurosci_Physiol_Rep                         Front_Aging_Neurosci   \n",
        "Front_Aging_Neurosci_PLoS_Genet                          Front_Aging_Neurosci   \n",
        "BMC_Microbiol_Front_Aging_Neurosci                       Front_Aging_Neurosci   \n",
        "BMC_Res_Notes_Front_Aging_Neurosci                       Front_Aging_Neurosci   \n",
        "Front_Aging_Neurosci_Genome_Med                          Front_Aging_Neurosci   \n",
        "Front_Aging_Neurosci_PLoS_Comput_Biol                    Front_Aging_Neurosci   \n",
        "Front_Aging_Neurosci_J_Cheminform                        Front_Aging_Neurosci   \n",
        "Front_Aging_Neurosci_Genome_Announc                      Front_Aging_Neurosci   \n",
        "Front_Aging_Neurosci_Front_Microbiol                     Front_Aging_Neurosci   \n",
        "...                                                                       ...   \n",
        "Appl_Plant_Sci_PLoS_Comput_Biol                                Appl_Plant_Sci   \n",
        "Epigenetics_Chromatin_PLoS_Comput_Biol                  Epigenetics_Chromatin   \n",
        "Health_Qual_Life_Outcomes_PLoS_Comput_Biol          Health_Qual_Life_Outcomes   \n",
        "Database_(Oxford)_Genome_Announc                            Database_(Oxford)   \n",
        "Database_(Oxford)_Front_Microbiol                           Database_(Oxford)   \n",
        "BMC_Evol_Biol_Database_(Oxford)                             Database_(Oxford)   \n",
        "Database_(Oxford)_Front_Genet                               Database_(Oxford)   \n",
        "Database_(Oxford)_Nucleic_Acids_Res                         Database_(Oxford)   \n",
        "Database_(Oxford)_PeerJ                                     Database_(Oxford)   \n",
        "BMC_Evol_Biol_J_Chem_Theory_Comput                       J_Chem_Theory_Comput   \n",
        "Front_Genet_J_Chem_Theory_Comput                         J_Chem_Theory_Comput   \n",
        "J_Chem_Theory_Comput_Nucleic_Acids_Res                   J_Chem_Theory_Comput   \n",
        "J_Chem_Theory_Comput_PeerJ                               J_Chem_Theory_Comput   \n",
        "BMC_Evol_Biol_Hum_Mutat                                             Hum_Mutat   \n",
        "Front_Bioeng_Biotechnol_Hum_Mutat                                   Hum_Mutat   \n",
        "Front_Genet_Hum_Mutat                                               Hum_Mutat   \n",
        "Hum_Mutat_Nucleic_Acids_Res                                         Hum_Mutat   \n",
        "Hum_Mutat_PeerJ                                                     Hum_Mutat   \n",
        "Anal_Bioanal_Chem_BMC_Evol_Biol                             Anal_Bioanal_Chem   \n",
        "Anal_Bioanal_Chem_Front_Bioeng_Biotechnol                   Anal_Bioanal_Chem   \n",
        "Anal_Bioanal_Chem_Front_Genet                               Anal_Bioanal_Chem   \n",
        "Anal_Bioanal_Chem_Nucleic_Acids_Res                         Anal_Bioanal_Chem   \n",
        "Anal_Bioanal_Chem_PeerJ                                     Anal_Bioanal_Chem   \n",
        "Curr_Genomics_Front_Plant_Sci                                   Curr_Genomics   \n",
        "Curr_Genomics_Plant_Methods                                     Curr_Genomics   \n",
        "ACS_Nano_Curr_Genomics                                          Curr_Genomics   \n",
        "Curr_Genomics_Nucleic_Acids_Res                                 Curr_Genomics   \n",
        "Curr_Genomics_PeerJ                                             Curr_Genomics   \n",
        "J_Chem_Inf_Model_Nucleic_Acids_Res                           J_Chem_Inf_Model   \n",
        "J_Chem_Inf_Model_PeerJ                                       J_Chem_Inf_Model   \n",
        "\n",
        "                                                                                target  \\\n",
        "Front_Aging_Neurosci_Front_Neurosci                                     Front_Neurosci   \n",
        "BMC_Genet_Front_Aging_Neurosci                                               BMC_Genet   \n",
        "Front_Aging_Neurosci_Sci_Data                                                 Sci_Data   \n",
        "Front_Aging_Neurosci_Iperception                                           Iperception   \n",
        "Bioinformatics_Front_Aging_Neurosci                                     Bioinformatics   \n",
        "Front_Aging_Neurosci_J_Biomed_Semantics                             J_Biomed_Semantics   \n",
        "Front_Aging_Neurosci_eLife                                                       eLife   \n",
        "Front_Aging_Neurosci_Nat_Commun                                             Nat_Commun   \n",
        "Front_Aging_Neurosci_Front_Comput_Neurosci                       Front_Comput_Neurosci   \n",
        "BMC_Genomics_Front_Aging_Neurosci                                         BMC_Genomics   \n",
        "Front_Aging_Neurosci_Genome_Biol                                           Genome_Biol   \n",
        "Front_Aging_Neurosci_Mol_Syst_Biol                                       Mol_Syst_Biol   \n",
        "Front_Aging_Neurosci_Metabolomics                                         Metabolomics   \n",
        "Front_Aging_Neurosci_Philos_Trans_R_Soc_Lond_B_...  Philos_Trans_R_Soc_Lond_B_Biol_Sci   \n",
        "BMC_Bioinformatics_Front_Aging_Neurosci                             BMC_Bioinformatics   \n",
        "Front_Aging_Neurosci_Gigascience                                           Gigascience   \n",
        "Front_Aging_Neurosci_J_Appl_Crystallogr                             J_Appl_Crystallogr   \n",
        "Front_Aging_Neurosci_Front_Neuroinform                               Front_Neuroinform   \n",
        "Front_Aging_Neurosci_PLoS_One                                                 PLoS_One   \n",
        "Biomed_Res_Int_Front_Aging_Neurosci                                     Biomed_Res_Int   \n",
        "Front_Aging_Neurosci_Sci_Rep                                                   Sci_Rep   \n",
        "Front_Aging_Neurosci_Physiol_Rep                                           Physiol_Rep   \n",
        "Front_Aging_Neurosci_PLoS_Genet                                             PLoS_Genet   \n",
        "BMC_Microbiol_Front_Aging_Neurosci                                       BMC_Microbiol   \n",
        "BMC_Res_Notes_Front_Aging_Neurosci                                       BMC_Res_Notes   \n",
        "Front_Aging_Neurosci_Genome_Med                                             Genome_Med   \n",
        "Front_Aging_Neurosci_PLoS_Comput_Biol                                 PLoS_Comput_Biol   \n",
        "Front_Aging_Neurosci_J_Cheminform                                         J_Cheminform   \n",
        "Front_Aging_Neurosci_Genome_Announc                                     Genome_Announc   \n",
        "Front_Aging_Neurosci_Front_Microbiol                                   Front_Microbiol   \n",
        "...                                                                                ...   \n",
        "Appl_Plant_Sci_PLoS_Comput_Biol                                       PLoS_Comput_Biol   \n",
        "Epigenetics_Chromatin_PLoS_Comput_Biol                                PLoS_Comput_Biol   \n",
        "Health_Qual_Life_Outcomes_PLoS_Comput_Biol                            PLoS_Comput_Biol   \n",
        "Database_(Oxford)_Genome_Announc                                        Genome_Announc   \n",
        "Database_(Oxford)_Front_Microbiol                                      Front_Microbiol   \n",
        "BMC_Evol_Biol_Database_(Oxford)                                          BMC_Evol_Biol   \n",
        "Database_(Oxford)_Front_Genet                                              Front_Genet   \n",
        "Database_(Oxford)_Nucleic_Acids_Res                                  Nucleic_Acids_Res   \n",
        "Database_(Oxford)_PeerJ                                                          PeerJ   \n",
        "BMC_Evol_Biol_J_Chem_Theory_Comput                                       BMC_Evol_Biol   \n",
        "Front_Genet_J_Chem_Theory_Comput                                           Front_Genet   \n",
        "J_Chem_Theory_Comput_Nucleic_Acids_Res                               Nucleic_Acids_Res   \n",
        "J_Chem_Theory_Comput_PeerJ                                                       PeerJ   \n",
        "BMC_Evol_Biol_Hum_Mutat                                                  BMC_Evol_Biol   \n",
        "Front_Bioeng_Biotechnol_Hum_Mutat                              Front_Bioeng_Biotechnol   \n",
        "Front_Genet_Hum_Mutat                                                      Front_Genet   \n",
        "Hum_Mutat_Nucleic_Acids_Res                                          Nucleic_Acids_Res   \n",
        "Hum_Mutat_PeerJ                                                                  PeerJ   \n",
        "Anal_Bioanal_Chem_BMC_Evol_Biol                                          BMC_Evol_Biol   \n",
        "Anal_Bioanal_Chem_Front_Bioeng_Biotechnol                      Front_Bioeng_Biotechnol   \n",
        "Anal_Bioanal_Chem_Front_Genet                                              Front_Genet   \n",
        "Anal_Bioanal_Chem_Nucleic_Acids_Res                                  Nucleic_Acids_Res   \n",
        "Anal_Bioanal_Chem_PeerJ                                                          PeerJ   \n",
        "Curr_Genomics_Front_Plant_Sci                                          Front_Plant_Sci   \n",
        "Curr_Genomics_Plant_Methods                                              Plant_Methods   \n",
        "ACS_Nano_Curr_Genomics                                                        ACS_Nano   \n",
        "Curr_Genomics_Nucleic_Acids_Res                                      Nucleic_Acids_Res   \n",
        "Curr_Genomics_PeerJ                                                              PeerJ   \n",
        "J_Chem_Inf_Model_Nucleic_Acids_Res                                   Nucleic_Acids_Res   \n",
        "J_Chem_Inf_Model_PeerJ                                                           PeerJ   \n",
        "\n",
        "                                                    value  \n",
        "Front_Aging_Neurosci_Front_Neurosci                    28  \n",
        "BMC_Genet_Front_Aging_Neurosci                         20  \n",
        "Front_Aging_Neurosci_Sci_Data                          41  \n",
        "Front_Aging_Neurosci_Iperception                       14  \n",
        "Bioinformatics_Front_Aging_Neurosci                    27  \n",
        "Front_Aging_Neurosci_J_Biomed_Semantics                16  \n",
        "Front_Aging_Neurosci_eLife                             45  \n",
        "Front_Aging_Neurosci_Nat_Commun                        33  \n",
        "Front_Aging_Neurosci_Front_Comput_Neurosci             18  \n",
        "BMC_Genomics_Front_Aging_Neurosci                      48  \n",
        "Front_Aging_Neurosci_Genome_Biol                       42  \n",
        "Front_Aging_Neurosci_Mol_Syst_Biol                     25  \n",
        "Front_Aging_Neurosci_Metabolomics                      22  \n",
        "Front_Aging_Neurosci_Philos_Trans_R_Soc_Lond_B_...     15  \n",
        "BMC_Bioinformatics_Front_Aging_Neurosci                99  \n",
        "Front_Aging_Neurosci_Gigascience                       19  \n",
        "Front_Aging_Neurosci_J_Appl_Crystallogr                37  \n",
        "Front_Aging_Neurosci_Front_Neuroinform                121  \n",
        "Front_Aging_Neurosci_PLoS_One                         182  \n",
        "Biomed_Res_Int_Front_Aging_Neurosci                    22  \n",
        "Front_Aging_Neurosci_Sci_Rep                           38  \n",
        "Front_Aging_Neurosci_Physiol_Rep                       14  \n",
        "Front_Aging_Neurosci_PLoS_Genet                        18  \n",
        "BMC_Microbiol_Front_Aging_Neurosci                     29  \n",
        "BMC_Res_Notes_Front_Aging_Neurosci                     16  \n",
        "Front_Aging_Neurosci_Genome_Med                        23  \n",
        "Front_Aging_Neurosci_PLoS_Comput_Biol                  86  \n",
        "Front_Aging_Neurosci_J_Cheminform                      15  \n",
        "Front_Aging_Neurosci_Genome_Announc                    26  \n",
        "Front_Aging_Neurosci_Front_Microbiol                   19  \n",
        "...                                                   ...  \n",
        "Appl_Plant_Sci_PLoS_Comput_Biol                        30  \n",
        "Epigenetics_Chromatin_PLoS_Comput_Biol                 33  \n",
        "Health_Qual_Life_Outcomes_PLoS_Comput_Biol             36  \n",
        "Database_(Oxford)_Genome_Announc                       18  \n",
        "Database_(Oxford)_Front_Microbiol                      14  \n",
        "BMC_Evol_Biol_Database_(Oxford)                        16  \n",
        "Database_(Oxford)_Front_Genet                          22  \n",
        "Database_(Oxford)_Nucleic_Acids_Res                    21  \n",
        "Database_(Oxford)_PeerJ                                20  \n",
        "BMC_Evol_Biol_J_Chem_Theory_Comput                     14  \n",
        "Front_Genet_J_Chem_Theory_Comput                       20  \n",
        "J_Chem_Theory_Comput_Nucleic_Acids_Res                 18  \n",
        "J_Chem_Theory_Comput_PeerJ                             18  \n",
        "BMC_Evol_Biol_Hum_Mutat                                22  \n",
        "Front_Bioeng_Biotechnol_Hum_Mutat                      16  \n",
        "Front_Genet_Hum_Mutat                                  32  \n",
        "Hum_Mutat_Nucleic_Acids_Res                            30  \n",
        "Hum_Mutat_PeerJ                                        28  \n",
        "Anal_Bioanal_Chem_BMC_Evol_Biol                        28  \n",
        "Anal_Bioanal_Chem_Front_Bioeng_Biotechnol              20  \n",
        "Anal_Bioanal_Chem_Front_Genet                          40  \n",
        "Anal_Bioanal_Chem_Nucleic_Acids_Res                    37  \n",
        "Anal_Bioanal_Chem_PeerJ                                36  \n",
        "Curr_Genomics_Front_Plant_Sci                          45  \n",
        "Curr_Genomics_Plant_Methods                            34  \n",
        "ACS_Nano_Curr_Genomics                                 16  \n",
        "Curr_Genomics_Nucleic_Acids_Res                       150  \n",
        "Curr_Genomics_PeerJ                                   144  \n",
        "J_Chem_Inf_Model_Nucleic_Acids_Res                     16  \n",
        "J_Chem_Inf_Model_PeerJ                                 16  \n",
        "\n",
        "[640 rows x 3 columns]"
       ]
      }
     ],
     "prompt_number": 66
    },
    {
     "cell_type": "markdown",
     "metadata": {},
     "source": [
      "[interactive plot](https://goo.gl/eFUe0i)"
     ]
    },
    {
     "cell_type": "code",
     "collapsed": false,
     "input": [
      "# Now let's visualize!\n",
      "import graphistry\n",
      "\n",
      "api_key = open(\".secret\",\"r\").readlines()[0].strip(\"\\n\")\n",
      "\n",
      "graphistry.register(key=api_key)\n",
      "\n",
      "plotter = graphistry.bind(source=\"source\", destination=\"target\")\n",
      "plotter.plot(funclinks)"
     ],
     "language": "python",
     "metadata": {},
     "outputs": [
      {
       "output_type": "stream",
       "stream": "stderr",
       "text": [
        "WARNING: Could not contact labs.graphistry.com. Are you connected to the Internet?\n"
       ]
      },
      {
       "html": [
        "\n",
        "            <iframe id=\"d388b25a-7cb2-4f89-ae2a-6bf0379e0484\" src=\"https://labs.graphistry.com/graph/graph.html?dataset=PyGraphistry/NL9D1011BX&type=vgraph&viztoken=4a75b1fcb493286aacc9653dd8ab63277a10746f&usertag=72805b68-pygraphistry-0.9.27&splashAfter=1461542944&info=true\"\n",
        "                    allowfullscreen=\"true\" webkitallowfullscreen=\"true\" mozallowfullscreen=\"true\"\n",
        "                    oallowfullscreen=\"true\" msallowfullscreen=\"true\"\n",
        "                    style=\"width:100%; height:500px; border: 1px solid #DDD\">\n",
        "            </iframe>\n",
        "        \n",
        "            <script>\n",
        "                $(\"#d388b25a-7cb2-4f89-ae2a-6bf0379e0484\").bind('mousewheel', function(e) {\n",
        "                e.preventDefault();\n",
        "                });\n",
        "            </script>\n",
        "        "
       ],
       "metadata": {},
       "output_type": "pyout",
       "prompt_number": 67,
       "text": [
        "<IPython.core.display.HTML at 0x7fad28abbb90>"
       ]
      }
     ],
     "prompt_number": 67
    },
    {
     "cell_type": "markdown",
     "metadata": {},
     "source": [
      "## A Methods Ontology\n",
      "What we need is to be able to parse a repo in any language, remove stop words and make an assessment of the functions used, and map those functions onto general purposes (e.g., machine learning, matrix decomposition, url parsing). This is why we need a methods ontology - different functions across languages are instances of particular method classes. For example, if we find a repo with methods intended for retrieving JSON data from a url, regardless of the language used, we would want to map this to a data retrieval task. We might then infer that the domains using functions of this class might be using publicly available data. \n",
      "\n",
      "What we must think about is how to determine this ontology. We would ideally want a data driven method.\n",
      "\n",
      "## Extending Repofish\n",
      "We would want to identify features of repos, perhaps language specific, and provide functions in repofish for extraction. Repofish should be able to handle parsing different repos and handling stopwords for different languages, as well as parsing meta data. Ideally, a researcher shoud be able to point repofish at any set of repos and easily extract features, or a high level description of the functions (classes) used, etc.\n",
      "\n",
      "## Parsing Repos Based on Extension\n",
      "Aside from the methods used and parsing the individual files, we could probably learn a lot simply by summarizing the domains / journals / keywords based on the extensions of the files they use. I would suspect some publications are heavy users of R (e.g., statistics and biology) and others are heavy in python (neuroimaging)."
     ]
    },
    {
     "cell_type": "code",
     "collapsed": false,
     "input": [],
     "language": "python",
     "metadata": {},
     "outputs": []
    }
   ],
   "metadata": {}
  }
 ]
}