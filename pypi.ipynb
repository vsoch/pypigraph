{
 "metadata": {
  "name": ""
 },
 "nbformat": 3,
 "nbformat_minor": 0,
 "worksheets": [
  {
   "cells": [
    {
     "cell_type": "code",
     "collapsed": false,
     "input": [
      "import graphistry\n",
      "import pandas\n",
      "\n",
      "links = pandas.read_csv('lesmiserables.csv')\n",
      "\n",
      "api_key = open(\".secret\",\"r\").readlines()[0].strip(\"\\n\")\n",
      "\n",
      "graphistry.register(key=api_key)\n",
      "\n",
      "plotter = graphistry.bind(source=\"source\", destination=\"target\")\n",
      "plotter.plot(links)"
     ],
     "language": "python",
     "metadata": {},
     "outputs": [
      {
       "output_type": "stream",
       "stream": "stderr",
       "text": [
        "WARNING: Could not contact labs.graphistry.com. Are you connected to the Internet?\n"
       ]
      },
      {
       "html": [
        "\n",
        "            <iframe id=\"0c0942bf-0ac5-4d0e-8e73-cf9019484baa\" src=\"https://labs.graphistry.com/graph/graph.html?dataset=PyGraphistry/P9JI14RWZO&type=vgraph&viztoken=119fa0c9492779f3235e98044aaa17dae7bf20f6&usertag=72805b68-pygraphistry-0.9.27&splashAfter=1461368049&info=true\"\n",
        "                    allowfullscreen=\"true\" webkitallowfullscreen=\"true\" mozallowfullscreen=\"true\"\n",
        "                    oallowfullscreen=\"true\" msallowfullscreen=\"true\"\n",
        "                    style=\"width:100%; height:500px; border: 1px solid #DDD\">\n",
        "            </iframe>\n",
        "        \n",
        "            <script>\n",
        "                $(\"#0c0942bf-0ac5-4d0e-8e73-cf9019484baa\").bind('mousewheel', function(e) {\n",
        "                e.preventDefault();\n",
        "                });\n",
        "            </script>\n",
        "        "
       ],
       "metadata": {},
       "output_type": "pyout",
       "prompt_number": 1,
       "text": [
        "<IPython.core.display.HTML at 0x7f610c08df50>"
       ]
      }
     ],
     "prompt_number": 1
    },
    {
     "cell_type": "code",
     "collapsed": false,
     "input": [],
     "language": "python",
     "metadata": {},
     "outputs": []
    }
   ],
   "metadata": {}
  }
 ]
}