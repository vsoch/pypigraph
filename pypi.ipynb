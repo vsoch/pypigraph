{
 "metadata": {
  "name": ""
 },
 "nbformat": 3,
 "nbformat_minor": 0,
 "worksheets": [
  {
   "cells": [
    {
     "cell_type": "code",
     "collapsed": false,
     "input": [
      "import graphistry\n",
      "import pandas\n",
      "\n",
      "links = pandas.read_csv('pypi.csv')\n",
      "\n",
      "api_key = open(\".secret\",\"r\").readlines()[0].strip(\"\\n\")\n",
      "\n",
      "graphistry.register(key=api_key)\n",
      "\n",
      "plotter = graphistry.bind(source=\"source\", destination=\"target\")\n",
      "plotter.plot(links)"
     ],
     "language": "python",
     "metadata": {},
     "outputs": [
      {
       "output_type": "stream",
       "stream": "stderr",
       "text": [
        "WARNING: Could not contact labs.graphistry.com. Are you connected to the Internet?\n"
       ]
      },
      {
       "html": [
        "\n",
        "            <iframe id=\"8e059c69-3e05-481a-98ad-c06f3f309a0f\" src=\"https://labs.graphistry.com/graph/graph.html?dataset=PyGraphistry/WWEM9C9GP6&type=vgraph&viztoken=fcc371749aa7182d19cbe6d017652f7e95d272e6&usertag=72805b68-pygraphistry-0.9.27&splashAfter=1461450887&info=true\"\n",
        "                    allowfullscreen=\"true\" webkitallowfullscreen=\"true\" mozallowfullscreen=\"true\"\n",
        "                    oallowfullscreen=\"true\" msallowfullscreen=\"true\"\n",
        "                    style=\"width:100%; height:500px; border: 1px solid #DDD\">\n",
        "            </iframe>\n",
        "        \n",
        "            <script>\n",
        "                $(\"#8e059c69-3e05-481a-98ad-c06f3f309a0f\").bind('mousewheel', function(e) {\n",
        "                e.preventDefault();\n",
        "                });\n",
        "            </script>\n",
        "        "
       ],
       "metadata": {},
       "output_type": "pyout",
       "prompt_number": 1,
       "text": [
        "<IPython.core.display.HTML at 0x7f0f9b59fe90>"
       ]
      }
     ],
     "prompt_number": 1
    },
    {
     "cell_type": "code",
     "collapsed": false,
     "input": [],
     "language": "python",
     "metadata": {},
     "outputs": []
    }
   ],
   "metadata": {}
  }
 ]
}